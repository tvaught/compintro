{
 "cells": [
  {
   "cell_type": "markdown",
   "metadata": {},
   "source": [
    "# GPIO More LEDs!"
   ]
  },
  {
   "cell_type": "markdown",
   "metadata": {},
   "source": [
    "First order of business is to import some libraries to help send/receive signals to/from the GPIO pins of the Raspberry Pi."
   ]
  },
  {
   "cell_type": "code",
   "execution_count": 1,
   "metadata": {
    "collapsed": true
   },
   "outputs": [],
   "source": [
    "import RPi.GPIO as GPIO\n",
    "import time"
   ]
  },
  {
   "cell_type": "markdown",
   "metadata": {},
   "source": [
    "The following code will set the mode to a Broadcom pin layout (which seems to be what we want), and set up our GPIO pin 25 as an output pin."
   ]
  },
  {
   "cell_type": "code",
   "execution_count": 22,
   "metadata": {
    "collapsed": true
   },
   "outputs": [],
   "source": [
    "GPIO.setmode(GPIO.BCM)\n",
    "outpin = 25\n",
    "GPIO.setup(outpin, GPIO.OUT)"
   ]
  },
  {
   "cell_type": "markdown",
   "metadata": {},
   "source": [
    "## Lighting an LED (to test our connection)"
   ]
  },
  {
   "cell_type": "code",
   "execution_count": 23,
   "metadata": {
    "collapsed": true
   },
   "outputs": [],
   "source": [
    "GPIO.output(outpin, True)  # Let there be light"
   ]
  },
  {
   "cell_type": "code",
   "execution_count": 24,
   "metadata": {
    "collapsed": true
   },
   "outputs": [],
   "source": [
    "GPIO.output(outpin, False)  # Turn it off"
   ]
  },
  {
   "cell_type": "markdown",
   "metadata": {},
   "source": [
    "## SOS example"
   ]
  },
  {
   "cell_type": "code",
   "execution_count": 25,
   "metadata": {
    "collapsed": true
   },
   "outputs": [],
   "source": [
    "timeunit  = 0.1\n",
    "dashtime  = timeunit*3.0\n",
    "dottime   = timeunit\n",
    "dotgap    = timeunit\n",
    "lettergap = timeunit*2.0\n",
    "wordgap   = timeunit*7.0"
   ]
  },
  {
   "cell_type": "code",
   "execution_count": 26,
   "metadata": {
    "collapsed": true
   },
   "outputs": [],
   "source": [
    "GPIO.output(outpin, False) # start with the LED off\n",
    "time.sleep(1.0)\n",
    "\n",
    "for i in range(0,2):  # SOS, the hard way...\n",
    "    GPIO.output(outpin, True)\n",
    "    time.sleep(dottime)\n",
    "    GPIO.output(outpin, False)\n",
    "    time.sleep(dotgap)\n",
    "    GPIO.output(outpin, True)\n",
    "    time.sleep(dottime)\n",
    "    GPIO.output(outpin, False)\n",
    "    time.sleep(dotgap)\n",
    "    GPIO.output(outpin, True)\n",
    "    time.sleep(dottime)\n",
    "    GPIO.output(outpin, False)\n",
    "    time.sleep(lettergap)\n",
    "    GPIO.output(outpin, True)\n",
    "    time.sleep(dashtime)\n",
    "    GPIO.output(outpin, False)\n",
    "    time.sleep(dotgap)\n",
    "    GPIO.output(outpin, True)\n",
    "    time.sleep(dashtime)\n",
    "    GPIO.output(outpin, False)\n",
    "    time.sleep(dotgap)\n",
    "    GPIO.output(outpin, True)\n",
    "    time.sleep(dashtime)\n",
    "    GPIO.output(outpin, False)\n",
    "    time.sleep(lettergap)\n",
    "    GPIO.output(outpin, True)\n",
    "    time.sleep(dottime)\n",
    "    GPIO.output(outpin, False)\n",
    "    time.sleep(dotgap)\n",
    "    GPIO.output(outpin, True)\n",
    "    time.sleep(dottime)\n",
    "    GPIO.output(outpin, False)\n",
    "    time.sleep(dotgap)\n",
    "    GPIO.output(outpin, True)\n",
    "    time.sleep(dottime)\n",
    "    GPIO.output(outpin, False)\n",
    "    time.sleep(wordgap)"
   ]
  },
  {
   "cell_type": "code",
   "execution_count": 27,
   "metadata": {
    "collapsed": true
   },
   "outputs": [],
   "source": [
    "morsedict = {\n",
    "        'A': '.-',\n",
    "        'B': '-...',\n",
    "        'C': '-.-.',\n",
    "        'D': '-..',\n",
    "        'E': '.',\n",
    "        'F': '..-.',\n",
    "        'G': '--.',\n",
    "        'H': '....',\n",
    "        'I': '..',\n",
    "        'J': '.---',\n",
    "        'K': '-.-',\n",
    "        'L': '.-..',\n",
    "        'M': '--',\n",
    "        'N': '-.',\n",
    "        'O': '---',\n",
    "        'P': '.--.',\n",
    "        'Q': '--.-',\n",
    "        'R': '.-.',\n",
    "        'S': '...',\n",
    "        'T': '-',\n",
    "        'U': '..-',\n",
    "        'V': '...-',\n",
    "        'W': '.--',\n",
    "        'X': '-..-',\n",
    "        'Y': '-.--',\n",
    "        'Z': '--..',\n",
    "        '0': '-----',\n",
    "        '1': '.----',\n",
    "        '2': '..---',\n",
    "        '3': '...--',\n",
    "        '4': '....-',\n",
    "        '5': '.....',\n",
    "        '6': '-....',\n",
    "        '7': '--...',\n",
    "        '8': '---..',\n",
    "        '9': '----.',           \n",
    "        ' ': ' ',\n",
    "        ',': '--..--',\n",
    "        '.': '.-.-.-',\n",
    "        '?': '..--..',\n",
    "        ';': '-.-.-.',\n",
    "        ':': '---...',\n",
    "        \"'\": '.----.',\n",
    "        '-': '-....-',\n",
    "        '/': '-..-.',\n",
    "        '(': '-.--.-',\n",
    "        ')': '-.--.-',\n",
    "        '_': '..--.-',  \n",
    "    }\n",
    "\n",
    "dotdashmap = {\".\": dottime, \"-\": dashtime, \" \": wordgap}"
   ]
  },
  {
   "cell_type": "code",
   "execution_count": 28,
   "metadata": {
    "collapsed": true
   },
   "outputs": [],
   "source": [
    "def blink_letter(letter):\n",
    "    for s in morsedict[letter.upper()]:\n",
    "        GPIO.output(outpin, True)\n",
    "        time.sleep(dotdashmap[s])\n",
    "        GPIO.output(outpin, False)\n",
    "        time.sleep(dotgap)\n",
    "    time.sleep(lettergap)  # end of letter time gap (for a total of 3x the dot unit.)"
   ]
  },
  {
   "cell_type": "markdown",
   "metadata": {},
   "source": [
    "Let's break this down a bit before we see what happens when we call this function."
   ]
  },
  {
   "cell_type": "code",
   "execution_count": 29,
   "metadata": {
    "collapsed": true
   },
   "outputs": [],
   "source": [
    "s = \"q\""
   ]
  },
  {
   "cell_type": "code",
   "execution_count": 30,
   "metadata": {},
   "outputs": [
    {
     "data": {
      "text/plain": [
       "'Q'"
      ]
     },
     "execution_count": 30,
     "metadata": {},
     "output_type": "execute_result"
    }
   ],
   "source": [
    "s.upper()"
   ]
  },
  {
   "cell_type": "code",
   "execution_count": 31,
   "metadata": {},
   "outputs": [
    {
     "data": {
      "text/plain": [
       "'---'"
      ]
     },
     "execution_count": 31,
     "metadata": {},
     "output_type": "execute_result"
    }
   ],
   "source": [
    "morsedict['O']"
   ]
  },
  {
   "cell_type": "code",
   "execution_count": 32,
   "metadata": {},
   "outputs": [
    {
     "data": {
      "text/plain": [
       "0.30000000000000004"
      ]
     },
     "execution_count": 32,
     "metadata": {},
     "output_type": "execute_result"
    }
   ],
   "source": [
    "dotdashmap['-']"
   ]
  },
  {
   "cell_type": "code",
   "execution_count": 33,
   "metadata": {
    "collapsed": true
   },
   "outputs": [],
   "source": [
    "blink_letter('o')"
   ]
  },
  {
   "cell_type": "code",
   "execution_count": 34,
   "metadata": {
    "collapsed": true
   },
   "outputs": [],
   "source": [
    "def blink_message(message):\n",
    "    for letter in message:\n",
    "        blink_letter(letter)"
   ]
  },
  {
   "cell_type": "code",
   "execution_count": 35,
   "metadata": {
    "collapsed": true
   },
   "outputs": [],
   "source": [
    "blink_message(\"Hello\")"
   ]
  },
  {
   "cell_type": "code",
   "execution_count": 36,
   "metadata": {
    "collapsed": true
   },
   "outputs": [],
   "source": [
    "GPIO.cleanup()"
   ]
  },
  {
   "cell_type": "code",
   "execution_count": null,
   "metadata": {
    "collapsed": true
   },
   "outputs": [],
   "source": []
  }
 ],
 "metadata": {
  "kernelspec": {
   "display_name": "Python 2",
   "language": "python",
   "name": "python2"
  },
  "language_info": {
   "codemirror_mode": {
    "name": "ipython",
    "version": 2
   },
   "file_extension": ".py",
   "mimetype": "text/x-python",
   "name": "python",
   "nbconvert_exporter": "python",
   "pygments_lexer": "ipython2",
   "version": "2.7.9"
  }
 },
 "nbformat": 4,
 "nbformat_minor": 1
}
