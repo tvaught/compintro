{
 "cells": [
  {
   "cell_type": "markdown",
   "metadata": {},
   "source": [
    "# Camera Explorer"
   ]
  },
  {
   "cell_type": "code",
   "execution_count": 1,
   "metadata": {
    "collapsed": true
   },
   "outputs": [],
   "source": [
    "from picamera import PiCamera, Color\n",
    "from time import sleep\n",
    "\n",
    "camera = PiCamera()"
   ]
  },
  {
   "cell_type": "markdown",
   "metadata": {},
   "source": [
    "Set the camera to take a bit smaller photos (lower resolution). This will make our image processing a bit faster."
   ]
  },
  {
   "cell_type": "code",
   "execution_count": 2,
   "metadata": {
    "collapsed": true
   },
   "outputs": [],
   "source": [
    "camera.resolution = (480, 320)\n",
    "camera.vflip = True\n",
    "camera.hflip = True"
   ]
  },
  {
   "cell_type": "code",
   "execution_count": 3,
   "metadata": {
    "collapsed": true
   },
   "outputs": [],
   "source": [
    "camera.start_preview()\n",
    "camera.annotate_foreground = Color('white')\n",
    "camera.annotate_text = \"Colorswap Effect\"\n",
    "camera.annotate_text_size = 10\n",
    "camera.image_effect = 'colorswap'\n",
    "sleep(2)\n",
    "camera.capture('img/colorswap.jpg')\n",
    "camera.stop_preview()"
   ]
  },
  {
   "cell_type": "markdown",
   "metadata": {},
   "source": [
    "One can see all the available effects by listing the camera EFFECTS"
   ]
  },
  {
   "cell_type": "code",
   "execution_count": 4,
   "metadata": {},
   "outputs": [
    {
     "data": {
      "text/plain": [
       "{u'blur': 15,\n",
       " u'cartoon': 22,\n",
       " u'colorbalance': 21,\n",
       " u'colorpoint': 20,\n",
       " u'colorswap': 17,\n",
       " u'deinterlace1': 23,\n",
       " u'deinterlace2': 24,\n",
       " u'denoise': 7,\n",
       " u'emboss': 8,\n",
       " u'film': 14,\n",
       " u'gpen': 11,\n",
       " u'hatch': 10,\n",
       " u'negative': 1,\n",
       " u'none': 0,\n",
       " u'oilpaint': 9,\n",
       " u'pastel': 12,\n",
       " u'posterise': 19,\n",
       " u'saturation': 16,\n",
       " u'sketch': 6,\n",
       " u'solarize': 2,\n",
       " u'washedout': 18,\n",
       " u'watercolor': 13}"
      ]
     },
     "execution_count": 4,
     "metadata": {},
     "output_type": "execute_result"
    }
   ],
   "source": [
    "camera.IMAGE_EFFECTS"
   ]
  },
  {
   "cell_type": "markdown",
   "metadata": {},
   "source": [
    "Let's just loop through some interesting ones:"
   ]
  },
  {
   "cell_type": "code",
   "execution_count": 5,
   "metadata": {
    "collapsed": true
   },
   "outputs": [],
   "source": [
    "camera.start_preview()\n",
    "sleep(2)\n",
    "cool_effects = ['none', 'watercolor', 'negative', 'emboss', 'washedout', 'solarize', 'oilpaint', 'sketch']\n",
    "for effect in cool_effects:\n",
    "    camera.image_effect = effect\n",
    "    camera.annotate_text = \"Effect: %s\" % effect\n",
    "    camera.capture('img/effect-%s.jpg' % effect)\n",
    "    sleep(1)\n",
    "camera.stop_preview()"
   ]
  },
  {
   "cell_type": "markdown",
   "metadata": {},
   "source": [
    "Let's grab a few more photos to do some work on.  Try to move in the frame as these are taken."
   ]
  },
  {
   "cell_type": "code",
   "execution_count": null,
   "metadata": {
    "collapsed": true
   },
   "outputs": [],
   "source": [
    "camera.start_preview()\n",
    "sleep(2)\n",
    "camera.image_effect = 'none'\n",
    "camera.annotate_text = \"\"\n",
    "for i in range(3):\n",
    "    camera.capture('img/frame-%s.jpg' % i)\n",
    "    sleep(2)\n",
    "camera.stop_preview()"
   ]
  },
  {
   "cell_type": "markdown",
   "metadata": {},
   "source": [
    "Now we'll clean up our camera object..."
   ]
  },
  {
   "cell_type": "code",
   "execution_count": 6,
   "metadata": {
    "collapsed": true
   },
   "outputs": [],
   "source": [
    "camera.close()"
   ]
  },
  {
   "cell_type": "code",
   "execution_count": null,
   "metadata": {
    "collapsed": true
   },
   "outputs": [],
   "source": []
  }
 ],
 "metadata": {
  "kernelspec": {
   "display_name": "Python 2",
   "language": "python",
   "name": "python2"
  },
  "language_info": {
   "codemirror_mode": {
    "name": "ipython",
    "version": 2
   },
   "file_extension": ".py",
   "mimetype": "text/x-python",
   "name": "python",
   "nbconvert_exporter": "python",
   "pygments_lexer": "ipython2",
   "version": "2.7.9"
  }
 },
 "nbformat": 4,
 "nbformat_minor": 1
}
