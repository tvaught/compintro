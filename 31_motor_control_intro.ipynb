{
 "cells": [
  {
   "cell_type": "markdown",
   "metadata": {},
   "source": [
    "# Simple Motor Control"
   ]
  },
  {
   "cell_type": "markdown",
   "metadata": {},
   "source": [
    "**Note: The wiring for this is very important.  Please double-check your connections before proceeding.**"
   ]
  },
  {
   "cell_type": "code",
   "execution_count": null,
   "metadata": {
    "collapsed": true
   },
   "outputs": [],
   "source": [
    "# Import GPIO Libraries\n",
    "import RPi.GPIO as GPIO\n",
    "import time"
   ]
  },
  {
   "cell_type": "markdown",
   "metadata": {},
   "source": [
    "The pin configuration is dependent on the motor and wiring setup.  The following code works for my current wiring setup with two motors and controllers (12V stepper motors and L293D H-Bridge driven with an 8 AA battery pack)"
   ]
  },
  {
   "cell_type": "code",
   "execution_count": null,
   "metadata": {},
   "outputs": [],
   "source": [
    "GPIO.setmode(GPIO.BCM)\n",
    "\n",
    "coil_A_1_pin = 4\n",
    "coil_A_2_pin = 5\n",
    "coil_B_1_pin = 20\n",
    "coil_B_2_pin = 21\n",
    "\n",
    "GPIO.setup(coil_A_1_pin, GPIO.OUT)\n",
    "GPIO.setup(coil_A_2_pin, GPIO.OUT)\n",
    "GPIO.setup(coil_B_1_pin, GPIO.OUT)\n",
    "GPIO.setup(coil_B_2_pin, GPIO.OUT)\n",
    "\n",
    "reverse_seq = ['1010', '0110', '0101', '1001']\n",
    "reverse_seq = [ '0101', '0110','1010', '1001']\n",
    "#reverse_seq = [ '1000','0010', '0100', '0001']\n",
    "#reverse_seq = ['1100', '1010', '0110', '0101', '0011', '1010', '1001', '0101']\n",
    "forward_seq = list(reverse_seq) # to copy the list\n",
    "forward_seq.reverse()"
   ]
  },
  {
   "cell_type": "code",
   "execution_count": null,
   "metadata": {
    "collapsed": true
   },
   "outputs": [],
   "source": [
    "def motor_forward(delay, steps):\n",
    "    for i in range(steps):\n",
    "        for step in forward_seq:\n",
    "            motor_set_step(step)\n",
    "            time.sleep(delay)\n",
    "\n",
    "def motor_backwards(delay, steps):\n",
    "    for i in range(steps):\n",
    "        for step in reverse_seq:\n",
    "            motor_set_step(step)\n",
    "            time.sleep(delay)\n",
    "\n",
    "\n",
    "def motor_set_step(step):\n",
    "    GPIO.output(coil_A_1_pin, step[0] == '1')\n",
    "    GPIO.output(coil_A_2_pin, step[1] == '1')\n",
    "    GPIO.output(coil_B_1_pin, step[2] == '1')\n",
    "    GPIO.output(coil_B_2_pin, step[3] == '1')"
   ]
  },
  {
   "cell_type": "code",
   "execution_count": null,
   "metadata": {},
   "outputs": [],
   "source": [
    "motor_set_step('0000')\n",
    "\n",
    "delay = 5 # Time Delay (ms)\n",
    "steps = 50\n",
    "\n",
    "motor_forward(int(delay) / 1000.0, int(steps))\n",
    "\n",
    "motor_backwards(int(delay) / 1000.0, int(steps))\n",
    "\n",
    "# release the motor from a 'hold' position\n",
    "motor_set_step('0000')"
   ]
  },
  {
   "cell_type": "code",
   "execution_count": null,
   "metadata": {
    "collapsed": true
   },
   "outputs": [],
   "source": []
  },
  {
   "cell_type": "code",
   "execution_count": null,
   "metadata": {
    "collapsed": true
   },
   "outputs": [],
   "source": [
    "GPIO.cleanup()"
   ]
  },
  {
   "cell_type": "code",
   "execution_count": null,
   "metadata": {
    "collapsed": true
   },
   "outputs": [],
   "source": []
  }
 ],
 "metadata": {
  "kernelspec": {
   "display_name": "Python 2",
   "language": "python",
   "name": "python2"
  },
  "language_info": {
   "codemirror_mode": {
    "name": "ipython",
    "version": 2
   },
   "file_extension": ".py",
   "mimetype": "text/x-python",
   "name": "python",
   "nbconvert_exporter": "python",
   "pygments_lexer": "ipython2",
   "version": "2.7.9"
  }
 },
 "nbformat": 4,
 "nbformat_minor": 1
}
