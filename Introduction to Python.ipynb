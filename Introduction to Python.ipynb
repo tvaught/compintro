{
 "cells": [
  {
   "cell_type": "markdown",
   "metadata": {},
   "source": [
    "# Introduction to Python"
   ]
  },
  {
   "cell_type": "markdown",
   "metadata": {},
   "source": [
    "## Simple Expressions / Variable Assignment"
   ]
  },
  {
   "cell_type": "markdown",
   "metadata": {},
   "source": [
    "The Python interpreter, which is being used to parse and execute each of these lines, can do math like a calculator:"
   ]
  },
  {
   "cell_type": "code",
   "execution_count": null,
   "metadata": {
    "collapsed": false
   },
   "outputs": [],
   "source": [
    "2+2"
   ]
  },
  {
   "cell_type": "markdown",
   "metadata": {},
   "source": [
    "Another several examples: I'll use the \"print\" statement to print out the result for each calculation (if I didn't do this, it would just *output* the result of the last expression):"
   ]
  },
  {
   "cell_type": "code",
   "execution_count": null,
   "metadata": {
    "collapsed": false
   },
   "outputs": [],
   "source": [
    "print 2*3\n",
    "print (4+6)*(2+9)  # should calculate to 110\n",
    "print 12.0/11.0"
   ]
  },
  {
   "cell_type": "markdown",
   "metadata": {},
   "source": [
    "One major difference between using a calculator and doing calculations on the computer is that there are a couple of *types* of numbers -- *integers* and *floating point* values.  You can think of *integers* as whole numbers and *floats* (as floating point values are called) as supporting a decimal or fractional part of the value.  This shows up sometimes is odd behavior with division."
   ]
  },
  {
   "cell_type": "code",
   "execution_count": null,
   "metadata": {
    "collapsed": false
   },
   "outputs": [],
   "source": [
    "print(5/3)     # Integer division gives a 'floor' value (rounding down, basically).\n",
    "print(5.0/3.0) # Dividing floats (usually) gives the expected answer.\n",
    "print(5.0/3)   # The interpreter uses the more complex type to infer the type for the result.\n",
    "print(5/3.0)   # The order for type \"upcasting\" doesn't matter"
   ]
  },
  {
   "cell_type": "markdown",
   "metadata": {},
   "source": [
    "Let's look at another example of *float* math:"
   ]
  },
  {
   "cell_type": "code",
   "execution_count": null,
   "metadata": {
    "collapsed": false
   },
   "outputs": [],
   "source": [
    "0.1 + 0.2"
   ]
  },
  {
   "cell_type": "markdown",
   "metadata": {},
   "source": [
    "**Wat ?!?!** There are occasionally precision issues because of the way floating point values work.  It's actually an interesting abstraction (feel free to study a more detailed explanation of how [IEEE Floats](http://steve.hollasch.net/cgindex/coding/ieeefloat.html) work). This is a good example of how abstractions can 'leak' (more on this later).  A good explanation of how this affects Python is [here](https://docs.python.org/2/tutorial/floatingpoint.html).  For our purposes, this really doesn't matter.  Just a curiosity, so, moving right along..."
   ]
  },
  {
   "cell_type": "code",
   "execution_count": null,
   "metadata": {
    "collapsed": true
   },
   "outputs": [],
   "source": [
    "a = 5"
   ]
  },
  {
   "cell_type": "code",
   "execution_count": null,
   "metadata": {
    "collapsed": false
   },
   "outputs": [],
   "source": [
    "print a"
   ]
  },
  {
   "cell_type": "markdown",
   "metadata": {},
   "source": [
    "This may not seem very exciting at first, but variables are an important part of programming.  It's good to know that you can use them in Python."
   ]
  },
  {
   "cell_type": "code",
   "execution_count": null,
   "metadata": {
    "collapsed": false
   },
   "outputs": [],
   "source": [
    "y = x**2 - 3*x + 12  # just like in algebra, right?"
   ]
  },
  {
   "cell_type": "markdown",
   "metadata": {},
   "source": [
    "*I know `x` isn't defined.  Isn't that what a variable is?*  Not exactly...  More on this error stuff later.  Try this:"
   ]
  },
  {
   "cell_type": "code",
   "execution_count": null,
   "metadata": {
    "collapsed": false
   },
   "outputs": [],
   "source": [
    "x = 10\n",
    "y = x**2 - 3*x + 12\n",
    "print y"
   ]
  },
  {
   "cell_type": "code",
   "execution_count": null,
   "metadata": {
    "collapsed": true
   },
   "outputs": [],
   "source": []
  },
  {
   "cell_type": "markdown",
   "metadata": {},
   "source": [
    "So, the variables on the right side of the *equals* sign have to already be assigned a value.  Otherwise, the interpreter tries to evaluate the right side and assign it to the left side.\n",
    "\n",
    "This might not seem particularly useful until you see how to use looping.  Also, math on arrays of values really shows how cool this is.  Check this out..."
   ]
  },
  {
   "cell_type": "code",
   "execution_count": null,
   "metadata": {
    "collapsed": true
   },
   "outputs": [],
   "source": [
    "import numpy as np   # the python array-math library\n",
    "x = np.arange(0.0, 2*np.pi, 0.01) # make an array of numbers from 0 to 2π with a number every 0.01.\n",
    "y = np.sin(x)"
   ]
  },
  {
   "cell_type": "code",
   "execution_count": null,
   "metadata": {
    "collapsed": false
   },
   "outputs": [],
   "source": [
    "print \"The length of x is: %s\" % (len(x))\n",
    "print \"The length of y is: %s\" % (len(y))\n",
    "print \"The first 5 values in the x array are:\\n%s\" % x[0:5]\n",
    "print \"The first 5 values in the y array are:\\n%s\" % y[0:5]"
   ]
  },
  {
   "cell_type": "code",
   "execution_count": null,
   "metadata": {
    "collapsed": false
   },
   "outputs": [],
   "source": [
    "# this imports some plotting stuff we'll use\n",
    "from bokeh.plotting import output_notebook\n",
    "output_notebook()\n",
    "from bokeh.plotting import figure, show"
   ]
  },
  {
   "cell_type": "code",
   "execution_count": null,
   "metadata": {
    "collapsed": false
   },
   "outputs": [],
   "source": [
    "p = figure(title=\"Sine Example\")\n",
    "p.line(x, y)\n",
    "show(p)"
   ]
  },
  {
   "cell_type": "markdown",
   "metadata": {
    "collapsed": true
   },
   "source": [
    "That's cool.  Now let's get back to something we tried earlier.  Remember that expression `y = x**2 - 3*x + 12` ?  In algebra, that's actually a function.  In Python (and just about every other language) we have the concept of functions as well.  The keyword `def` is used the *def*ine a function in Python:"
   ]
  },
  {
   "cell_type": "code",
   "execution_count": null,
   "metadata": {
    "collapsed": true
   },
   "outputs": [],
   "source": [
    "def f(x):\n",
    "    return x**2 - 3*x + 12"
   ]
  },
  {
   "cell_type": "markdown",
   "metadata": {},
   "source": [
    "So, now you can evaluate the function by handing it a value, or *parameter* (in this case, we've called it `x`)."
   ]
  },
  {
   "cell_type": "code",
   "execution_count": null,
   "metadata": {
    "collapsed": false
   },
   "outputs": [],
   "source": [
    "f(3)"
   ]
  },
  {
   "cell_type": "markdown",
   "metadata": {},
   "source": [
    "So earlier, we assigned the value [0.0, 0.01, 0.02 ...] to the symbol `x`.  (I'm starting to use the more official names for things here.)  What happens if we pass that symbol into the function `f`?"
   ]
  },
  {
   "cell_type": "code",
   "execution_count": null,
   "metadata": {
    "collapsed": false
   },
   "outputs": [],
   "source": [
    "print x[:5]  # just to be clear that in the scope of this notebook, the symbol x is defined"
   ]
  },
  {
   "cell_type": "code",
   "execution_count": null,
   "metadata": {
    "collapsed": false
   },
   "outputs": [],
   "source": [
    "print f(x)[:5]  # only show the first 5 entries"
   ]
  },
  {
   "cell_type": "markdown",
   "metadata": {},
   "source": [
    " %% **boom** %%   Mind.  Blown.\n",
    " \n",
    " So, I'm dying to see what this looks like:"
   ]
  },
  {
   "cell_type": "code",
   "execution_count": null,
   "metadata": {
    "collapsed": false
   },
   "outputs": [],
   "source": [
    "p2 = figure()\n",
    "p2.line(x, f(x))\n",
    "p2_nbh = show(p2)"
   ]
  },
  {
   "cell_type": "markdown",
   "metadata": {},
   "source": [
    "This is pretty math-y, what else can functions do?\n",
    "\n",
    "Well, they can do anything you tell them..."
   ]
  },
  {
   "cell_type": "code",
   "execution_count": null,
   "metadata": {
    "collapsed": false
   },
   "outputs": [],
   "source": [
    "import random\n",
    "def headache(name, number_of_repeats=5):\n",
    "    \"\"\" a pretty useless function \"\"\"\n",
    "    namelist = list(name)\n",
    "    for i in range(0, number_of_repeats):\n",
    "        random.shuffle(namelist)\n",
    "        for letter in namelist:\n",
    "            print letter, "
   ]
  },
  {
   "cell_type": "code",
   "execution_count": null,
   "metadata": {
    "collapsed": false
   },
   "outputs": [],
   "source": [
    "headache(\"travis\", 40)"
   ]
  },
  {
   "cell_type": "markdown",
   "metadata": {
    "collapsed": false
   },
   "source": [
    "Dance Card Example\n",
    "==================\n",
    "Given a list of gentlemen and ladies, produce a list of partners for 8 dances for each of the dancers.\n"
   ]
  },
  {
   "cell_type": "markdown",
   "metadata": {
    "collapsed": true
   },
   "source": [
    "<img src=\"img/cotillion2014.jpg\">"
   ]
  },
  {
   "cell_type": "markdown",
   "metadata": {},
   "source": [
    "Approach\n",
    "--------\n",
    "Use a simple random assortment, and rotate the list for each of the 8 dances."
   ]
  },
  {
   "cell_type": "code",
   "execution_count": null,
   "metadata": {
    "collapsed": true
   },
   "outputs": [],
   "source": [
    "# comments are preceeded by a pound sign (this line is a comment)\n",
    "# a python list is surrounded by backets, [ ], and is separated by commas\n",
    "# manually assign the gentlemen's names:\n",
    "gentlemen = [\n",
    "    \"Marshall Ruddock\",\n",
    "    \"Emile Malsam\",\n",
    "    \"Lloyd Summerlin\",\n",
    "    \"Vern Pagaduan\",\n",
    "    \"Chuck Maddux\",\n",
    "    \"Edmundo Oleary\",\n",
    "    \"Miquel Till\",\n",
    "    \"Oswaldo Tidwell\",\n",
    "    \"Elwood Yokoyama\",\n",
    "    \"Leonardo Mcswain\",\n",
    "    \"Roberto Averill\",\n",
    "    \"Pierre Foose\",\n",
    "    \"Saul Vannatta\",\n",
    "    \"Woodrow Dunn\",\n",
    "    \"Rene Mcelfresh\",\n",
    "    \"Brett Ausmus\",\n",
    "    \"Markus John\",\n",
    "    \"Walker Kirk\",\n",
    "    \"Warner Trunnell\",\n",
    "    \"Keenan Tope\"]"
   ]
  },
  {
   "cell_type": "code",
   "execution_count": null,
   "metadata": {
    "collapsed": true
   },
   "outputs": [],
   "source": [
    "# a list of ladies:\n",
    "ladies = [\n",
    "    \"Grayce Schwandt\",\n",
    "    \"Demetria Shiflet\",\n",
    "    \"Leda Leavitt\",\n",
    "    \"Julianne Tinnin\",\n",
    "    \"Angela Turco\",\n",
    "    \"Lu Rolfe\",\n",
    "    \"Audry Hardnett\",\n",
    "    \"Miranda Drapeau\",\n",
    "    \"Ferne Vanscyoc\",\n",
    "    \"Marceline Rochford\",\n",
    "    \"Han Myer\",\n",
    "    \"Karlene Emmer\",\n",
    "    \"Agatha Cheever\",\n",
    "    \"Shenna Riffle\",\n",
    "    \"Vella Albanese\",\n",
    "    \"Apryl Zieman\",\n",
    "    \"Jacklyn Coronado\",\n",
    "    \"Azzie Degreenia\",\n",
    "    \"Sebrina Weddle\",\n",
    "    \"Valda Pietila\"]"
   ]
  },
  {
   "cell_type": "code",
   "execution_count": null,
   "metadata": {
    "collapsed": false
   },
   "outputs": [],
   "source": [
    "len(ladies), len(gentlemen) # let's see if they are the same length..."
   ]
  },
  {
   "cell_type": "raw",
   "metadata": {},
   "source": [
    "So, now that we have our lists, let's reverse the last and first names for better alphabetizing ..."
   ]
  },
  {
   "cell_type": "code",
   "execution_count": null,
   "metadata": {
    "collapsed": true
   },
   "outputs": [],
   "source": [
    "# Python provides an intuitive way to loop over a list...\n",
    "gentlemen_last_first = [] # create an empty list\n",
    "for man in gentlemen:  # A loop ... this is actually an extremely powerful concept\n",
    "    first, last = man.split(\" \") # indentation indicates a 'code block.' Whitespace is important in Python\n",
    "    gentlemen_last_first.append(\"{0}, {1}\".format(last, first)) # wait, what's going on here? ... string formatting"
   ]
  },
  {
   "cell_type": "markdown",
   "metadata": {},
   "source": [
    "**NB:** There is a thourough introduction to string formatting at the excellent [dive into python] page.  Among other things, it explains that in the above string \"{0}, {1}\", the curly brackets and numbers (0 and 1) are just placeholders whose values are replaced by the arguments of the format method that is called on the string.\n",
    "\n",
    "[dive into python]: http://www.diveintopython3.net/strings.html"
   ]
  },
  {
   "cell_type": "code",
   "execution_count": null,
   "metadata": {
    "collapsed": false
   },
   "outputs": [],
   "source": [
    "gentlemen_last_first"
   ]
  },
  {
   "cell_type": "code",
   "execution_count": null,
   "metadata": {
    "collapsed": true
   },
   "outputs": [],
   "source": [
    "# Python provides an intuitive way to loop over a list...\n",
    "ladies_last_first = [] # create an empty list\n",
    "for lady in ladies:  # A loop ... this is actually an extremely powerful concept\n",
    "    first, last = lady.split(\" \") # indentation indicates a 'code block.' Whitespace is important in Python\n",
    "    ladies_last_first.append(\"{0}, {1}\".format(last, first))"
   ]
  },
  {
   "cell_type": "code",
   "execution_count": null,
   "metadata": {
    "collapsed": false
   },
   "outputs": [],
   "source": [
    "ladies_last_first"
   ]
  },
  {
   "cell_type": "code",
   "execution_count": null,
   "metadata": {
    "collapsed": true
   },
   "outputs": [],
   "source": [
    "gentlemen_last_first.sort()\n",
    "ladies_last_first.sort()"
   ]
  },
  {
   "cell_type": "code",
   "execution_count": null,
   "metadata": {
    "collapsed": false
   },
   "outputs": [],
   "source": [
    "ladies_last_first"
   ]
  },
  {
   "cell_type": "code",
   "execution_count": null,
   "metadata": {
    "collapsed": true
   },
   "outputs": [],
   "source": [
    "import random # let's bring in some code from the random built-in library of python"
   ]
  },
  {
   "cell_type": "code",
   "execution_count": null,
   "metadata": {
    "collapsed": true
   },
   "outputs": [],
   "source": [
    "random.shuffle(ladies_last_first)"
   ]
  },
  {
   "cell_type": "code",
   "execution_count": null,
   "metadata": {
    "collapsed": false
   },
   "outputs": [],
   "source": [
    "ladies_last_first"
   ]
  },
  {
   "cell_type": "code",
   "execution_count": null,
   "metadata": {
    "collapsed": false
   },
   "outputs": [],
   "source": [
    "dances = [\"mix\", \"mix\", \"mix\", \"mix\", \"mix\", \"mix\", \"Shoe Dance\"] # the list of dances\n",
    "\n",
    "# initialize data structures\n",
    "gentlemen_dances = {}\n",
    "ladies_dances = {}\n",
    "\n",
    "for man in gentlemen_last_first:\n",
    "    gentlemen_dances[man] = []\n",
    "for lady in ladies_last_first:\n",
    "    ladies_dances[lady] = []\n",
    "\n",
    "for dance in dances:\n",
    "    #print \"#####\", dance, \"########\"\n",
    "    count = 0\n",
    "    for man in gentlemen_last_first:\n",
    "        if dance == \"mix\":\n",
    "            gentlemen_dances[man].append(ladies_last_first[count])\n",
    "            ladies_dances[ladies_last_first[count]].append(man)\n",
    "            \n",
    "        else:\n",
    "            gentlemen_dances[man].append(dance)\n",
    "            ladies_dances[ladies_last_first[count]].append(dance)\n",
    "        count += 1\n",
    "    if dance == \"mix\":\n",
    "        gentlemen_last_first.insert(0, gentlemen_last_first.pop(-1))\n",
    "        "
   ]
  },
  {
   "cell_type": "code",
   "execution_count": null,
   "metadata": {
    "collapsed": false
   },
   "outputs": [],
   "source": [
    "gentlemen_dances"
   ]
  },
  {
   "cell_type": "code",
   "execution_count": null,
   "metadata": {
    "collapsed": true
   },
   "outputs": [],
   "source": [
    "#print result for dudes\n",
    "fh = open(\"./dancecards-gentlemen.txt\", 'wa')\n",
    "for man in gentlemen_last_first:\n",
    "    fh.write(\"\".join([\"\\n~\", man, \"~\\n\"]))\n",
    "    d_cnt = 1\n",
    "    for partner in gentlemen_dances[man]:\n",
    "        fh.write(str(d_cnt) + \". \" + partner + \"\\n\")\n",
    "        d_cnt += 1\n",
    "fh.close()"
   ]
  },
  {
   "cell_type": "code",
   "execution_count": null,
   "metadata": {
    "collapsed": false
   },
   "outputs": [],
   "source": [
    "#print result for ladies\n",
    "fh = open(\"./dancecards-ladies.txt\", 'wa')\n",
    "for lady in ladies_last_first:\n",
    "    fh.write(\"\".join([\"\\n~\", lady, \"~\\n\"]))\n",
    "    d_cnt = 1\n",
    "    for partner in ladies_dances[lady]:\n",
    "        fh.write(str(d_cnt) + \". \" + partner + \"\\n\")\n",
    "        d_cnt += 1\n",
    "fh.close()"
   ]
  },
  {
   "cell_type": "markdown",
   "metadata": {},
   "source": [
    "A Scientific Example\n",
    "=============\n",
    "The following code visualized typical data used in \"data analytics.\""
   ]
  },
  {
   "cell_type": "code",
   "execution_count": 1,
   "metadata": {
    "collapsed": true
   },
   "outputs": [],
   "source": [
    "import numpy as np\n",
    "from scipy.spatial import ConvexHull\n",
    "points = np.random.rand(30, 2)   # 30 random points in 2-D\n",
    "hull = ConvexHull(points)"
   ]
  },
  {
   "cell_type": "code",
   "execution_count": 2,
   "metadata": {
    "collapsed": true
   },
   "outputs": [],
   "source": [
    "from bokeh.io import output_notebook\n",
    "from bokeh.plotting import figure, show  # this _may_ have already been imported above"
   ]
  },
  {
   "cell_type": "code",
   "execution_count": 3,
   "metadata": {
    "collapsed": false
   },
   "outputs": [
    {
     "data": {
      "text/html": [
       "\n",
       "    <div class=\"bk-root\">\n",
       "        <a href=\"http://bokeh.pydata.org\" target=\"_blank\" class=\"bk-logo bk-logo-small bk-logo-notebook\"></a>\n",
       "        <span id=\"20ad339f-cb3b-416c-bce0-160d36aecac1\">Loading BokehJS ...</span>\n",
       "    </div>"
      ]
     },
     "metadata": {},
     "output_type": "display_data"
    },
    {
     "data": {
      "application/javascript": [
       "\n",
       "(function(global) {\n",
       "  function now() {\n",
       "    return new Date();\n",
       "  }\n",
       "\n",
       "  if (typeof (window._bokeh_onload_callbacks) === \"undefined\") {\n",
       "    window._bokeh_onload_callbacks = [];\n",
       "  }\n",
       "\n",
       "  function run_callbacks() {\n",
       "    window._bokeh_onload_callbacks.forEach(function(callback) { callback() });\n",
       "    delete window._bokeh_onload_callbacks\n",
       "    console.info(\"Bokeh: all callbacks have finished\");\n",
       "  }\n",
       "\n",
       "  function load_libs(js_urls, callback) {\n",
       "    window._bokeh_onload_callbacks.push(callback);\n",
       "    if (window._bokeh_is_loading > 0) {\n",
       "      console.log(\"Bokeh: BokehJS is being loaded, scheduling callback at\", now());\n",
       "      return null;\n",
       "    }\n",
       "    if (js_urls == null || js_urls.length === 0) {\n",
       "      run_callbacks();\n",
       "      return null;\n",
       "    }\n",
       "    console.log(\"Bokeh: BokehJS not loaded, scheduling load and callback at\", now());\n",
       "    window._bokeh_is_loading = js_urls.length;\n",
       "    for (var i = 0; i < js_urls.length; i++) {\n",
       "      var url = js_urls[i];\n",
       "      var s = document.createElement('script');\n",
       "      s.src = url;\n",
       "      s.async = false;\n",
       "      s.onreadystatechange = s.onload = function() {\n",
       "        window._bokeh_is_loading--;\n",
       "        if (window._bokeh_is_loading === 0) {\n",
       "          console.log(\"Bokeh: all BokehJS libraries loaded\");\n",
       "          run_callbacks()\n",
       "        }\n",
       "      };\n",
       "      s.onerror = function() {\n",
       "        console.warn(\"failed to load library \" + url);\n",
       "      };\n",
       "      console.log(\"Bokeh: injecting script tag for BokehJS library: \", url);\n",
       "      document.getElementsByTagName(\"head\")[0].appendChild(s);\n",
       "    }\n",
       "  };\n",
       "\n",
       "  var js_urls = ['https://cdn.pydata.org/bokeh/release/bokeh-0.12.0.min.js', 'https://cdn.pydata.org/bokeh/release/bokeh-widgets-0.12.0.min.js', 'https://cdn.pydata.org/bokeh/release/bokeh-compiler-0.12.0.min.js'];\n",
       "\n",
       "  var inline_js = [\n",
       "    function(Bokeh) {\n",
       "      Bokeh.set_log_level(\"info\");\n",
       "    },\n",
       "    \n",
       "    function(Bokeh) {\n",
       "      Bokeh.$(\"#20ad339f-cb3b-416c-bce0-160d36aecac1\").text(\"BokehJS successfully loaded\");\n",
       "    },\n",
       "    function(Bokeh) {\n",
       "      console.log(\"Bokeh: injecting CSS: https://cdn.pydata.org/bokeh/release/bokeh-0.12.0.min.css\");\n",
       "      Bokeh.embed.inject_css(\"https://cdn.pydata.org/bokeh/release/bokeh-0.12.0.min.css\");\n",
       "      console.log(\"Bokeh: injecting CSS: https://cdn.pydata.org/bokeh/release/bokeh-widgets-0.12.0.min.css\");\n",
       "      Bokeh.embed.inject_css(\"https://cdn.pydata.org/bokeh/release/bokeh-widgets-0.12.0.min.css\");\n",
       "    }\n",
       "  ];\n",
       "\n",
       "  function run_inline_js() {\n",
       "    for (var i = 0; i < inline_js.length; i++) {\n",
       "      inline_js[i](window.Bokeh);\n",
       "    }\n",
       "  }\n",
       "\n",
       "  if (window._bokeh_is_loading === 0) {\n",
       "    console.log(\"Bokeh: BokehJS loaded, going straight to plotting\");\n",
       "    run_inline_js();\n",
       "  } else {\n",
       "    load_libs(js_urls, function() {\n",
       "      console.log(\"Bokeh: BokehJS plotting callback run at\", now());\n",
       "      run_inline_js();\n",
       "    });\n",
       "  }\n",
       "}(this));"
      ]
     },
     "metadata": {},
     "output_type": "display_data"
    }
   ],
   "source": [
    "output_notebook() # again, this may have been called already"
   ]
  },
  {
   "cell_type": "code",
   "execution_count": 4,
   "metadata": {
    "collapsed": true
   },
   "outputs": [],
   "source": [
    "f = figure()"
   ]
  },
  {
   "cell_type": "code",
   "execution_count": 5,
   "metadata": {
    "collapsed": false
   },
   "outputs": [
    {
     "data": {
      "text/plain": [
       "<bokeh.models.renderers.GlyphRenderer at 0x6c984d70>"
      ]
     },
     "execution_count": 5,
     "metadata": {},
     "output_type": "execute_result"
    }
   ],
   "source": [
    "f.circle(points[:,0],points[:,1], 'o')"
   ]
  },
  {
   "cell_type": "code",
   "execution_count": 6,
   "metadata": {
    "collapsed": true
   },
   "outputs": [],
   "source": [
    "for simplex in hull.simplices:\n",
    "    f.line(points[simplex, 0], points[simplex, 1])"
   ]
  },
  {
   "cell_type": "code",
   "execution_count": 7,
   "metadata": {
    "collapsed": false
   },
   "outputs": [
    {
     "data": {
      "text/html": [
       "\n",
       "\n",
       "    <div class=\"bk-root\">\n",
       "        <div class=\"plotdiv\" id=\"5d8f172f-8796-4475-a72f-cb7fda28ef3e\"></div>\n",
       "    </div>\n",
       "<script type=\"text/javascript\">\n",
       "  \n",
       "  (function(global) {\n",
       "    function now() {\n",
       "      return new Date();\n",
       "    }\n",
       "  \n",
       "    if (typeof (window._bokeh_onload_callbacks) === \"undefined\") {\n",
       "      window._bokeh_onload_callbacks = [];\n",
       "    }\n",
       "  \n",
       "    function run_callbacks() {\n",
       "      window._bokeh_onload_callbacks.forEach(function(callback) { callback() });\n",
       "      delete window._bokeh_onload_callbacks\n",
       "      console.info(\"Bokeh: all callbacks have finished\");\n",
       "    }\n",
       "  \n",
       "    function load_libs(js_urls, callback) {\n",
       "      window._bokeh_onload_callbacks.push(callback);\n",
       "      if (window._bokeh_is_loading > 0) {\n",
       "        console.log(\"Bokeh: BokehJS is being loaded, scheduling callback at\", now());\n",
       "        return null;\n",
       "      }\n",
       "      if (js_urls == null || js_urls.length === 0) {\n",
       "        run_callbacks();\n",
       "        return null;\n",
       "      }\n",
       "      console.log(\"Bokeh: BokehJS not loaded, scheduling load and callback at\", now());\n",
       "      window._bokeh_is_loading = js_urls.length;\n",
       "      for (var i = 0; i < js_urls.length; i++) {\n",
       "        var url = js_urls[i];\n",
       "        var s = document.createElement('script');\n",
       "        s.src = url;\n",
       "        s.async = false;\n",
       "        s.onreadystatechange = s.onload = function() {\n",
       "          window._bokeh_is_loading--;\n",
       "          if (window._bokeh_is_loading === 0) {\n",
       "            console.log(\"Bokeh: all BokehJS libraries loaded\");\n",
       "            run_callbacks()\n",
       "          }\n",
       "        };\n",
       "        s.onerror = function() {\n",
       "          console.warn(\"failed to load library \" + url);\n",
       "        };\n",
       "        console.log(\"Bokeh: injecting script tag for BokehJS library: \", url);\n",
       "        document.getElementsByTagName(\"head\")[0].appendChild(s);\n",
       "      }\n",
       "    };var element = document.getElementById(\"5d8f172f-8796-4475-a72f-cb7fda28ef3e\");\n",
       "    if (element == null) {\n",
       "      console.log(\"Bokeh: ERROR: autoload.js configured with elementid '5d8f172f-8796-4475-a72f-cb7fda28ef3e' but no matching script tag was found. \")\n",
       "      return false;\n",
       "    }\n",
       "  \n",
       "    var js_urls = [];\n",
       "  \n",
       "    var inline_js = [\n",
       "      function(Bokeh) {\n",
       "        Bokeh.$(function() {\n",
       "            var docs_json = {\"9e122c66-a0f1-4a97-ae68-fc3aace3874f\":{\"roots\":{\"references\":[{\"attributes\":{\"callback\":null,\"column_names\":[\"y\",\"x\"],\"data\":{\"x\":[0.19881202073702664,0.0030954593641651096],\"y\":[0.07337534242643362,0.9388648250800762]}},\"id\":\"f6d77679-cddf-4710-8484-01ea99ab8a08\",\"type\":\"ColumnDataSource\"},{\"attributes\":{\"callback\":null},\"id\":\"ab8aaeae-630d-41f5-b948-32983256225f\",\"type\":\"DataRange1d\"},{\"attributes\":{\"plot\":{\"id\":\"f05b3192-4d10-413e-ad75-c3b58613e805\",\"subtype\":\"Figure\",\"type\":\"Plot\"}},\"id\":\"753774fd-b089-4a55-aee5-1d3dfd33f877\",\"type\":\"ResetTool\"},{\"attributes\":{\"active_drag\":\"auto\",\"active_scroll\":\"auto\",\"active_tap\":\"auto\",\"tools\":[{\"id\":\"ead11c9e-0867-401b-a4d1-cb4e5e7c5668\",\"type\":\"PanTool\"},{\"id\":\"fd9c243b-c038-4618-814a-a342cdf69429\",\"type\":\"WheelZoomTool\"},{\"id\":\"baf484d8-2c75-4092-8ede-6da2b84dbae7\",\"type\":\"BoxZoomTool\"},{\"id\":\"2c726faa-2f4c-4eda-95bc-5e7f5c8ebc05\",\"type\":\"SaveTool\"},{\"id\":\"753774fd-b089-4a55-aee5-1d3dfd33f877\",\"type\":\"ResetTool\"},{\"id\":\"8bda9800-db91-4144-92af-37d0320d3345\",\"type\":\"HelpTool\"}]},\"id\":\"29a4256b-178d-40d2-bfef-199f5f682038\",\"type\":\"Toolbar\"},{\"attributes\":{\"line_alpha\":{\"value\":0.1},\"line_color\":{\"value\":\"#1f77b4\"},\"x\":{\"field\":\"x\"},\"y\":{\"field\":\"y\"}},\"id\":\"b801b196-7761-4811-8f91-925c5b559ae9\",\"type\":\"Line\"},{\"attributes\":{\"line_alpha\":{\"value\":0.1},\"line_color\":{\"value\":\"#1f77b4\"},\"x\":{\"field\":\"x\"},\"y\":{\"field\":\"y\"}},\"id\":\"8da15c66-ee77-4005-901a-12c0191bf460\",\"type\":\"Line\"},{\"attributes\":{},\"id\":\"ea6c0001-824f-45f8-b0a5-34baf69dbf35\",\"type\":\"BasicTicker\"},{\"attributes\":{\"line_alpha\":{\"value\":0.1},\"line_color\":{\"value\":\"#1f77b4\"},\"x\":{\"field\":\"x\"},\"y\":{\"field\":\"y\"}},\"id\":\"71e7bdff-e7a6-45da-b69a-d6c4e2883d52\",\"type\":\"Line\"},{\"attributes\":{\"below\":[{\"id\":\"9bbc32fc-9239-4be0-8bb9-3e52dc0005f4\",\"type\":\"LinearAxis\"}],\"left\":[{\"id\":\"58c121b7-02d6-45a5-b9ce-9f2a92de04aa\",\"type\":\"LinearAxis\"}],\"renderers\":[{\"id\":\"9bbc32fc-9239-4be0-8bb9-3e52dc0005f4\",\"type\":\"LinearAxis\"},{\"id\":\"782d5420-d471-4ed3-9a89-54903cb9438e\",\"type\":\"Grid\"},{\"id\":\"58c121b7-02d6-45a5-b9ce-9f2a92de04aa\",\"type\":\"LinearAxis\"},{\"id\":\"2ff46362-c6a4-4f19-ba85-2b39b2b5bcb1\",\"type\":\"Grid\"},{\"id\":\"77c6888b-4273-4761-b78f-77f68c22e19e\",\"type\":\"BoxAnnotation\"},{\"id\":\"d39de11d-dcc5-4ff3-9b4e-29614f2dbc08\",\"type\":\"GlyphRenderer\"},{\"id\":\"32a9cf0c-7c36-4bc5-8447-bc3903b0109a\",\"type\":\"GlyphRenderer\"},{\"id\":\"a6f9f499-f866-44df-a3e4-a60d481a58d6\",\"type\":\"GlyphRenderer\"},{\"id\":\"62ddbd38-8ac5-4b40-8587-e4723f0cb983\",\"type\":\"GlyphRenderer\"},{\"id\":\"8b31a9af-d8be-4b63-a07e-0c13544bfbda\",\"type\":\"GlyphRenderer\"},{\"id\":\"00b4c290-f099-4e7d-a3fd-853f8c20fb8f\",\"type\":\"GlyphRenderer\"},{\"id\":\"94dc5fde-5134-482e-86d3-3b7c9cf84a4b\",\"type\":\"GlyphRenderer\"},{\"id\":\"225dd38b-9d8b-4be4-9359-57b737ff5f1e\",\"type\":\"GlyphRenderer\"},{\"id\":\"362f7330-7abe-4951-a84f-efc09cfe4b4f\",\"type\":\"GlyphRenderer\"}],\"title\":{\"id\":\"2d425a97-1156-4486-a124-f6ece7b77c96\",\"type\":\"Title\"},\"tool_events\":{\"id\":\"aa7ba197-fa3a-434b-ad4f-6acc4a1d4de6\",\"type\":\"ToolEvents\"},\"toolbar\":{\"id\":\"29a4256b-178d-40d2-bfef-199f5f682038\",\"type\":\"Toolbar\"},\"x_range\":{\"id\":\"ab8aaeae-630d-41f5-b948-32983256225f\",\"type\":\"DataRange1d\"},\"y_range\":{\"id\":\"6b0e3d08-5304-49da-9d04-a58800b6e3b3\",\"type\":\"DataRange1d\"}},\"id\":\"f05b3192-4d10-413e-ad75-c3b58613e805\",\"subtype\":\"Figure\",\"type\":\"Plot\"},{\"attributes\":{\"line_color\":{\"value\":\"#1f77b4\"},\"x\":{\"field\":\"x\"},\"y\":{\"field\":\"y\"}},\"id\":\"a29bf967-89be-4ef7-b03b-dd8a5a1aedcc\",\"type\":\"Line\"},{\"attributes\":{\"plot\":{\"id\":\"f05b3192-4d10-413e-ad75-c3b58613e805\",\"subtype\":\"Figure\",\"type\":\"Plot\"}},\"id\":\"2c726faa-2f4c-4eda-95bc-5e7f5c8ebc05\",\"type\":\"SaveTool\"},{\"attributes\":{\"plot\":{\"id\":\"f05b3192-4d10-413e-ad75-c3b58613e805\",\"subtype\":\"Figure\",\"type\":\"Plot\"},\"ticker\":{\"id\":\"f1fddeb1-5689-4b9b-b43f-24146ef53d0a\",\"type\":\"BasicTicker\"}},\"id\":\"782d5420-d471-4ed3-9a89-54903cb9438e\",\"type\":\"Grid\"},{\"attributes\":{\"line_color\":{\"value\":\"#1f77b4\"},\"x\":{\"field\":\"x\"},\"y\":{\"field\":\"y\"}},\"id\":\"57bcca74-2bbc-43c8-92cc-3f195b55a055\",\"type\":\"Line\"},{\"attributes\":{\"line_color\":{\"value\":\"#1f77b4\"},\"x\":{\"field\":\"x\"},\"y\":{\"field\":\"y\"}},\"id\":\"78446a23-b38a-4aa9-a61d-d36ea641ab48\",\"type\":\"Line\"},{\"attributes\":{\"data_source\":{\"id\":\"8e0992de-c84d-40c2-9922-975907d77888\",\"type\":\"ColumnDataSource\"},\"glyph\":{\"id\":\"ed94ba64-717a-45f0-b35b-1c9e13c36556\",\"type\":\"Line\"},\"hover_glyph\":null,\"nonselection_glyph\":{\"id\":\"35938bf4-f753-4b98-9e47-87b291a8b4b1\",\"type\":\"Line\"},\"selection_glyph\":null},\"id\":\"62ddbd38-8ac5-4b40-8587-e4723f0cb983\",\"type\":\"GlyphRenderer\"},{\"attributes\":{\"line_alpha\":{\"value\":0.1},\"line_color\":{\"value\":\"#1f77b4\"},\"x\":{\"field\":\"x\"},\"y\":{\"field\":\"y\"}},\"id\":\"493df6aa-82a7-40f7-af29-7110ccf138a1\",\"type\":\"Line\"},{\"attributes\":{\"data_source\":{\"id\":\"f6d77679-cddf-4710-8484-01ea99ab8a08\",\"type\":\"ColumnDataSource\"},\"glyph\":{\"id\":\"8c2723e4-19d9-418e-9e96-01e7facba0c8\",\"type\":\"Line\"},\"hover_glyph\":null,\"nonselection_glyph\":{\"id\":\"8da15c66-ee77-4005-901a-12c0191bf460\",\"type\":\"Line\"},\"selection_glyph\":null},\"id\":\"32a9cf0c-7c36-4bc5-8447-bc3903b0109a\",\"type\":\"GlyphRenderer\"},{\"attributes\":{\"line_color\":{\"value\":\"#1f77b4\"},\"x\":{\"field\":\"x\"},\"y\":{\"field\":\"y\"}},\"id\":\"dfcd1fb2-d79e-4cd5-bf2f-34cd94b20365\",\"type\":\"Line\"},{\"attributes\":{\"callback\":null,\"column_names\":[\"y\",\"x\"],\"data\":{\"x\":[0.8974227351387974,0.9757887114516858],\"y\":[0.8106005864494924,0.2301617274292037]}},\"id\":\"5a94c2f3-e0d0-4d12-956b-883dedd67d06\",\"type\":\"ColumnDataSource\"},{\"attributes\":{\"plot\":{\"id\":\"f05b3192-4d10-413e-ad75-c3b58613e805\",\"subtype\":\"Figure\",\"type\":\"Plot\"}},\"id\":\"8bda9800-db91-4144-92af-37d0320d3345\",\"type\":\"HelpTool\"},{\"attributes\":{\"data_source\":{\"id\":\"8185feaf-f2e2-4bb3-87b6-5d4406b66490\",\"type\":\"ColumnDataSource\"},\"glyph\":{\"id\":\"a29bf967-89be-4ef7-b03b-dd8a5a1aedcc\",\"type\":\"Line\"},\"hover_glyph\":null,\"nonselection_glyph\":{\"id\":\"47c9e87b-74c4-47e5-86f3-24f7205e1a4f\",\"type\":\"Line\"},\"selection_glyph\":null},\"id\":\"8b31a9af-d8be-4b63-a07e-0c13544bfbda\",\"type\":\"GlyphRenderer\"},{\"attributes\":{},\"id\":\"f1fddeb1-5689-4b9b-b43f-24146ef53d0a\",\"type\":\"BasicTicker\"},{\"attributes\":{\"callback\":null,\"column_names\":[\"y\",\"x\"],\"data\":{\"x\":[0.3584676326690177,0.8535884280742527],\"y\":[0.9908441855637186,0.9384828995764627]}},\"id\":\"6f570abd-d1cb-4ff8-a0ee-fa8c37609c57\",\"type\":\"ColumnDataSource\"},{\"attributes\":{},\"id\":\"d88387aa-eea8-4813-989f-2ef0589fc635\",\"type\":\"BasicTickFormatter\"},{\"attributes\":{\"line_color\":{\"value\":\"#1f77b4\"},\"x\":{\"field\":\"x\"},\"y\":{\"field\":\"y\"}},\"id\":\"8c2723e4-19d9-418e-9e96-01e7facba0c8\",\"type\":\"Line\"},{\"attributes\":{\"plot\":null,\"text\":null},\"id\":\"2d425a97-1156-4486-a124-f6ece7b77c96\",\"type\":\"Title\"},{\"attributes\":{\"fill_color\":{\"value\":\"#1f77b4\"},\"line_color\":{\"value\":\"#1f77b4\"},\"x\":{\"field\":\"x\"},\"y\":{\"field\":\"y\"}},\"id\":\"c8af6e3d-e0f0-4ee5-81e5-52080e8b0cc2\",\"type\":\"Circle\"},{\"attributes\":{\"line_alpha\":{\"value\":0.1},\"line_color\":{\"value\":\"#1f77b4\"},\"x\":{\"field\":\"x\"},\"y\":{\"field\":\"y\"}},\"id\":\"c4963495-c7f4-4bd1-a6e2-d00fda48c7e4\",\"type\":\"Line\"},{\"attributes\":{\"line_alpha\":{\"value\":0.1},\"line_color\":{\"value\":\"#1f77b4\"},\"x\":{\"field\":\"x\"},\"y\":{\"field\":\"y\"}},\"id\":\"401ed29d-5813-498c-9a2e-3f428203520a\",\"type\":\"Line\"},{\"attributes\":{\"dimension\":1,\"plot\":{\"id\":\"f05b3192-4d10-413e-ad75-c3b58613e805\",\"subtype\":\"Figure\",\"type\":\"Plot\"},\"ticker\":{\"id\":\"ea6c0001-824f-45f8-b0a5-34baf69dbf35\",\"type\":\"BasicTicker\"}},\"id\":\"2ff46362-c6a4-4f19-ba85-2b39b2b5bcb1\",\"type\":\"Grid\"},{\"attributes\":{\"line_alpha\":{\"value\":0.1},\"line_color\":{\"value\":\"#1f77b4\"},\"x\":{\"field\":\"x\"},\"y\":{\"field\":\"y\"}},\"id\":\"35938bf4-f753-4b98-9e47-87b291a8b4b1\",\"type\":\"Line\"},{\"attributes\":{\"data_source\":{\"id\":\"f93dabb9-f28d-42f3-9d86-e548cf1c6831\",\"type\":\"ColumnDataSource\"},\"glyph\":{\"id\":\"c8af6e3d-e0f0-4ee5-81e5-52080e8b0cc2\",\"type\":\"Circle\"},\"hover_glyph\":null,\"nonselection_glyph\":{\"id\":\"1392785c-e594-49aa-b7e0-4646e58d9d65\",\"type\":\"Circle\"},\"selection_glyph\":null},\"id\":\"d39de11d-dcc5-4ff3-9b4e-29614f2dbc08\",\"type\":\"GlyphRenderer\"},{\"attributes\":{\"line_alpha\":{\"value\":0.1},\"line_color\":{\"value\":\"#1f77b4\"},\"x\":{\"field\":\"x\"},\"y\":{\"field\":\"y\"}},\"id\":\"47c9e87b-74c4-47e5-86f3-24f7205e1a4f\",\"type\":\"Line\"},{\"attributes\":{\"line_color\":{\"value\":\"#1f77b4\"},\"x\":{\"field\":\"x\"},\"y\":{\"field\":\"y\"}},\"id\":\"4c16a124-e67e-4252-8723-be7c622f772f\",\"type\":\"Line\"},{\"attributes\":{\"overlay\":{\"id\":\"77c6888b-4273-4761-b78f-77f68c22e19e\",\"type\":\"BoxAnnotation\"},\"plot\":{\"id\":\"f05b3192-4d10-413e-ad75-c3b58613e805\",\"subtype\":\"Figure\",\"type\":\"Plot\"}},\"id\":\"baf484d8-2c75-4092-8ede-6da2b84dbae7\",\"type\":\"BoxZoomTool\"},{\"attributes\":{\"callback\":null},\"id\":\"6b0e3d08-5304-49da-9d04-a58800b6e3b3\",\"type\":\"DataRange1d\"},{\"attributes\":{\"callback\":null,\"column_names\":[\"y\",\"x\"],\"data\":{\"x\":[0.8974227351387974,0.8535884280742527],\"y\":[0.8106005864494924,0.9384828995764627]}},\"id\":\"b4fcb916-fb88-4cf6-9ce6-7946cc97dd8e\",\"type\":\"ColumnDataSource\"},{\"attributes\":{\"callback\":null,\"column_names\":[\"y\",\"x\"],\"data\":{\"x\":[0.39914525381513954,0.4275042799782711,0.19881202073702664,0.8535884280742527,0.8243743339262505,0.3584676326690177,0.0030954593641651096,0.5368491541714835,0.7077315778542501,0.7863367547679594,0.8974227351387974,0.3728922739206876,0.5696697566483093,0.042508692627469924,0.6354637993240204,0.47249610090833316,0.6056004528759,0.12071963375271966,0.5880246651041743,0.3720180130397255,0.8121736253929566,0.9041168432842627,0.08594825220050628,0.5188646488905462,0.731072053012877,0.8158713620933367,0.6400109340741691,0.29644361811531506,0.9757887114516858,0.4593451141336189],\"y\":[0.6274802667391703,0.06281333337100825,0.07337534242643362,0.9384828995764627,0.23750640481297858,0.9908441855637186,0.9388648250800762,0.5077001854754081,0.14968946852562914,0.47868274732340155,0.8106005864494924,0.34957470491078757,0.9347863635775412,0.8380298089176695,0.04168988637004489,0.7245813900247977,0.4417617606423123,0.4243761150463954,0.41006054311527584,0.672056391357359,0.8089871144833122,0.44435362022448144,0.8037467824233091,0.13583921401778298,0.08776143525450109,0.7257922851764098,0.12289692096678773,0.9464532986697043,0.2301617274292037,0.4245434512279346]}},\"id\":\"f93dabb9-f28d-42f3-9d86-e548cf1c6831\",\"type\":\"ColumnDataSource\"},{\"attributes\":{},\"id\":\"aa7ba197-fa3a-434b-ad4f-6acc4a1d4de6\",\"type\":\"ToolEvents\"},{\"attributes\":{\"data_source\":{\"id\":\"b4fcb916-fb88-4cf6-9ce6-7946cc97dd8e\",\"type\":\"ColumnDataSource\"},\"glyph\":{\"id\":\"57bcca74-2bbc-43c8-92cc-3f195b55a055\",\"type\":\"Line\"},\"hover_glyph\":null,\"nonselection_glyph\":{\"id\":\"b801b196-7761-4811-8f91-925c5b559ae9\",\"type\":\"Line\"},\"selection_glyph\":null},\"id\":\"362f7330-7abe-4951-a84f-efc09cfe4b4f\",\"type\":\"GlyphRenderer\"},{\"attributes\":{\"callback\":null,\"column_names\":[\"y\",\"x\"],\"data\":{\"x\":[0.731072053012877,0.6354637993240204],\"y\":[0.08776143525450109,0.04168988637004489]}},\"id\":\"8185feaf-f2e2-4bb3-87b6-5d4406b66490\",\"type\":\"ColumnDataSource\"},{\"attributes\":{\"line_color\":{\"value\":\"#1f77b4\"},\"x\":{\"field\":\"x\"},\"y\":{\"field\":\"y\"}},\"id\":\"ed94ba64-717a-45f0-b35b-1c9e13c36556\",\"type\":\"Line\"},{\"attributes\":{\"callback\":null,\"column_names\":[\"y\",\"x\"],\"data\":{\"x\":[0.731072053012877,0.9757887114516858],\"y\":[0.08776143525450109,0.2301617274292037]}},\"id\":\"8e0992de-c84d-40c2-9922-975907d77888\",\"type\":\"ColumnDataSource\"},{\"attributes\":{\"data_source\":{\"id\":\"5a94c2f3-e0d0-4d12-956b-883dedd67d06\",\"type\":\"ColumnDataSource\"},\"glyph\":{\"id\":\"dfcd1fb2-d79e-4cd5-bf2f-34cd94b20365\",\"type\":\"Line\"},\"hover_glyph\":null,\"nonselection_glyph\":{\"id\":\"401ed29d-5813-498c-9a2e-3f428203520a\",\"type\":\"Line\"},\"selection_glyph\":null},\"id\":\"225dd38b-9d8b-4be4-9359-57b737ff5f1e\",\"type\":\"GlyphRenderer\"},{\"attributes\":{\"formatter\":{\"id\":\"a99854e2-33ba-41e1-ac26-804f49706dda\",\"type\":\"BasicTickFormatter\"},\"plot\":{\"id\":\"f05b3192-4d10-413e-ad75-c3b58613e805\",\"subtype\":\"Figure\",\"type\":\"Plot\"},\"ticker\":{\"id\":\"ea6c0001-824f-45f8-b0a5-34baf69dbf35\",\"type\":\"BasicTicker\"}},\"id\":\"58c121b7-02d6-45a5-b9ce-9f2a92de04aa\",\"type\":\"LinearAxis\"},{\"attributes\":{\"fill_alpha\":{\"value\":0.1},\"fill_color\":{\"value\":\"#1f77b4\"},\"line_alpha\":{\"value\":0.1},\"line_color\":{\"value\":\"#1f77b4\"},\"x\":{\"field\":\"x\"},\"y\":{\"field\":\"y\"}},\"id\":\"1392785c-e594-49aa-b7e0-4646e58d9d65\",\"type\":\"Circle\"},{\"attributes\":{\"data_source\":{\"id\":\"c4617f44-9759-44ac-947e-af8b91e9df55\",\"type\":\"ColumnDataSource\"},\"glyph\":{\"id\":\"4c16a124-e67e-4252-8723-be7c622f772f\",\"type\":\"Line\"},\"hover_glyph\":null,\"nonselection_glyph\":{\"id\":\"71e7bdff-e7a6-45da-b69a-d6c4e2883d52\",\"type\":\"Line\"},\"selection_glyph\":null},\"id\":\"a6f9f499-f866-44df-a3e4-a60d481a58d6\",\"type\":\"GlyphRenderer\"},{\"attributes\":{\"plot\":{\"id\":\"f05b3192-4d10-413e-ad75-c3b58613e805\",\"subtype\":\"Figure\",\"type\":\"Plot\"}},\"id\":\"fd9c243b-c038-4618-814a-a342cdf69429\",\"type\":\"WheelZoomTool\"},{\"attributes\":{\"callback\":null,\"column_names\":[\"y\",\"x\"],\"data\":{\"x\":[0.19881202073702664,0.6354637993240204],\"y\":[0.07337534242643362,0.04168988637004489]}},\"id\":\"c4617f44-9759-44ac-947e-af8b91e9df55\",\"type\":\"ColumnDataSource\"},{\"attributes\":{\"plot\":{\"id\":\"f05b3192-4d10-413e-ad75-c3b58613e805\",\"subtype\":\"Figure\",\"type\":\"Plot\"}},\"id\":\"ead11c9e-0867-401b-a4d1-cb4e5e7c5668\",\"type\":\"PanTool\"},{\"attributes\":{\"formatter\":{\"id\":\"d88387aa-eea8-4813-989f-2ef0589fc635\",\"type\":\"BasicTickFormatter\"},\"plot\":{\"id\":\"f05b3192-4d10-413e-ad75-c3b58613e805\",\"subtype\":\"Figure\",\"type\":\"Plot\"},\"ticker\":{\"id\":\"f1fddeb1-5689-4b9b-b43f-24146ef53d0a\",\"type\":\"BasicTicker\"}},\"id\":\"9bbc32fc-9239-4be0-8bb9-3e52dc0005f4\",\"type\":\"LinearAxis\"},{\"attributes\":{\"bottom_units\":\"screen\",\"fill_alpha\":{\"value\":0.5},\"fill_color\":{\"value\":\"lightgrey\"},\"left_units\":\"screen\",\"level\":\"overlay\",\"line_alpha\":{\"value\":1.0},\"line_color\":{\"value\":\"black\"},\"line_dash\":[4,4],\"line_width\":{\"value\":2},\"plot\":null,\"render_mode\":\"css\",\"right_units\":\"screen\",\"top_units\":\"screen\"},\"id\":\"77c6888b-4273-4761-b78f-77f68c22e19e\",\"type\":\"BoxAnnotation\"},{\"attributes\":{},\"id\":\"a99854e2-33ba-41e1-ac26-804f49706dda\",\"type\":\"BasicTickFormatter\"},{\"attributes\":{\"data_source\":{\"id\":\"6f570abd-d1cb-4ff8-a0ee-fa8c37609c57\",\"type\":\"ColumnDataSource\"},\"glyph\":{\"id\":\"78446a23-b38a-4aa9-a61d-d36ea641ab48\",\"type\":\"Line\"},\"hover_glyph\":null,\"nonselection_glyph\":{\"id\":\"493df6aa-82a7-40f7-af29-7110ccf138a1\",\"type\":\"Line\"},\"selection_glyph\":null},\"id\":\"94dc5fde-5134-482e-86d3-3b7c9cf84a4b\",\"type\":\"GlyphRenderer\"},{\"attributes\":{\"line_color\":{\"value\":\"#1f77b4\"},\"x\":{\"field\":\"x\"},\"y\":{\"field\":\"y\"}},\"id\":\"0fe161f4-f657-4387-a26f-cdaf9db85934\",\"type\":\"Line\"},{\"attributes\":{\"callback\":null,\"column_names\":[\"y\",\"x\"],\"data\":{\"x\":[0.3584676326690177,0.0030954593641651096],\"y\":[0.9908441855637186,0.9388648250800762]}},\"id\":\"e35ad460-5447-4021-9b4c-2607de41d661\",\"type\":\"ColumnDataSource\"},{\"attributes\":{\"data_source\":{\"id\":\"e35ad460-5447-4021-9b4c-2607de41d661\",\"type\":\"ColumnDataSource\"},\"glyph\":{\"id\":\"0fe161f4-f657-4387-a26f-cdaf9db85934\",\"type\":\"Line\"},\"hover_glyph\":null,\"nonselection_glyph\":{\"id\":\"c4963495-c7f4-4bd1-a6e2-d00fda48c7e4\",\"type\":\"Line\"},\"selection_glyph\":null},\"id\":\"00b4c290-f099-4e7d-a3fd-853f8c20fb8f\",\"type\":\"GlyphRenderer\"}],\"root_ids\":[\"f05b3192-4d10-413e-ad75-c3b58613e805\"]},\"title\":\"Bokeh Application\",\"version\":\"0.12.0\"}};\n",
       "            var render_items = [{\"docid\":\"9e122c66-a0f1-4a97-ae68-fc3aace3874f\",\"elementid\":\"5d8f172f-8796-4475-a72f-cb7fda28ef3e\",\"modelid\":\"f05b3192-4d10-413e-ad75-c3b58613e805\",\"notebook_comms_target\":\"c7035b82-2205-40b8-b524-14e12c5bed22\"}];\n",
       "            \n",
       "            Bokeh.embed.embed_items(docs_json, render_items);\n",
       "        });\n",
       "      },\n",
       "      function(Bokeh) {\n",
       "      }\n",
       "    ];\n",
       "  \n",
       "    function run_inline_js() {\n",
       "      for (var i = 0; i < inline_js.length; i++) {\n",
       "        inline_js[i](window.Bokeh);\n",
       "      }\n",
       "    }\n",
       "  \n",
       "    if (window._bokeh_is_loading === 0) {\n",
       "      console.log(\"Bokeh: BokehJS loaded, going straight to plotting\");\n",
       "      run_inline_js();\n",
       "    } else {\n",
       "      load_libs(js_urls, function() {\n",
       "        console.log(\"Bokeh: BokehJS plotting callback run at\", now());\n",
       "        run_inline_js();\n",
       "      });\n",
       "    }\n",
       "  }(this));\n",
       "</script>"
      ]
     },
     "metadata": {},
     "output_type": "display_data"
    },
    {
     "data": {
      "text/html": [
       "<p><code>&lt;Bokeh Notebook handle for <strong>In[7]</strong>&gt;</code></p>"
      ],
      "text/plain": [
       "<bokeh.io._CommsHandle at 0x6c9845d0>"
      ]
     },
     "execution_count": 7,
     "metadata": {},
     "output_type": "execute_result"
    }
   ],
   "source": [
    "show(f)"
   ]
  },
  {
   "cell_type": "code",
   "execution_count": null,
   "metadata": {
    "collapsed": true
   },
   "outputs": [],
   "source": []
  }
 ],
 "metadata": {
  "kernelspec": {
   "display_name": "Python 2",
   "language": "python",
   "name": "python2"
  },
  "language_info": {
   "codemirror_mode": {
    "name": "ipython",
    "version": 2
   },
   "file_extension": ".py",
   "mimetype": "text/x-python",
   "name": "python",
   "nbconvert_exporter": "python",
   "pygments_lexer": "ipython2",
   "version": "2.7.9"
  }
 },
 "nbformat": 4,
 "nbformat_minor": 0
}
