{
 "cells": [
  {
   "cell_type": "markdown",
   "metadata": {},
   "source": [
    "# Raspberry Pi Camera Capture of Rubik's Cube State"
   ]
  },
  {
   "cell_type": "markdown",
   "metadata": {},
   "source": [
    "First we import the libraries we need related to the Camera and image and Machine Learning libraries"
   ]
  },
  {
   "cell_type": "code",
   "execution_count": null,
   "metadata": {
    "collapsed": true
   },
   "outputs": [],
   "source": [
    "from picamera import PiCamera\n",
    "from picamera.color import Color\n",
    "\n",
    "from gpiozero import LED\n",
    "\n",
    "import os\n",
    "from time import sleep\n",
    "\n",
    "# import a bunch of stuff that we'll use to manipulate our images...\n",
    "from skimage.io import imread\n",
    "#from skimage import filter\n",
    "from skimage.segmentation import slic\n",
    "from skimage.segmentation import mark_boundaries\n",
    "from skimage.util import img_as_float\n",
    "from skimage import io\n",
    "from skimage.measure import block_reduce\n",
    "import numpy as np\n",
    "\n",
    "from sklearn.cluster import KMeans\n",
    "import pandas as pd\n",
    "\n",
    "import kociemba\n",
    "\n",
    "%matplotlib inline\n",
    "\n",
    "import matplotlib.pyplot as plt"
   ]
  },
  {
   "cell_type": "code",
   "execution_count": null,
   "metadata": {
    "collapsed": true
   },
   "outputs": [],
   "source": [
    "# Import GPIO Libraries\n",
    "import RPi.GPIO as GPIO\n",
    "import time\n"
   ]
  },
  {
   "cell_type": "code",
   "execution_count": null,
   "metadata": {
    "collapsed": true
   },
   "outputs": [],
   "source": [
    "#GPIO.cleanup()"
   ]
  },
  {
   "cell_type": "code",
   "execution_count": null,
   "metadata": {
    "collapsed": true
   },
   "outputs": [],
   "source": [
    "# Set up output pins for the two servo motors\n",
    "GPIO.setmode(GPIO.BCM)\n",
    "GPIO.setup(18, GPIO.OUT)\n",
    "GPIO.setup(19, GPIO.OUT)\n"
   ]
  },
  {
   "cell_type": "code",
   "execution_count": null,
   "metadata": {
    "collapsed": true
   },
   "outputs": [],
   "source": [
    "# A class to extend the PWM object to be a bit smarter\n",
    "class Servo(GPIO.PWM):\n",
    "    \"\"\" Smarter PWM interface to servos.  This adds a set_position method and keeps\n",
    "        the state of the current position\n",
    "    \"\"\"\n",
    "    def __init__(self, pin_number, freq, start_angle, begin_duty_cycle=2.5, \n",
    "                 end_duty_cycle=12.5, sweep_angle=120.0):\n",
    "        super(Servo, self).__init__(pin_number, freq)\n",
    "        \n",
    "        self.angle = start_angle\n",
    "        self.servo_slope = (sweep_angle)/(end_duty_cycle-begin_duty_cycle)\n",
    "        self.servo_intercept = -(self.servo_slope)*begin_duty_cycle\n",
    "        duty_cycle = self._map_angle_to_duty_cycle(start_angle)\n",
    "        self.start(duty_cycle)\n",
    "        \n",
    "    def set_position(self, angle, steps=10, delay=0.1):\n",
    "        \n",
    "        for step in np.linspace(self.angle, angle, steps):\n",
    "            duty_cycle = self._map_angle_to_duty_cycle(step)\n",
    "            self.ChangeDutyCycle(duty_cycle)\n",
    "            time.sleep(delay)\n",
    "        self.angle = angle\n",
    "        \n",
    "    def _map_angle_to_duty_cycle(self, angle):\n",
    "        return (angle-self.servo_intercept)/self.servo_slope\n",
    "    "
   ]
  },
  {
   "cell_type": "code",
   "execution_count": null,
   "metadata": {
    "collapsed": true
   },
   "outputs": [],
   "source": [
    "# Some initial settings which seem to work for my build\n",
    "start_angle = 22\n",
    "hold_angle = 42\n",
    "push_angle = 60\n",
    "angle_0 = 3\n",
    "angle_90 = angle_0+65\n",
    "roll_map = [4, 0, 2, 1, 3, 5]\n",
    "rotate_map = [0, 2, 4, 3, 5, 1]\n",
    "unrotate_map = [0, 5, 1, 3, 2, 4]"
   ]
  },
  {
   "cell_type": "code",
   "execution_count": null,
   "metadata": {
    "collapsed": true
   },
   "outputs": [],
   "source": [
    "def roll_cube(servo_obj, orientation):\n",
    "    servo_obj.set_position(push_angle, delay=0.06)\n",
    "    servo_obj.set_position(start_angle)\n",
    "    orientation = orientation[roll_map]\n",
    "    return orientation\n",
    "    \n",
    "def rotate_cube(servo_obj, orientation):\n",
    "    servo_obj.set_position(angle_90-7)\n",
    "    orientation = orientation[rotate_map]\n",
    "    return orientation\n",
    "    \n",
    "def unrotate_cube(servo_obj, orientation):\n",
    "    servo_obj.set_position(angle_0)\n",
    "    orientation = orientation[unrotate_map]\n",
    "    return orientation\n",
    "    \n",
    "def hold_cube(servo_obj):\n",
    "    servo_obj.set_position(hold_angle)\n",
    "    \n",
    "def return_cube(servo_obj):\n",
    "    servo_obj.set_position(start_angle)\n",
    "    \n",
    "def rotate_side(servo_roll, servo_side, orientation):\n",
    "    hold_cube(servo_roll)\n",
    "    servo_side.set_position(angle_90, delay=0.1)\n",
    "    return_cube(servo_roll)\n",
    "    servo_side.set_position(angle_0, delay=0.06)\n",
    "    orientation = orientation[unrotate_map]\n",
    "    return orientation\n",
    "\n",
    "def counter_rotate_side(servo_roll, servo_side, orientation):\n",
    "    servo_side.set_position(angle_90-5.0, delay=0.06)\n",
    "    hold_cube(servo_roll)\n",
    "    servo_side.set_position(angle_0, delay=0.1)\n",
    "    return_cube(servo_roll)\n",
    "    orientation = orientation[rotate_map]\n",
    "    return orientation"
   ]
  },
  {
   "cell_type": "code",
   "execution_count": null,
   "metadata": {
    "collapsed": true
   },
   "outputs": [],
   "source": [
    "# Initialize the two servos\n",
    "servo_roll = Servo(18, 50, start_angle)\n",
    "servo_side = Servo(19, 50, angle_0)"
   ]
  },
  {
   "cell_type": "code",
   "execution_count": null,
   "metadata": {
    "collapsed": true
   },
   "outputs": [],
   "source": [
    "# 'Full' servo range of motion for spin\n",
    "servo_side.set_position(0)\n",
    "servo_side.set_position(110)"
   ]
  },
  {
   "cell_type": "code",
   "execution_count": null,
   "metadata": {
    "collapsed": true
   },
   "outputs": [],
   "source": [
    "# A little \"wake up\" movement from our servos to get them settled.\n",
    "servo_side.set_position(angle_0)\n",
    "servo_side.set_position(angle_90)\n",
    "servo_side.set_position(angle_0)\n",
    "servo_roll.set_position(hold_angle)\n",
    "servo_roll.set_position(start_angle)"
   ]
  },
  {
   "cell_type": "code",
   "execution_count": null,
   "metadata": {
    "collapsed": true
   },
   "outputs": [],
   "source": [
    "# Initialize light\n",
    "led = LED(17)"
   ]
  },
  {
   "cell_type": "code",
   "execution_count": null,
   "metadata": {
    "collapsed": true
   },
   "outputs": [],
   "source": []
  },
  {
   "cell_type": "markdown",
   "metadata": {},
   "source": [
    "# Begin scan of cube faces"
   ]
  },
  {
   "cell_type": "code",
   "execution_count": null,
   "metadata": {
    "collapsed": true
   },
   "outputs": [],
   "source": [
    "face_order = np.array(['U', 'R', 'F', 'D', 'L', 'B'])\n",
    "orientation = face_order.copy()\n"
   ]
  },
  {
   "cell_type": "code",
   "execution_count": null,
   "metadata": {
    "collapsed": true
   },
   "outputs": [],
   "source": [
    "camera = PiCamera()"
   ]
  },
  {
   "cell_type": "code",
   "execution_count": null,
   "metadata": {
    "collapsed": true
   },
   "outputs": [],
   "source": [
    "camera.resolution = (120, 120)\n",
    "\n",
    "camera.hflip = False\n",
    "camera.vflip = False\n",
    "camera.brightness = 50 # the default is 50, but you can set it to whatever."
   ]
  },
  {
   "cell_type": "markdown",
   "metadata": {},
   "source": [
    "How about some text on the image."
   ]
  },
  {
   "cell_type": "code",
   "execution_count": null,
   "metadata": {
    "collapsed": true
   },
   "outputs": [],
   "source": [
    "camera.annotate_foreground = Color(1.0,1.0,0.5)\n",
    "\n",
    "camera.annotate_text = \"\"\n",
    "camera.annotate_text_size = 36"
   ]
  },
  {
   "cell_type": "code",
   "execution_count": null,
   "metadata": {
    "collapsed": true
   },
   "outputs": [],
   "source": [
    "# Turn on the LED\n",
    "led.on()"
   ]
  },
  {
   "cell_type": "code",
   "execution_count": null,
   "metadata": {
    "collapsed": true
   },
   "outputs": [],
   "source": [
    "camera.start_preview()\n",
    "sleep(1)\n",
    "camera.capture('./img/cubeU.jpg')\n",
    "camera.stop_preview()"
   ]
  },
  {
   "cell_type": "code",
   "execution_count": null,
   "metadata": {
    "collapsed": true
   },
   "outputs": [],
   "source": [
    "# Move cube to show left side with down side at base of camera\n",
    "orientation = roll_cube(servo_roll, orientation)\n",
    "orientation = rotate_cube(servo_side, orientation)"
   ]
  },
  {
   "cell_type": "code",
   "execution_count": null,
   "metadata": {
    "collapsed": true
   },
   "outputs": [],
   "source": [
    "camera.start_preview()\n",
    "sleep(1)\n",
    "camera.capture('./img/cubeL.jpg')\n",
    "camera.stop_preview()"
   ]
  },
  {
   "cell_type": "code",
   "execution_count": null,
   "metadata": {
    "collapsed": true
   },
   "outputs": [],
   "source": [
    "orientation = roll_cube(servo_roll, orientation)"
   ]
  },
  {
   "cell_type": "code",
   "execution_count": null,
   "metadata": {
    "collapsed": true
   },
   "outputs": [],
   "source": [
    "camera.start_preview()\n",
    "sleep(1)\n",
    "camera.capture('./img/cubeB.jpg')\n",
    "camera.stop_preview()"
   ]
  },
  {
   "cell_type": "code",
   "execution_count": null,
   "metadata": {
    "collapsed": true
   },
   "outputs": [],
   "source": [
    "orientation = roll_cube(servo_roll, orientation)"
   ]
  },
  {
   "cell_type": "code",
   "execution_count": null,
   "metadata": {
    "collapsed": true
   },
   "outputs": [],
   "source": [
    "camera.start_preview()\n",
    "sleep(1)\n",
    "camera.capture('./img/cubeR.jpg')\n",
    "camera.stop_preview()"
   ]
  },
  {
   "cell_type": "code",
   "execution_count": null,
   "metadata": {
    "collapsed": true
   },
   "outputs": [],
   "source": [
    "orientation = roll_cube(servo_roll, orientation)"
   ]
  },
  {
   "cell_type": "code",
   "execution_count": null,
   "metadata": {
    "collapsed": true
   },
   "outputs": [],
   "source": [
    "camera.start_preview()\n",
    "sleep(1)\n",
    "camera.capture('./img/cubeF.jpg')\n",
    "camera.stop_preview()"
   ]
  },
  {
   "cell_type": "code",
   "execution_count": null,
   "metadata": {
    "collapsed": true
   },
   "outputs": [],
   "source": [
    "orientation = unrotate_cube(servo_side, orientation)\n",
    "orientation = roll_cube(servo_roll, orientation)\n",
    "orientation = rotate_cube(servo_side, orientation)"
   ]
  },
  {
   "cell_type": "code",
   "execution_count": null,
   "metadata": {
    "collapsed": true
   },
   "outputs": [],
   "source": [
    "camera.start_preview()\n",
    "sleep(1)\n",
    "camera.capture('./img/cubeD.jpg')\n",
    "camera.stop_preview()"
   ]
  },
  {
   "cell_type": "code",
   "execution_count": null,
   "metadata": {
    "collapsed": true
   },
   "outputs": [],
   "source": [
    "orientation = unrotate_cube(servo_side, orientation)"
   ]
  },
  {
   "cell_type": "code",
   "execution_count": null,
   "metadata": {
    "collapsed": true
   },
   "outputs": [],
   "source": [
    "led.off()"
   ]
  },
  {
   "cell_type": "code",
   "execution_count": null,
   "metadata": {
    "collapsed": true
   },
   "outputs": [],
   "source": [
    "camera.close()"
   ]
  },
  {
   "cell_type": "code",
   "execution_count": null,
   "metadata": {
    "collapsed": true
   },
   "outputs": [],
   "source": [
    "orientation"
   ]
  },
  {
   "cell_type": "markdown",
   "metadata": {},
   "source": [
    "## Now process the images..."
   ]
  },
  {
   "cell_type": "code",
   "execution_count": null,
   "metadata": {
    "collapsed": true
   },
   "outputs": [],
   "source": []
  },
  {
   "cell_type": "code",
   "execution_count": null,
   "metadata": {
    "collapsed": true
   },
   "outputs": [],
   "source": [
    "face_images = {}\n",
    "face_images_out = []\n",
    "squares = {}\n",
    "masks = {}  # for QA"
   ]
  },
  {
   "cell_type": "code",
   "execution_count": null,
   "metadata": {
    "collapsed": true
   },
   "outputs": [],
   "source": [
    "for face in face_order:\n",
    "    # read and cache images in dict\n",
    "    face_images[face] = (imread('./img/cube%s.jpg' % face))\n",
    "\n",
    "    img = face_images[face]\n",
    "    mask = np.empty(img.shape[:2], dtype=np.bool)\n",
    "    mask[::]=False\n",
    "    row_coords = [(25, 30), (50, 55), (75, 80)]\n",
    "    col_coords = [(38, 43), (65, 70), (95, 100)]\n",
    "    squares[face] = np.zeros((3, 3, 3))\n",
    "    row = 0\n",
    "    # extract average RGB values from approximate square centers\n",
    "    for i in row_coords:\n",
    "        col = 0\n",
    "        for j in col_coords:\n",
    "            mask[i[0]:i[1], j[0]:j[1]] = True\n",
    "            squares[face][row, col] = (np.average(img[i[0]:i[1], j[0]:j[1], 0]),\n",
    "                                 np.average(img[i[0]:i[1], j[0]:j[1], 1]),\n",
    "                                 np.average(img[i[0]:i[1], j[0]:j[1], 2]))\n",
    "            col+=1\n",
    "        row+=1\n",
    "    # to show last image alignment\n",
    "    masks[face] = mark_boundaries(img, mask)"
   ]
  },
  {
   "cell_type": "code",
   "execution_count": null,
   "metadata": {
    "collapsed": true
   },
   "outputs": [],
   "source": [
    "fig_mask = plt.figure()\n",
    "ax = fig_mask.add_subplot(1,1,1)\n",
    "ax.imshow(masks['D'])\n",
    "plt.axis(\"off\")"
   ]
  },
  {
   "cell_type": "code",
   "execution_count": null,
   "metadata": {
    "collapsed": true
   },
   "outputs": [],
   "source": [
    "square_list = []\n",
    "for face in face_order:\n",
    "    for x in range(3):\n",
    "        for y in range(3):\n",
    "            r, g, b = squares[face][x,y]\n",
    "            square_list.append([face, x, y, r, g, b])\n",
    "\n",
    "columns = ['face', 'x', 'y', 'r', 'g', 'b']\n",
    "square_frame = pd.DataFrame(square_list, columns=columns)"
   ]
  },
  {
   "cell_type": "code",
   "execution_count": null,
   "metadata": {
    "collapsed": true
   },
   "outputs": [],
   "source": [
    "square_frame.head(10)"
   ]
  },
  {
   "cell_type": "code",
   "execution_count": null,
   "metadata": {
    "collapsed": true
   },
   "outputs": [],
   "source": [
    "X = square_frame[['r', 'g', 'b']]"
   ]
  },
  {
   "cell_type": "code",
   "execution_count": null,
   "metadata": {
    "collapsed": true
   },
   "outputs": [],
   "source": [
    "km = KMeans(n_clusters=6, random_state=123)\n",
    "km.fit(X)"
   ]
  },
  {
   "cell_type": "code",
   "execution_count": null,
   "metadata": {
    "collapsed": true
   },
   "outputs": [],
   "source": [
    "km.cluster_centers_"
   ]
  },
  {
   "cell_type": "code",
   "execution_count": null,
   "metadata": {
    "collapsed": true
   },
   "outputs": [],
   "source": [
    "palette = np.zeros((100,600,3))\n",
    "#print list(reversed([int(x) for x in km.cluster_centers_[0]]))\n",
    "palette[0:99,0:99] = list(([int(x) for x in km.cluster_centers_[0]]))\n",
    "palette[0:99,100:199] = list(([int(x) for x in km.cluster_centers_[1]]))\n",
    "palette[0:99,200:299] = list(([int(x) for x in km.cluster_centers_[2]]))\n",
    "palette[0:99,300:399] = list(([int(x) for x in km.cluster_centers_[3]]))\n",
    "palette[0:99,400:499] = list(([int(x) for x in km.cluster_centers_[4]]))\n",
    "palette[0:99,500:599] = list(([int(x) for x in km.cluster_centers_[5]]))"
   ]
  },
  {
   "cell_type": "code",
   "execution_count": null,
   "metadata": {
    "collapsed": true
   },
   "outputs": [],
   "source": [
    "centers_list = []\n",
    "center_rgb = square_frame[(square_frame['x']==1) & (square_frame['y']==1)]\n",
    "print center_rgb"
   ]
  },
  {
   "cell_type": "code",
   "execution_count": null,
   "metadata": {
    "collapsed": true
   },
   "outputs": [],
   "source": [
    "square_mapper = {}\n",
    "center_map = km.predict(center_rgb[['r', 'g', 'b']])\n",
    "for i in range(6):\n",
    "    square_mapper[center_map[i]] = face_order[i]"
   ]
  },
  {
   "cell_type": "code",
   "execution_count": null,
   "metadata": {
    "collapsed": true
   },
   "outputs": [],
   "source": [
    "center_map"
   ]
  },
  {
   "cell_type": "code",
   "execution_count": null,
   "metadata": {
    "collapsed": true
   },
   "outputs": [],
   "source": [
    "square_mapper"
   ]
  },
  {
   "cell_type": "code",
   "execution_count": null,
   "metadata": {
    "collapsed": true
   },
   "outputs": [],
   "source": [
    "square_predict = km.predict(square_frame[['r', 'g', 'b']])"
   ]
  },
  {
   "cell_type": "code",
   "execution_count": null,
   "metadata": {
    "collapsed": true
   },
   "outputs": [],
   "source": [
    "squares = []\n",
    "for square in square_predict:\n",
    "    squares.append(square_mapper[square])"
   ]
  },
  {
   "cell_type": "code",
   "execution_count": null,
   "metadata": {
    "collapsed": true
   },
   "outputs": [],
   "source": [
    "cube = ''.join(squares)"
   ]
  },
  {
   "cell_type": "code",
   "execution_count": null,
   "metadata": {
    "collapsed": true
   },
   "outputs": [],
   "source": [
    "cube"
   ]
  },
  {
   "cell_type": "markdown",
   "metadata": {},
   "source": [
    "## Solve it!"
   ]
  },
  {
   "cell_type": "code",
   "execution_count": null,
   "metadata": {
    "collapsed": true
   },
   "outputs": [],
   "source": [
    "solution = kociemba.solve(cube)"
   ]
  },
  {
   "cell_type": "code",
   "execution_count": null,
   "metadata": {
    "collapsed": true
   },
   "outputs": [],
   "source": [
    "len(solution.split(' '))"
   ]
  },
  {
   "cell_type": "code",
   "execution_count": null,
   "metadata": {
    "collapsed": true
   },
   "outputs": [],
   "source": [
    "solution"
   ]
  },
  {
   "cell_type": "code",
   "execution_count": null,
   "metadata": {
    "collapsed": true
   },
   "outputs": [],
   "source": []
  },
  {
   "cell_type": "code",
   "execution_count": null,
   "metadata": {
    "collapsed": true
   },
   "outputs": [],
   "source": [
    "orientation = np.array(['D', 'F', 'R', 'U', 'B', 'L'],\n",
    "      dtype='|S1')"
   ]
  },
  {
   "cell_type": "code",
   "execution_count": null,
   "metadata": {
    "collapsed": true
   },
   "outputs": [],
   "source": [
    "def reorient(move_string, orientation):\n",
    "    for move in move_string.split(' '):\n",
    "        if move == 'roll':\n",
    "            orientation = roll_cube(servo_roll, orientation)\n",
    "        if move == 'rotate':\n",
    "            orientation = rotate_cube(servo_side, orientation)\n",
    "        if move == 'unrotate':\n",
    "            orientation = unrotate_cube(servo_side, orientation)\n",
    "    return orientation"
   ]
  },
  {
   "cell_type": "code",
   "execution_count": null,
   "metadata": {
    "collapsed": true
   },
   "outputs": [],
   "source": [
    "# this dict lists moves to get the desired index into the '3' position (on bottom)\n",
    "reorient_map = {0: \"roll roll\", 1: \"roll\", 2: \"rotate roll unrotate\",\n",
    "                3: \"\", 4: \"roll roll roll\", 5: \"rotate roll roll roll unrotate\"}"
   ]
  },
  {
   "cell_type": "code",
   "execution_count": null,
   "metadata": {
    "collapsed": true
   },
   "outputs": [],
   "source": [
    "#orientation = reorient(reorient_map[5], orientation)"
   ]
  },
  {
   "cell_type": "code",
   "execution_count": null,
   "metadata": {
    "collapsed": true
   },
   "outputs": [],
   "source": [
    "solution_list = solution.split(' ')\n",
    "for move in solution_list:\n",
    "    print \"premove orientation = %s\" % orientation\n",
    "    if move[0] != orientation[3]:  # not already on bottom\n",
    "        curr_move_side = np.argwhere(orientation==move[0])[0][0]\n",
    "        orientation = reorient(reorient_map[curr_move_side], orientation)\n",
    "    print \"reorient = %s\" % orientation\n",
    "    # rotate the side\n",
    "    if len(move)>1:\n",
    "        if move[1]==\"'\":\n",
    "            orientation = rotate_side(servo_roll, servo_side, orientation)\n",
    "            orientation = rotate_side(servo_roll, servo_side, orientation)\n",
    "            orientation = rotate_side(servo_roll, servo_side, orientation)\n",
    "        elif move[1]==\"2\":\n",
    "            orientation = rotate_side(servo_roll, servo_side, orientation)\n",
    "            orientation = rotate_side(servo_roll, servo_side, orientation)\n",
    "    else:\n",
    "        orientation = rotate_side(servo_roll, servo_side, orientation)"
   ]
  },
  {
   "cell_type": "code",
   "execution_count": null,
   "metadata": {
    "collapsed": true
   },
   "outputs": [],
   "source": []
  },
  {
   "cell_type": "code",
   "execution_count": null,
   "metadata": {
    "collapsed": true
   },
   "outputs": [],
   "source": [
    "camera.close()"
   ]
  },
  {
   "cell_type": "code",
   "execution_count": null,
   "metadata": {
    "collapsed": true
   },
   "outputs": [],
   "source": []
  }
 ],
 "metadata": {
  "kernelspec": {
   "display_name": "Python 2",
   "language": "python",
   "name": "python2"
  },
  "language_info": {
   "codemirror_mode": {
    "name": "ipython",
    "version": 2
   },
   "file_extension": ".py",
   "mimetype": "text/x-python",
   "name": "python",
   "nbconvert_exporter": "python",
   "pygments_lexer": "ipython2",
   "version": "2.7.9"
  }
 },
 "nbformat": 4,
 "nbformat_minor": 1
}
