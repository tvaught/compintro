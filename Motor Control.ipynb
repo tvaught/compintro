{
 "cells": [
  {
   "cell_type": "markdown",
   "metadata": {},
   "source": [
    "# Motor Control"
   ]
  },
  {
   "cell_type": "markdown",
   "metadata": {},
   "source": [
    "**Note: The wiring for this is very important.  Please double-check your connections before proceeding.**"
   ]
  },
  {
   "cell_type": "code",
   "execution_count": 1,
   "metadata": {
    "collapsed": true
   },
   "outputs": [],
   "source": [
    "# Import GPIO Libraries\n",
    "import RPi.GPIO as GPIO\n",
    "import time"
   ]
  },
  {
   "cell_type": "code",
   "execution_count": 14,
   "metadata": {
    "collapsed": false
   },
   "outputs": [],
   "source": [
    "GPIO.setmode(GPIO.BCM)\n",
    "\n",
    "coil_A_1_pin = 18\n",
    "coil_A_2_pin = 23\n",
    "coil_B_1_pin = 24\n",
    "coil_B_2_pin = 17\n",
    "\n",
    "GPIO.setup(coil_A_1_pin, GPIO.OUT)\n",
    "GPIO.setup(coil_A_2_pin, GPIO.OUT)\n",
    "GPIO.setup(coil_B_1_pin, GPIO.OUT)\n",
    "GPIO.setup(coil_B_2_pin, GPIO.OUT)\n",
    "\n",
    "forward_seq = ['1010', '0110', '0101', '1001']\n",
    "reverse_seq = list(forward_seq) # to copy the list\n",
    "reverse_seq.reverse()\n"
   ]
  },
  {
   "cell_type": "code",
   "execution_count": 15,
   "metadata": {
    "collapsed": true
   },
   "outputs": [],
   "source": [
    "def forward(delay, steps):\n",
    "  for i in range(steps):\n",
    "    for step in forward_seq:\n",
    "      set_step(step)\n",
    "      time.sleep(delay)\n",
    "\n",
    "def backwards(delay, steps):\n",
    "  for i in range(steps):\n",
    "    for step in reverse_seq:\n",
    "      set_step(step)\n",
    "      time.sleep(delay)\n",
    "\n",
    "\n",
    "def set_step(step):\n",
    "  GPIO.output(coil_A_1_pin, step[0] == '1')\n",
    "  GPIO.output(coil_A_2_pin, step[1] == '1')\n",
    "  GPIO.output(coil_B_1_pin, step[2] == '1')\n",
    "  GPIO.output(coil_B_2_pin, step[3] == '1')\n",
    "\n"
   ]
  },
  {
   "cell_type": "code",
   "execution_count": 33,
   "metadata": {
    "collapsed": false
   },
   "outputs": [],
   "source": [
    "set_step('0000')\n",
    "delay = 20 # Time Delay (ms)\n",
    "steps = 60\n",
    "forward(int(delay) / 1000.0, int(steps))\n",
    "\n",
    "backwards(int(delay) / 1000.0, int(steps))\n",
    "\n",
    "forward_seq = ['1010', '0110', '0101', '1001']\n",
    "reverse_seq = list(forward_seq) # to copy the list\n",
    "reverse_seq.reverse()\n",
    "\n",
    "set_step('0000')\n",
    "forward(int(delay) / 1000.0, int(steps))\n",
    "\n",
    "backwards(int(delay) / 1000.0, int(steps))\n",
    "set_step('0000')\n"
   ]
  },
  {
   "cell_type": "code",
   "execution_count": null,
   "metadata": {
    "collapsed": true
   },
   "outputs": [],
   "source": []
  },
  {
   "cell_type": "code",
   "execution_count": null,
   "metadata": {
    "collapsed": true
   },
   "outputs": [],
   "source": []
  }
 ],
 "metadata": {
  "kernelspec": {
   "display_name": "Python 2",
   "language": "python",
   "name": "python2"
  },
  "language_info": {
   "codemirror_mode": {
    "name": "ipython",
    "version": 2
   },
   "file_extension": ".py",
   "mimetype": "text/x-python",
   "name": "python",
   "nbconvert_exporter": "python",
   "pygments_lexer": "ipython2",
   "version": "2.7.9"
  }
 },
 "nbformat": 4,
 "nbformat_minor": 0
}
