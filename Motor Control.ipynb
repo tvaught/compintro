{
 "cells": [
  {
   "cell_type": "markdown",
   "metadata": {},
   "source": [
    "# Motor Control"
   ]
  },
  {
   "cell_type": "markdown",
   "metadata": {},
   "source": [
    "**Note: The wiring for this is very important.  Please double-check your connections before proceeding.**"
   ]
  },
  {
   "cell_type": "code",
   "execution_count": 2,
   "metadata": {},
   "outputs": [],
   "source": [
    "# Import GPIO Libraries\n",
    "import RPi.GPIO as GPIO\n",
    "import time\n",
    "#GPIO.cleanup()"
   ]
  },
  {
   "cell_type": "code",
   "execution_count": 3,
   "metadata": {},
   "outputs": [
    {
     "name": "stderr",
     "output_type": "stream",
     "text": [
      "/usr/local/lib/python2.7/dist-packages/ipykernel_launcher.py:8: RuntimeWarning: This channel is already in use, continuing anyway.  Use GPIO.setwarnings(False) to disable warnings.\n",
      "  \n",
      "/usr/local/lib/python2.7/dist-packages/ipykernel_launcher.py:9: RuntimeWarning: This channel is already in use, continuing anyway.  Use GPIO.setwarnings(False) to disable warnings.\n",
      "  if __name__ == '__main__':\n",
      "/usr/local/lib/python2.7/dist-packages/ipykernel_launcher.py:10: RuntimeWarning: This channel is already in use, continuing anyway.  Use GPIO.setwarnings(False) to disable warnings.\n",
      "  # Remove the CWD from sys.path while we load stuff.\n",
      "/usr/local/lib/python2.7/dist-packages/ipykernel_launcher.py:11: RuntimeWarning: This channel is already in use, continuing anyway.  Use GPIO.setwarnings(False) to disable warnings.\n",
      "  # This is added back by InteractiveShellApp.init_path()\n"
     ]
    }
   ],
   "source": [
    "GPIO.setmode(GPIO.BCM)\n",
    "\n",
    "coil_A_1_pin = 12\n",
    "coil_A_2_pin = 16\n",
    "coil_B_1_pin = 20\n",
    "coil_B_2_pin = 21\n",
    "\n",
    "GPIO.setup(coil_A_1_pin, GPIO.OUT)\n",
    "GPIO.setup(coil_A_2_pin, GPIO.OUT)\n",
    "GPIO.setup(coil_B_1_pin, GPIO.OUT)\n",
    "GPIO.setup(coil_B_2_pin, GPIO.OUT)\n",
    "\n",
    "#forward_seq = ['1001', '1100', '0110', '0011']\n",
    "#forward_seq = ['1000', '0100', '0010', '0001']\n",
    "#forward_seq = ['1001', '1100', '1010', '0110', '0101', '0011']\n",
    "#forward_seq = ['1001', '1100','0110','0011']\n",
    "forward_seq = ['1100', '0100', '0110', '0010', '0011', '0001', '1001', '1000']\n",
    "reverse_seq = list(forward_seq) # to copy the list\n",
    "reverse_seq.reverse()\n"
   ]
  },
  {
   "cell_type": "code",
   "execution_count": 4,
   "metadata": {
    "collapsed": true
   },
   "outputs": [],
   "source": [
    "last_step='0000'\n",
    "\n",
    "def forward(delay, steps):\n",
    "  for i in range(steps):\n",
    "    for s in forward_seq:\n",
    "      set_step(s)\n",
    "      time.sleep(delay)\n",
    "\n",
    "def backwards(delay, steps):\n",
    "  for i in range(steps):\n",
    "    for s in reverse_seq:\n",
    "      set_step(s)\n",
    "      time.sleep(delay)\n",
    "\n",
    "\n",
    "def set_step(step):\n",
    "  GPIO.output(coil_A_1_pin, step[0] == '1')\n",
    "  GPIO.output(coil_A_2_pin, step[1] == '1')\n",
    "  GPIO.output(coil_B_1_pin, step[2] == '1')\n",
    "  GPIO.output(coil_B_2_pin, step[3] == '1')\n",
    "  \n",
    "\n"
   ]
  },
  {
   "cell_type": "code",
   "execution_count": 5,
   "metadata": {
    "collapsed": true
   },
   "outputs": [],
   "source": [
    "set_step('0000')\n",
    "delay = 2\n",
    "# Time Delay (ms)\n",
    "steps = 25\n",
    "forward(int(delay) / 1000.0, int(steps))\n",
    "\n",
    "#backwards(int(delay) / 1000.0, int(steps))\n",
    "#set_step('0000')"
   ]
  },
  {
   "cell_type": "markdown",
   "metadata": {},
   "source": [
    "# Servo Control"
   ]
  },
  {
   "cell_type": "code",
   "execution_count": 202,
   "metadata": {
    "collapsed": true
   },
   "outputs": [],
   "source": [
    "set_step('0000')"
   ]
  },
  {
   "cell_type": "code",
   "execution_count": 213,
   "metadata": {
    "collapsed": true
   },
   "outputs": [],
   "source": [
    "GPIO.setmode(GPIO.BCM)\n",
    "GPIO.setup(18, GPIO.OUT)\n",
    "p = GPIO.PWM(18, 50)"
   ]
  },
  {
   "cell_type": "code",
   "execution_count": 214,
   "metadata": {
    "collapsed": true
   },
   "outputs": [],
   "source": [
    "p.start(7.5)"
   ]
  },
  {
   "cell_type": "code",
   "execution_count": 215,
   "metadata": {
    "collapsed": true
   },
   "outputs": [],
   "source": [
    "p.ChangeDutyCycle(6.4)"
   ]
  },
  {
   "cell_type": "code",
   "execution_count": 395,
   "metadata": {
    "collapsed": true
   },
   "outputs": [],
   "source": [
    "delay = 4\n",
    "start_pos = 5.0\n",
    "hold_pos = 6.45\n",
    "push_pos = 8.3"
   ]
  },
  {
   "cell_type": "markdown",
   "metadata": {
    "collapsed": true
   },
   "source": [
    "## Rotate whole cube:"
   ]
  },
  {
   "cell_type": "code",
   "execution_count": 485,
   "metadata": {
    "collapsed": true
   },
   "outputs": [],
   "source": [
    "def servo_slow_move(servo_obj, start_position, end_position, increments=10, delay=0.05):\n",
    "    # try to s_l_o_w_l_y move the servo by putting a delay between small incremental moves\n",
    "    for i in range(increments):\n",
    "        increm = float(increments)\n",
    "        move_percent = (increm-i)/increm -(1.0/increm)  # try to end with 0 percent\n",
    "        servo_obj.ChangeDutyCycle((move_percent*(start_position - end_position))+end_position)\n",
    "        time.sleep(delay)  # this is the slight delay\n",
    "        #print move_percent"
   ]
  },
  {
   "cell_type": "code",
   "execution_count": 486,
   "metadata": {
    "collapsed": true
   },
   "outputs": [],
   "source": [
    "servo_slow_move(p, start_pos, hold_pos, delay=.1)"
   ]
  },
  {
   "cell_type": "code",
   "execution_count": 501,
   "metadata": {
    "collapsed": true
   },
   "outputs": [],
   "source": [
    "def rotate_cube(num_turns):\n",
    "    for i in range(num_turns):\n",
    "        p.ChangeDutyCycle(start_pos)\n",
    "        time.sleep(0.25)\n",
    "        servo_slow_move(p, start_pos, push_pos, increments=2, delay=0.1)\n",
    "        time.sleep(0.8)\n",
    "        servo_slow_move(p, push_pos, start_pos, increments=10, delay=0.1)\n",
    "        #p.ChangeDutyCycle(start_pos)\n",
    "        time.sleep(0.2)"
   ]
  },
  {
   "cell_type": "code",
   "execution_count": 504,
   "metadata": {
    "collapsed": true
   },
   "outputs": [],
   "source": [
    "def hold_cube():\n",
    "    # Grab the cube (or at least hold it still on top)\n",
    "    time.sleep(0.2)\n",
    "    servo_slow_move(p, start_pos, hold_pos, increments=10, delay=0.1)\n",
    "    time.sleep(0.2)"
   ]
  },
  {
   "cell_type": "code",
   "execution_count": 505,
   "metadata": {
    "collapsed": true
   },
   "outputs": [],
   "source": [
    "rotate_cube(2)"
   ]
  },
  {
   "cell_type": "code",
   "execution_count": 507,
   "metadata": {
    "collapsed": true
   },
   "outputs": [],
   "source": [
    "hold_cube()"
   ]
  },
  {
   "cell_type": "code",
   "execution_count": 511,
   "metadata": {
    "collapsed": true
   },
   "outputs": [],
   "source": [
    "p??"
   ]
  },
  {
   "cell_type": "markdown",
   "metadata": {},
   "source": [
    "## Now try a turn:"
   ]
  },
  {
   "cell_type": "code",
   "execution_count": 6,
   "metadata": {
    "collapsed": true
   },
   "outputs": [],
   "source": [
    "def rotate_side(num_turns):\n",
    "    \"\"\" rotates the bottom face a quarter turn for each num_turns\n",
    "    \"\"\"\n",
    "    \n",
    "    hold_cube()\n",
    "    \n",
    "    delay = 3  # Motor Time Delay (ms)\n",
    "    steps = 13 # a quarter turn(ish)\n",
    "    \n",
    "    for i in range(num_turns):\n",
    "        adj = i % 2\n",
    "        forward(int(delay) / 1000.0, int(steps-adj))\n",
    "        #print \"rotate steps: %s, adj: %s\" % (steps, adj)\n",
    "        time.sleep(.25)\n",
    "        backwards(delay/1000.0, 1)\n",
    "        set_step('1001')\n",
    "    \n",
    "    p.ChangeDutyCycle(start_pos)\n",
    "    time.sleep(0.3)"
   ]
  },
  {
   "cell_type": "code",
   "execution_count": 7,
   "metadata": {
    "collapsed": true
   },
   "outputs": [],
   "source": [
    "def straighten_cube(wiggle=2):\n",
    "    # Grab the cube (or at least hold it still on top)\n",
    "    p.ChangeDutyCycle(start_pos)\n",
    "    time.sleep(0.4)\n",
    "    p.ChangeDutyCycle((hold_pos+start_pos)/2.0)  # move halfway to slow things down\n",
    "    time.sleep(0.2)\n",
    "    p.ChangeDutyCycle(hold_pos)\n",
    "    time.sleep(0.5)\n",
    "    \n",
    "    forward(int(delay) / 1000.0, 2)\n",
    "    #print \"rotate steps: %s, adj: %s\" % (steps, adj)\n",
    "    time.sleep(.25)\n",
    "    backwards(delay/1000.0, 2)\n",
    "    set_step('1001')\n",
    "    \n",
    "    time.sleep(0.2)\n",
    "    p.ChangeDutyCycle(start_pos)\n",
    "    time.sleep(0.4)"
   ]
  },
  {
   "cell_type": "code",
   "execution_count": 8,
   "metadata": {},
   "outputs": [
    {
     "ename": "NameError",
     "evalue": "global name 'p' is not defined",
     "output_type": "error",
     "traceback": [
      "\u001b[0;31m---------------------------------------------------------------------------\u001b[0m",
      "\u001b[0;31mNameError\u001b[0m                                 Traceback (most recent call last)",
      "\u001b[0;32m<ipython-input-8-3ee62b41d643>\u001b[0m in \u001b[0;36m<module>\u001b[0;34m()\u001b[0m\n\u001b[1;32m      1\u001b[0m \u001b[0;31m#rotate_side(1)\u001b[0m\u001b[0;34m\u001b[0m\u001b[0;34m\u001b[0m\u001b[0m\n\u001b[0;32m----> 2\u001b[0;31m \u001b[0mstraighten_cube\u001b[0m\u001b[0;34m(\u001b[0m\u001b[0;36m4\u001b[0m\u001b[0;34m)\u001b[0m\u001b[0;34m\u001b[0m\u001b[0m\n\u001b[0m",
      "\u001b[0;32m<ipython-input-7-304b0b10616c>\u001b[0m in \u001b[0;36mstraighten_cube\u001b[0;34m(wiggle)\u001b[0m\n\u001b[1;32m      1\u001b[0m \u001b[0;32mdef\u001b[0m \u001b[0mstraighten_cube\u001b[0m\u001b[0;34m(\u001b[0m\u001b[0mwiggle\u001b[0m\u001b[0;34m=\u001b[0m\u001b[0;36m2\u001b[0m\u001b[0;34m)\u001b[0m\u001b[0;34m:\u001b[0m\u001b[0;34m\u001b[0m\u001b[0m\n\u001b[1;32m      2\u001b[0m     \u001b[0;31m# Grab the cube (or at least hold it still on top)\u001b[0m\u001b[0;34m\u001b[0m\u001b[0;34m\u001b[0m\u001b[0m\n\u001b[0;32m----> 3\u001b[0;31m     \u001b[0mp\u001b[0m\u001b[0;34m.\u001b[0m\u001b[0mChangeDutyCycle\u001b[0m\u001b[0;34m(\u001b[0m\u001b[0mstart_pos\u001b[0m\u001b[0;34m)\u001b[0m\u001b[0;34m\u001b[0m\u001b[0m\n\u001b[0m\u001b[1;32m      4\u001b[0m     \u001b[0mtime\u001b[0m\u001b[0;34m.\u001b[0m\u001b[0msleep\u001b[0m\u001b[0;34m(\u001b[0m\u001b[0;36m0.4\u001b[0m\u001b[0;34m)\u001b[0m\u001b[0;34m\u001b[0m\u001b[0m\n\u001b[1;32m      5\u001b[0m     \u001b[0mp\u001b[0m\u001b[0;34m.\u001b[0m\u001b[0mChangeDutyCycle\u001b[0m\u001b[0;34m(\u001b[0m\u001b[0;34m(\u001b[0m\u001b[0mhold_pos\u001b[0m\u001b[0;34m+\u001b[0m\u001b[0mstart_pos\u001b[0m\u001b[0;34m)\u001b[0m\u001b[0;34m/\u001b[0m\u001b[0;36m2.0\u001b[0m\u001b[0;34m)\u001b[0m  \u001b[0;31m# move halfway to slow things down\u001b[0m\u001b[0;34m\u001b[0m\u001b[0m\n",
      "\u001b[0;31mNameError\u001b[0m: global name 'p' is not defined"
     ]
    }
   ],
   "source": [
    "#rotate_side(1)\n",
    "straighten_cube(4)"
   ]
  },
  {
   "cell_type": "code",
   "execution_count": 353,
   "metadata": {
    "collapsed": true
   },
   "outputs": [],
   "source": [
    "def moves_seq(move_str):\n",
    "    moves = move_str.split(' ')\n",
    "    for move in moves:\n",
    "        if move=='c':\n",
    "            rotate_cube(1)\n",
    "        elif move=='s':\n",
    "            rotate_side(1)\n",
    "            straighten_cube()\n",
    "            "
   ]
  },
  {
   "cell_type": "code",
   "execution_count": 382,
   "metadata": {
    "collapsed": true
   },
   "outputs": [],
   "source": [
    "moves_seq('c s c s s c s s')"
   ]
  },
  {
   "cell_type": "code",
   "execution_count": 338,
   "metadata": {
    "collapsed": true
   },
   "outputs": [],
   "source": [
    "set_step('1001')"
   ]
  },
  {
   "cell_type": "code",
   "execution_count": 337,
   "metadata": {
    "collapsed": true
   },
   "outputs": [],
   "source": [
    "set_step('0000')"
   ]
  },
  {
   "cell_type": "code",
   "execution_count": null,
   "metadata": {
    "collapsed": true
   },
   "outputs": [],
   "source": []
  },
  {
   "cell_type": "code",
   "execution_count": 53,
   "metadata": {
    "collapsed": true
   },
   "outputs": [],
   "source": [
    "p.stop()\n",
    "GPIO.cleanup()"
   ]
  },
  {
   "cell_type": "code",
   "execution_count": 110,
   "metadata": {
    "collapsed": true
   },
   "outputs": [],
   "source": []
  },
  {
   "cell_type": "code",
   "execution_count": null,
   "metadata": {
    "collapsed": true
   },
   "outputs": [],
   "source": []
  }
 ],
 "metadata": {
  "kernelspec": {
   "display_name": "Python 2",
   "language": "python",
   "name": "python2"
  },
  "language_info": {
   "codemirror_mode": {
    "name": "ipython",
    "version": 2
   },
   "file_extension": ".py",
   "mimetype": "text/x-python",
   "name": "python",
   "nbconvert_exporter": "python",
   "pygments_lexer": "ipython2",
   "version": "2.7.9"
  }
 },
 "nbformat": 4,
 "nbformat_minor": 1
}
