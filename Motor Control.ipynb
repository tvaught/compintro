{
 "cells": [
  {
   "cell_type": "markdown",
   "metadata": {},
   "source": [
    "# Motor Control"
   ]
  },
  {
   "cell_type": "markdown",
   "metadata": {},
   "source": [
    "**Note: The wiring for this is very important.  Please double-check your connections before proceeding.**"
   ]
  },
  {
   "cell_type": "code",
   "execution_count": 3,
   "metadata": {
    "collapsed": true
   },
   "outputs": [],
   "source": [
    "# Import GPIO Libraries\n",
    "import RPi.GPIO as GPIO\n",
    "import time\n",
    "GPIO.cleanup()"
   ]
  },
  {
   "cell_type": "code",
   "execution_count": 243,
   "metadata": {},
   "outputs": [],
   "source": [
    "GPIO.setmode(GPIO.BCM)\n",
    "\n",
    "coil_A_1_pin = 12\n",
    "coil_A_2_pin = 16\n",
    "coil_B_1_pin = 20\n",
    "coil_B_2_pin = 21\n",
    "\n",
    "GPIO.setup(coil_A_1_pin, GPIO.OUT)\n",
    "GPIO.setup(coil_A_2_pin, GPIO.OUT)\n",
    "GPIO.setup(coil_B_1_pin, GPIO.OUT)\n",
    "GPIO.setup(coil_B_2_pin, GPIO.OUT)\n",
    "\n",
    "#forward_seq = ['1001', '1100', '0110', '0011']\n",
    "#forward_seq = ['1000', '0100', '0010', '0001']\n",
    "forward_seq = ['1001', '1100', '1010', '0110', '0101', '0011']\n",
    "#forward_seq = ['1100', '0100', '0110', '0010', '0011', '0001', '1001', '1000']\n",
    "reverse_seq = list(forward_seq) # to copy the list\n",
    "reverse_seq.reverse()\n"
   ]
  },
  {
   "cell_type": "code",
   "execution_count": 280,
   "metadata": {
    "collapsed": true
   },
   "outputs": [],
   "source": [
    "last_step='0000'\n",
    "\n",
    "def forward(delay, steps):\n",
    "  for i in range(steps):\n",
    "    for s in forward_seq:\n",
    "      set_step(s)\n",
    "      time.sleep(delay)\n",
    "\n",
    "def backwards(delay, steps):\n",
    "  for i in range(steps):\n",
    "    for s in reverse_seq:\n",
    "      set_step(s)\n",
    "      time.sleep(delay)\n",
    "\n",
    "\n",
    "def set_step(step):\n",
    "  GPIO.output(coil_A_1_pin, step[0] == '1')\n",
    "  GPIO.output(coil_A_2_pin, step[1] == '1')\n",
    "  GPIO.output(coil_B_1_pin, step[2] == '1')\n",
    "  GPIO.output(coil_B_2_pin, step[3] == '1')\n",
    "  \n",
    "\n"
   ]
  },
  {
   "cell_type": "code",
   "execution_count": 6,
   "metadata": {
    "collapsed": true
   },
   "outputs": [],
   "source": [
    "set_step('0000')\n",
    "delay = 2\n",
    "# Time Delay (ms)\n",
    "steps = 40\n",
    "forward(int(delay) / 1000.0, int(steps))\n",
    "\n",
    "backwards(int(delay) / 1000.0, int(steps))\n",
    "set_step('0000')"
   ]
  },
  {
   "cell_type": "markdown",
   "metadata": {},
   "source": [
    "## Servo Control"
   ]
  },
  {
   "cell_type": "code",
   "execution_count": 7,
   "metadata": {
    "collapsed": true
   },
   "outputs": [],
   "source": [
    "GPIO.setmode(GPIO.BCM)\n",
    "GPIO.setup(18, GPIO.OUT)\n",
    "p = GPIO.PWM(18, 50)"
   ]
  },
  {
   "cell_type": "code",
   "execution_count": 8,
   "metadata": {
    "collapsed": true
   },
   "outputs": [],
   "source": [
    "p.start(7.5)"
   ]
  },
  {
   "cell_type": "code",
   "execution_count": 347,
   "metadata": {
    "collapsed": true
   },
   "outputs": [],
   "source": [
    "p.ChangeDutyCycle(5)"
   ]
  },
  {
   "cell_type": "code",
   "execution_count": 320,
   "metadata": {
    "collapsed": true
   },
   "outputs": [],
   "source": [
    "start_pos = 5.0\n",
    "hold_pos = 6.45\n",
    "push_pos = 8.1"
   ]
  },
  {
   "cell_type": "markdown",
   "metadata": {
    "collapsed": true
   },
   "source": [
    "## Rotate whole cube:"
   ]
  },
  {
   "cell_type": "code",
   "execution_count": 321,
   "metadata": {
    "collapsed": true
   },
   "outputs": [],
   "source": [
    "def rotate_cube(num_turns):\n",
    "    for i in range(num_turns):\n",
    "        p.ChangeDutyCycle(start_pos)\n",
    "        time.sleep(0.25)\n",
    "        p.ChangeDutyCycle(hold_pos)  # to slow things down a bit\n",
    "        time.sleep(0.25)\n",
    "        p.ChangeDutyCycle(push_pos)\n",
    "        time.sleep(0.6)\n",
    "        p.ChangeDutyCycle(start_pos)"
   ]
  },
  {
   "cell_type": "code",
   "execution_count": 328,
   "metadata": {},
   "outputs": [],
   "source": [
    "rotate_cube(3)"
   ]
  },
  {
   "cell_type": "markdown",
   "metadata": {},
   "source": [
    "## Now try a turn:"
   ]
  },
  {
   "cell_type": "code",
   "execution_count": 340,
   "metadata": {},
   "outputs": [],
   "source": [
    "def rotate_side(num_turns):\n",
    "    \"\"\" rotates the bottom face a quarter turn for each num_turns\n",
    "    \"\"\"\n",
    "    \n",
    "    # Grab the cube (or at least hold it still on top)\n",
    "    p.ChangeDutyCycle(start_pos)\n",
    "    time.sleep(0.4)\n",
    "    p.ChangeDutyCycle((hold_pos+start_pos)/2.0)  # move halfway to slow things down\n",
    "    time.sleep(0.2)\n",
    "    p.ChangeDutyCycle(hold_pos)\n",
    "    time.sleep(0.5)\n",
    "    \n",
    "    delay = 4  # Motor Time Delay (ms)\n",
    "    steps = 14 # a quarter turn(ish)\n",
    "    \n",
    "    for i in range(num_turns):\n",
    "        adj = i % 2\n",
    "        forward(int(delay) / 1000.0, int(steps-adj))\n",
    "        #print \"rotate steps: %s, adj: %s\" % (steps, adj)\n",
    "        time.sleep(.25)\n",
    "        backwards(delay/1000.0, 1)\n",
    "        set_step('1001')\n",
    "    \n",
    "    p.ChangeDutyCycle(start_pos)\n",
    "    time.sleep(0.3)"
   ]
  },
  {
   "cell_type": "code",
   "execution_count": 356,
   "metadata": {
    "collapsed": true
   },
   "outputs": [],
   "source": [
    "def straighten_cube(wiggle=2):\n",
    "    # Grab the cube (or at least hold it still on top)\n",
    "    p.ChangeDutyCycle(start_pos)\n",
    "    time.sleep(0.4)\n",
    "    p.ChangeDutyCycle((hold_pos+start_pos)/2.0)  # move halfway to slow things down\n",
    "    time.sleep(0.2)\n",
    "    p.ChangeDutyCycle(hold_pos)\n",
    "    time.sleep(0.5)\n",
    "    \n",
    "    forward(int(delay) / 1000.0, 2)\n",
    "    #print \"rotate steps: %s, adj: %s\" % (steps, adj)\n",
    "    time.sleep(.25)\n",
    "    backwards(delay/1000.0, 2)\n",
    "    set_step('1001')\n",
    "    \n",
    "    time.sleep(0.2)\n",
    "    p.ChangeDutyCycle(start_pos)\n",
    "    time.sleep(0.4)"
   ]
  },
  {
   "cell_type": "code",
   "execution_count": 357,
   "metadata": {},
   "outputs": [
    {
     "name": "stdout",
     "output_type": "stream",
     "text": [
      "rotate steps: 14, adj: 0\n"
     ]
    }
   ],
   "source": [
    "rotate_side(1)\n",
    "straighten_cube(4)"
   ]
  },
  {
   "cell_type": "code",
   "execution_count": 375,
   "metadata": {
    "collapsed": true
   },
   "outputs": [],
   "source": [
    "def moves_seq(move_str):\n",
    "    moves = move_str.split(' ')\n",
    "    for move in moves:\n",
    "        if move=='c':\n",
    "            rotate_cube(1)\n",
    "        elif move=='s':\n",
    "            rotate_side(1)\n",
    "            straighten_cube()\n",
    "            "
   ]
  },
  {
   "cell_type": "code",
   "execution_count": 376,
   "metadata": {},
   "outputs": [
    {
     "name": "stdout",
     "output_type": "stream",
     "text": [
      "rotate steps: 14, adj: 0\n",
      "rotate steps: 14, adj: 0\n",
      "rotate steps: 14, adj: 0\n",
      "rotate steps: 14, adj: 0\n"
     ]
    }
   ],
   "source": [
    "moves_seq('c s c s s c s')"
   ]
  },
  {
   "cell_type": "code",
   "execution_count": null,
   "metadata": {
    "collapsed": true
   },
   "outputs": [],
   "source": []
  },
  {
   "cell_type": "code",
   "execution_count": 184,
   "metadata": {
    "collapsed": true
   },
   "outputs": [],
   "source": [
    "set_step('0000')"
   ]
  },
  {
   "cell_type": "code",
   "execution_count": null,
   "metadata": {
    "collapsed": true
   },
   "outputs": [],
   "source": []
  },
  {
   "cell_type": "code",
   "execution_count": 162,
   "metadata": {
    "collapsed": true
   },
   "outputs": [],
   "source": [
    "p.stop()\n",
    "GPIO.cleanup()"
   ]
  },
  {
   "cell_type": "code",
   "execution_count": 110,
   "metadata": {
    "collapsed": true
   },
   "outputs": [],
   "source": []
  },
  {
   "cell_type": "code",
   "execution_count": null,
   "metadata": {
    "collapsed": true
   },
   "outputs": [],
   "source": []
  }
 ],
 "metadata": {
  "kernelspec": {
   "display_name": "Python 2",
   "language": "python",
   "name": "python2"
  },
  "language_info": {
   "codemirror_mode": {
    "name": "ipython",
    "version": 2
   },
   "file_extension": ".py",
   "mimetype": "text/x-python",
   "name": "python",
   "nbconvert_exporter": "python",
   "pygments_lexer": "ipython2",
   "version": "2.7.9"
  }
 },
 "nbformat": 4,
 "nbformat_minor": 1
}
