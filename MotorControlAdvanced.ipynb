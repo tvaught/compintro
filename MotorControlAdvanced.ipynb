{
 "cells": [
  {
   "cell_type": "markdown",
   "metadata": {},
   "source": [
    "# Advanced Motor Control"
   ]
  },
  {
   "cell_type": "markdown",
   "metadata": {},
   "source": [
    "**Note: The wiring for this is very important.  Please double-check your connections before proceeding.**"
   ]
  },
  {
   "cell_type": "code",
   "execution_count": null,
   "metadata": {
    "collapsed": true
   },
   "outputs": [],
   "source": [
    "# Import GPIO Libraries\n",
    "import RPi.GPIO as GPIO\n",
    "import time"
   ]
  },
  {
   "cell_type": "markdown",
   "metadata": {},
   "source": [
    "The pin configuration is dependent on the motor and wiring setup.  The following code works for my current wiring setup with two motors and controllers (12V stepper motors and L293D H-Bridge driven with an 8 AA battery pack)"
   ]
  },
  {
   "cell_type": "code",
   "execution_count": null,
   "metadata": {
    "collapsed": false
   },
   "outputs": [],
   "source": [
    "GPIO.setmode(GPIO.BCM)\n",
    "\n",
    "coil_A_1_pin = 18\n",
    "coil_A_2_pin = 23\n",
    "coil_B_1_pin = 24\n",
    "coil_B_2_pin = 17\n",
    "\n",
    "coil_C_1_pin = 16\n",
    "coil_C_2_pin = 21\n",
    "coil_D_1_pin = 12\n",
    "coil_D_2_pin = 20\n",
    "\n",
    "GPIO.setup(coil_A_1_pin, GPIO.OUT)\n",
    "GPIO.setup(coil_A_2_pin, GPIO.OUT)\n",
    "GPIO.setup(coil_B_1_pin, GPIO.OUT)\n",
    "GPIO.setup(coil_B_2_pin, GPIO.OUT)\n",
    "\n",
    "GPIO.setup(coil_C_1_pin, GPIO.OUT)\n",
    "GPIO.setup(coil_C_2_pin, GPIO.OUT)\n",
    "GPIO.setup(coil_D_1_pin, GPIO.OUT)\n",
    "GPIO.setup(coil_D_2_pin, GPIO.OUT)\n",
    "\n",
    "reverse_seq = ['1010', '0110', '0101', '1001']\n",
    "forward_seq = list(reverse_seq) # to copy the list\n",
    "forward_seq.reverse()\n"
   ]
  },
  {
   "cell_type": "code",
   "execution_count": null,
   "metadata": {
    "collapsed": true
   },
   "outputs": [],
   "source": [
    "def m1_forward(delay, steps):\n",
    "    for i in range(steps):\n",
    "        for step in forward_seq:\n",
    "            m1_set_step(step)\n",
    "            time.sleep(delay)\n",
    "\n",
    "def m1_backwards(delay, steps):\n",
    "    for i in range(steps):\n",
    "        for step in reverse_seq:\n",
    "            m1_set_step(step)\n",
    "            time.sleep(delay)\n",
    "\n",
    "\n",
    "def m1_set_step(step):\n",
    "    GPIO.output(coil_A_1_pin, step[0] == '1')\n",
    "    GPIO.output(coil_A_2_pin, step[1] == '1')\n",
    "    GPIO.output(coil_B_1_pin, step[2] == '1')\n",
    "    GPIO.output(coil_B_2_pin, step[3] == '1')\n",
    "\n",
    "    \n",
    "def m2_forward(delay, steps):\n",
    "    for i in range(steps):\n",
    "        for step in forward_seq:\n",
    "            m2_set_step(step)\n",
    "            time.sleep(delay)\n",
    "\n",
    "def m2_backwards(delay, steps):\n",
    "    for i in range(steps):\n",
    "        for step in reverse_seq:\n",
    "            m2_set_step(step)\n",
    "            time.sleep(delay)\n",
    "\n",
    "\n",
    "def m2_set_step(step):\n",
    "    GPIO.output(coil_C_1_pin, step[0] == '1')\n",
    "    GPIO.output(coil_C_2_pin, step[1] == '1')\n",
    "    GPIO.output(coil_D_1_pin, step[2] == '1')\n",
    "    GPIO.output(coil_D_2_pin, step[3] == '1')\n",
    "\n"
   ]
  },
  {
   "cell_type": "code",
   "execution_count": null,
   "metadata": {
    "collapsed": false
   },
   "outputs": [],
   "source": [
    "m1_set_step('0000')\n",
    "m2_set_step('0000')\n",
    "delay = 20 # Time Delay (ms)\n",
    "steps = 5\n",
    "\n",
    "m1_forward(int(delay) / 1000.0, int(steps))\n",
    "m2_forward(int(delay) / 1000.0, int(steps))\n",
    "m1_backwards(int(delay) / 1000.0, int(steps))\n",
    "\n",
    "# release the motors from a 'hold' position\n",
    "m1_set_step('0000')\n",
    "m2_set_step('0000')\n"
   ]
  },
  {
   "cell_type": "code",
   "execution_count": null,
   "metadata": {
    "collapsed": true
   },
   "outputs": [],
   "source": [
    "import numpy as np"
   ]
  },
  {
   "cell_type": "code",
   "execution_count": null,
   "metadata": {
    "collapsed": true
   },
   "outputs": [],
   "source": [
    "x = np.arange(0, 6*np.pi, 0.1)"
   ]
  },
  {
   "cell_type": "code",
   "execution_count": null,
   "metadata": {
    "collapsed": false
   },
   "outputs": [],
   "source": [
    "y = np.sin(x)"
   ]
  },
  {
   "cell_type": "code",
   "execution_count": null,
   "metadata": {
    "collapsed": true
   },
   "outputs": [],
   "source": [
    "x_scaled = x * 20\n",
    "y_scaled = y * 60"
   ]
  },
  {
   "cell_type": "code",
   "execution_count": null,
   "metadata": {
    "collapsed": false
   },
   "outputs": [],
   "source": [
    "x_moves = np.array(x_scaled[1:]-x_scaled[:-1], dtype=int)\n",
    "y_moves = np.array(y_scaled[1:]-y_scaled[:-1], dtype=int)"
   ]
  },
  {
   "cell_type": "code",
   "execution_count": null,
   "metadata": {
    "collapsed": false
   },
   "outputs": [],
   "source": [
    "def draw_etch(x_moves, y_moves, delay=5):\n",
    "    d = delay/1000.0\n",
    "    \n",
    "    for i in range(len(x_moves)):\n",
    "        if x_moves[i]>0:\n",
    "            m2_forward(d, x_moves[i])\n",
    "        elif x_moves[i]<0:\n",
    "            m2_backwards(d, -x_moves[i])\n",
    "        if y_moves[i]>0:\n",
    "            m1_forward(d, y_moves[i])\n",
    "        elif y_moves[i]<0:\n",
    "            m1_backwards(d, -y_moves[i])\n",
    "        \n",
    "    m1_set_step('0000')\n",
    "    m2_set_step('0000')"
   ]
  },
  {
   "cell_type": "code",
   "execution_count": null,
   "metadata": {
    "collapsed": true
   },
   "outputs": [],
   "source": [
    "draw_etch(x_moves, y_moves)"
   ]
  },
  {
   "cell_type": "markdown",
   "metadata": {},
   "source": [
    "# Can we plot an Image with this thing?"
   ]
  },
  {
   "cell_type": "code",
   "execution_count": null,
   "metadata": {
    "collapsed": false
   },
   "outputs": [],
   "source": [
    "# import a bunch of stuff that we'll use to manipulate our images...\n",
    "from skimage.io import imread\n",
    "from skimage import filter\n",
    "import numpy as np\n",
    "\n",
    "from bokeh.plotting import figure, show\n",
    "from bokeh.io import output_notebook\n",
    "\n",
    "output_notebook()"
   ]
  },
  {
   "cell_type": "code",
   "execution_count": null,
   "metadata": {
    "collapsed": false
   },
   "outputs": [],
   "source": [
    "test_image = imread(\"img/snapshot-2.jpg\", as_grey=True)"
   ]
  },
  {
   "cell_type": "code",
   "execution_count": null,
   "metadata": {
    "collapsed": false
   },
   "outputs": [],
   "source": [
    "p = figure(plot_width=480, plot_height=320, x_range=(0, 10), y_range=(0, 10))\n",
    "p.image(image=[test_image[::-1]], x=[0], y=[0], dw=[10], dh=[10])"
   ]
  },
  {
   "cell_type": "code",
   "execution_count": null,
   "metadata": {
    "collapsed": false
   },
   "outputs": [],
   "source": [
    "show(p)"
   ]
  },
  {
   "cell_type": "code",
   "execution_count": null,
   "metadata": {
    "collapsed": true
   },
   "outputs": [],
   "source": [
    "from scipy.ndimage.interpolation import zoom\n",
    "import random"
   ]
  },
  {
   "cell_type": "code",
   "execution_count": null,
   "metadata": {
    "collapsed": true
   },
   "outputs": [],
   "source": [
    "test_rescaled = zoom(test_image,zoom=0.1)"
   ]
  },
  {
   "cell_type": "code",
   "execution_count": null,
   "metadata": {
    "collapsed": false
   },
   "outputs": [],
   "source": [
    "test_rescaled.shape"
   ]
  },
  {
   "cell_type": "code",
   "execution_count": null,
   "metadata": {
    "collapsed": false
   },
   "outputs": [],
   "source": [
    "p2 = figure(plot_width=480, plot_height=320, x_range=(0, 10), y_range=(0, 10))\n",
    "p2.image(image=[test_rescaled[::-1]], x=[0], y=[0], dw=[10], dh=[10])"
   ]
  },
  {
   "cell_type": "code",
   "execution_count": null,
   "metadata": {
    "collapsed": false
   },
   "outputs": [],
   "source": [
    "show(p2)"
   ]
  },
  {
   "cell_type": "code",
   "execution_count": null,
   "metadata": {
    "collapsed": false
   },
   "outputs": [],
   "source": [
    "#reverse every other line\n",
    "odd_rows = test_rescaled[::2]\n",
    "print \"odd: %s\" % (str(odd_rows.shape))\n",
    "even_rows = test_rescaled[1::2]\n",
    "print \"even: %s\" % (str(even_rows.shape))"
   ]
  },
  {
   "cell_type": "code",
   "execution_count": null,
   "metadata": {
    "collapsed": false
   },
   "outputs": [],
   "source": [
    "flipped_evens =  np.fliplr(even_rows)"
   ]
  },
  {
   "cell_type": "code",
   "execution_count": null,
   "metadata": {
    "collapsed": true
   },
   "outputs": [],
   "source": [
    "interleaved = np.empty((odd_rows.shape[0]+even_rows.shape[0],odd_rows.shape[1]))\n",
    "interleaved[::2,:] = odd_rows\n",
    "interleaved[1::2,:] = flipped_evens"
   ]
  },
  {
   "cell_type": "code",
   "execution_count": null,
   "metadata": {
    "collapsed": false
   },
   "outputs": [],
   "source": [
    "interleaved.shape"
   ]
  },
  {
   "cell_type": "code",
   "execution_count": null,
   "metadata": {
    "collapsed": false
   },
   "outputs": [],
   "source": [
    "p3 = figure(plot_width=480, plot_height=320, x_range=(0, 10), y_range=(0, 10))\n",
    "p3.image(image=[interleaved[::-1]], x=[0], y=[0], dw=[10], dh=[10])"
   ]
  },
  {
   "cell_type": "code",
   "execution_count": null,
   "metadata": {
    "collapsed": false
   },
   "outputs": [],
   "source": [
    "show(p3)"
   ]
  },
  {
   "cell_type": "code",
   "execution_count": null,
   "metadata": {
    "collapsed": false
   },
   "outputs": [],
   "source": [
    "d = 10/1000.\n",
    "flat_img = interleaved.flatten()\n",
    "pixel_width = 4\n",
    "pixel_height = 4\n",
    "image_width = 72\n",
    "x = np.ones(len(flat_img))\n",
    "#print flat_img[:20]\n",
    "y_jitter = np.array(flat_img*5, dtype=int)\n",
    "#print y_jitter[:100]\n",
    "\n",
    "direction = 1\n",
    "count = 0\n",
    "for i in range(len(x)):\n",
    "    \n",
    "    if count>=image_width:\n",
    "        direction = direction * -1\n",
    "        m1_backwards(d, 2 * pixel_height)\n",
    "        count = 0\n",
    "    \n",
    "    if direction>0:\n",
    "        for j in range(pixel_width):\n",
    "            if y_jitter[i] == 0:\n",
    "                m2_forward(d, 4)\n",
    "            elif y_jitter[i] == 1:\n",
    "                m2_forward(d, 2)\n",
    "                m1_forward(d, 4)\n",
    "                m1_backwards(d, 8)\n",
    "                m1_forward(d, 4)\n",
    "                m2_forward(d, 2)\n",
    "            elif y_jitter[i] == 2:\n",
    "                m2_forward(d, 1)\n",
    "                m1_forward(d, 4)\n",
    "                m1_backwards(d, 8)\n",
    "                m1_forward(d, 4)\n",
    "                m2_forward(d, 2)\n",
    "                m1_forward(d, 4)\n",
    "                m1_backwards(d, 8)\n",
    "                m1_forward(d, 4)\n",
    "                m2_forward(d, 1)\n",
    "            elif y_jitter[i] == 3:\n",
    "                m2_forward(d, 1)\n",
    "                m1_forward(d, 4)\n",
    "                m1_backwards(d, 8)\n",
    "                m1_forward(d, 4)\n",
    "                m2_forward(d, 1)\n",
    "                m1_forward(d, 4)\n",
    "                m1_backwards(d, 8)\n",
    "                m1_forward(d, 4)\n",
    "                m2_forward(d, 1)\n",
    "                m1_forward(d, 4)\n",
    "                m1_backwards(d, 8)\n",
    "                m1_forward(d, 4)\n",
    "                m2_forward(d, 1)\n",
    "            else:\n",
    "                m1_forward(d, 4)\n",
    "                m1_backwards(d, 8)\n",
    "                m1_forward(d, 4)\n",
    "                m2_forward(d, 1)\n",
    "                m1_forward(d, 4)\n",
    "                m1_backwards(d, 8)\n",
    "                m1_forward(d, 4)\n",
    "                m2_forward(d, 1)\n",
    "                m1_forward(d, 4)\n",
    "                m1_backwards(d, 8)\n",
    "                m1_forward(d, 4)\n",
    "                m2_forward(d, 1)\n",
    "                m1_forward(d, 4)\n",
    "                m1_backwards(d, 8)\n",
    "                m1_forward(d, 4)\n",
    "                m2_forward(d, 1)\n",
    "                \n",
    "    else:\n",
    "        m2_backwards(d, 1)\n",
    "        \n",
    "    \n",
    "    \n",
    "    "
   ]
  },
  {
   "cell_type": "code",
   "execution_count": null,
   "metadata": {
    "collapsed": true
   },
   "outputs": [],
   "source": []
  }
 ],
 "metadata": {
  "kernelspec": {
   "display_name": "Python 2",
   "language": "python",
   "name": "python2"
  },
  "language_info": {
   "codemirror_mode": {
    "name": "ipython",
    "version": 2
   },
   "file_extension": ".py",
   "mimetype": "text/x-python",
   "name": "python",
   "nbconvert_exporter": "python",
   "pygments_lexer": "ipython2",
   "version": "2.7.9"
  }
 },
 "nbformat": 4,
 "nbformat_minor": 0
}
