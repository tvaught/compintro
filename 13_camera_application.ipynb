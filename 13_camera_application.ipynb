{
 "cells": [
  {
   "cell_type": "markdown",
   "metadata": {},
   "source": [
    "# Raspberry Pi Camera Capture of Rubik's Cube State"
   ]
  },
  {
   "cell_type": "markdown",
   "metadata": {},
   "source": [
    "First we import the libraries we need and initialize a camera 'object.'"
   ]
  },
  {
   "cell_type": "code",
   "execution_count": null,
   "metadata": {
    "collapsed": true
   },
   "outputs": [],
   "source": [
    "import os\n",
    "from picamera import PiCamera\n",
    "from picamera.color import Color\n",
    "from time import sleep\n",
    "\n",
    "camera = PiCamera()"
   ]
  },
  {
   "cell_type": "code",
   "execution_count": null,
   "metadata": {},
   "outputs": [],
   "source": [
    "# import a bunch of stuff that we'll use to manipulate our images...\n",
    "import pandas as pd\n",
    "from skimage.io import imread\n",
    "from skimage import filters\n",
    "from skimage.segmentation import slic\n",
    "from skimage.segmentation import mark_boundaries\n",
    "from skimage.util import img_as_float\n",
    "from skimage import io\n",
    "from skimage.measure import block_reduce\n",
    "import numpy as np\n",
    "\n",
    "from sklearn.cluster import KMeans\n",
    "\n",
    "from bokeh.plotting import figure, show\n",
    "from bokeh.io import output_notebook\n",
    "\n",
    "output_notebook()"
   ]
  },
  {
   "cell_type": "code",
   "execution_count": null,
   "metadata": {
    "collapsed": true
   },
   "outputs": [],
   "source": [
    "%matplotlib inline"
   ]
  },
  {
   "cell_type": "code",
   "execution_count": null,
   "metadata": {
    "collapsed": true
   },
   "outputs": [],
   "source": [
    "import matplotlib.pyplot as plt\n",
    "from mpl_toolkits.mplot3d import Axes3D"
   ]
  },
  {
   "cell_type": "code",
   "execution_count": null,
   "metadata": {
    "collapsed": true
   },
   "outputs": [],
   "source": [
    "camera.start_preview()\n",
    "sleep(3)\n",
    "camera.stop_preview()"
   ]
  },
  {
   "cell_type": "markdown",
   "metadata": {},
   "source": [
    "*TADA* ... wait, nothing happened."
   ]
  },
  {
   "cell_type": "code",
   "execution_count": null,
   "metadata": {
    "collapsed": true
   },
   "outputs": [],
   "source": [
    "camera.hflip = True"
   ]
  },
  {
   "cell_type": "code",
   "execution_count": null,
   "metadata": {
    "collapsed": true
   },
   "outputs": [],
   "source": [
    "camera.vflip = True"
   ]
  },
  {
   "cell_type": "code",
   "execution_count": null,
   "metadata": {
    "collapsed": true
   },
   "outputs": [],
   "source": [
    "camera.brightness = 50 # the default is 50, but you can set it to whatever."
   ]
  },
  {
   "cell_type": "markdown",
   "metadata": {},
   "source": [
    "How about some text on the image."
   ]
  },
  {
   "cell_type": "code",
   "execution_count": null,
   "metadata": {
    "collapsed": true
   },
   "outputs": [],
   "source": [
    "camera.annotate_foreground = Color(1.0,1.0,0.5)"
   ]
  },
  {
   "cell_type": "code",
   "execution_count": null,
   "metadata": {
    "collapsed": true
   },
   "outputs": [],
   "source": [
    "camera.annotate_text = \"\"\n",
    "camera.annotate_text_size = 36"
   ]
  },
  {
   "cell_type": "code",
   "execution_count": null,
   "metadata": {
    "collapsed": true
   },
   "outputs": [],
   "source": [
    "camera.start_preview()\n",
    "sleep(2)\n",
    "camera.capture('./img/cubeU.jpg')\n",
    "camera.stop_preview()"
   ]
  },
  {
   "cell_type": "code",
   "execution_count": null,
   "metadata": {
    "collapsed": true
   },
   "outputs": [],
   "source": [
    "camera.start_preview()\n",
    "sleep(2)\n",
    "camera.capture('./img/cubeR.jpg')\n",
    "camera.stop_preview()"
   ]
  },
  {
   "cell_type": "code",
   "execution_count": null,
   "metadata": {
    "collapsed": true
   },
   "outputs": [],
   "source": [
    "camera.start_preview()\n",
    "sleep(2)\n",
    "camera.capture('./img/cubeF.jpg')\n",
    "camera.stop_preview()"
   ]
  },
  {
   "cell_type": "code",
   "execution_count": null,
   "metadata": {
    "collapsed": true
   },
   "outputs": [],
   "source": [
    "camera.start_preview()\n",
    "sleep(2)\n",
    "camera.capture('./img/cubeD.jpg')\n",
    "camera.stop_preview()"
   ]
  },
  {
   "cell_type": "code",
   "execution_count": null,
   "metadata": {
    "collapsed": true
   },
   "outputs": [],
   "source": [
    "camera.start_preview()\n",
    "sleep(2)\n",
    "camera.capture('./img/cubeL.jpg')\n",
    "camera.stop_preview()"
   ]
  },
  {
   "cell_type": "code",
   "execution_count": null,
   "metadata": {
    "collapsed": true
   },
   "outputs": [],
   "source": [
    "camera.start_preview()\n",
    "sleep(2)\n",
    "camera.capture('./img/cubeB.jpg')\n",
    "camera.stop_preview()"
   ]
  },
  {
   "cell_type": "markdown",
   "metadata": {},
   "source": [
    "# Once images are captured, let's try to get a 'color' from each square"
   ]
  },
  {
   "cell_type": "code",
   "execution_count": null,
   "metadata": {
    "collapsed": true
   },
   "outputs": [],
   "source": [
    "face_order = 'URFDLB'"
   ]
  },
  {
   "cell_type": "code",
   "execution_count": null,
   "metadata": {
    "collapsed": true
   },
   "outputs": [],
   "source": [
    "face_images = {}\n",
    "face_images_out = []\n",
    "squares = {}\n",
    "masks = {}  # for QA"
   ]
  },
  {
   "cell_type": "code",
   "execution_count": null,
   "metadata": {
    "collapsed": true
   },
   "outputs": [],
   "source": [
    "for face in face_order:\n",
    "    # read and cache images in dict\n",
    "    face_images[face] = (imread('./img/cube%s.jpg' % face))\n",
    "\n",
    "    img = face_images[face]\n",
    "    mask = np.empty(img.shape[:2], dtype=np.bool)\n",
    "    mask[::]=False\n",
    "    row_coords = [(25, 30), (50, 55), (75, 80)]\n",
    "    col_coords = [(38, 43), (65, 70), (95, 100)]\n",
    "    squares[face] = np.zeros((3, 3, 3))\n",
    "    row = 0\n",
    "    # extract average RGB values from approximate square centers\n",
    "    for i in row_coords:\n",
    "        col = 0\n",
    "        for j in col_coords:\n",
    "            mask[i[0]:i[1], j[0]:j[1]] = True\n",
    "            squares[face][row, col] = (np.average(img[i[0]:i[1], j[0]:j[1], 0]),\n",
    "                                 np.average(img[i[0]:i[1], j[0]:j[1], 1]),\n",
    "                                 np.average(img[i[0]:i[1], j[0]:j[1], 2]))\n",
    "            col+=1\n",
    "        row+=1\n",
    "    # to show last image alignment\n",
    "    masks[face] = mark_boundaries(img, mask)"
   ]
  },
  {
   "cell_type": "code",
   "execution_count": null,
   "metadata": {},
   "outputs": [],
   "source": [
    "fig_mask = plt.figure()\n",
    "ax = fig_mask.add_subplot(1,1,1)\n",
    "ax.imshow(masks['D'])\n",
    "plt.axis(\"off\")"
   ]
  },
  {
   "cell_type": "code",
   "execution_count": null,
   "metadata": {
    "collapsed": true
   },
   "outputs": [],
   "source": [
    "# this basically puts all the average color values for each square into a big table, so we can do some math\n",
    "square_list = []\n",
    "for face in face_order:\n",
    "    for x in range(3):\n",
    "        for y in range(3):\n",
    "            r, g, b = squares[face][x,y]\n",
    "            square_list.append([face, x, y, r, g, b])\n",
    "\n",
    "columns = ['face', 'x', 'y', 'r', 'g', 'b']\n",
    "square_frame = pd.DataFrame(square_list, columns=columns)"
   ]
  },
  {
   "cell_type": "code",
   "execution_count": null,
   "metadata": {},
   "outputs": [],
   "source": [
    "square_frame.head(10)"
   ]
  },
  {
   "cell_type": "markdown",
   "metadata": {},
   "source": [
    "### Our task is to assign each square a 'color.'  To do this, we try to group them (since the computer doesn't really know what 'color' is."
   ]
  },
  {
   "cell_type": "markdown",
   "metadata": {},
   "source": [
    "Looking at the colors on a plot, say red vs blue, we get this:"
   ]
  },
  {
   "cell_type": "code",
   "execution_count": null,
   "metadata": {},
   "outputs": [],
   "source": [
    "fig = plt.figure()\n",
    "ax = fig.add_subplot(111)\n",
    "ax.scatter(square_frame.r, square_frame.b, c='gray', marker='o')\n",
    "\n",
    "ax.set_xlabel('red')\n",
    "ax.set_ylabel('blue')"
   ]
  },
  {
   "cell_type": "markdown",
   "metadata": {},
   "source": [
    "Now, how about red vs green vs blue (a 3d cross plot)?"
   ]
  },
  {
   "cell_type": "code",
   "execution_count": null,
   "metadata": {},
   "outputs": [],
   "source": [
    "fig = plt.figure(figsize=(10,10))\n",
    "ax = fig.add_subplot(111, projection='3d')\n",
    "ax.scatter(square_frame.r, square_frame.g, square_frame.b, c='gray', marker='o')\n",
    "\n",
    "ax.set_xlabel('red')\n",
    "ax.set_ylabel('green')\n",
    "ax.set_zlabel('blue')"
   ]
  },
  {
   "cell_type": "code",
   "execution_count": null,
   "metadata": {
    "collapsed": true
   },
   "outputs": [],
   "source": []
  },
  {
   "cell_type": "code",
   "execution_count": null,
   "metadata": {
    "collapsed": true
   },
   "outputs": [],
   "source": [
    "X = square_frame[['r', 'g', 'b']]"
   ]
  },
  {
   "cell_type": "code",
   "execution_count": null,
   "metadata": {},
   "outputs": [],
   "source": [
    "km = KMeans(n_clusters=6, random_state=123)\n",
    "km.fit(X)"
   ]
  },
  {
   "cell_type": "code",
   "execution_count": null,
   "metadata": {},
   "outputs": [],
   "source": [
    "km.cluster_centers_"
   ]
  },
  {
   "cell_type": "code",
   "execution_count": null,
   "metadata": {},
   "outputs": [],
   "source": [
    "centers_list = []\n",
    "center_rgb = square_frame[(square_frame['x']==1) & (square_frame['y']==1)]\n",
    "print center_rgb"
   ]
  },
  {
   "cell_type": "code",
   "execution_count": null,
   "metadata": {
    "collapsed": true
   },
   "outputs": [],
   "source": [
    "square_mapper = {}\n",
    "center_map = km.predict(center_rgb[['r', 'g', 'b']])\n",
    "for i in range(6):\n",
    "    square_mapper[center_map[i]] = face_order[i]"
   ]
  },
  {
   "cell_type": "code",
   "execution_count": null,
   "metadata": {},
   "outputs": [],
   "source": [
    "center_map"
   ]
  },
  {
   "cell_type": "code",
   "execution_count": null,
   "metadata": {},
   "outputs": [],
   "source": [
    "square_mapper"
   ]
  },
  {
   "cell_type": "code",
   "execution_count": null,
   "metadata": {
    "collapsed": true
   },
   "outputs": [],
   "source": [
    "square_predict = km.predict(square_frame[['r', 'g', 'b']])"
   ]
  },
  {
   "cell_type": "code",
   "execution_count": null,
   "metadata": {
    "collapsed": true
   },
   "outputs": [],
   "source": [
    "squares = []\n",
    "for square in square_predict:\n",
    "    squares.append(square_mapper[square])"
   ]
  },
  {
   "cell_type": "code",
   "execution_count": null,
   "metadata": {
    "collapsed": true
   },
   "outputs": [],
   "source": [
    "square_frame['predict'] = squares"
   ]
  },
  {
   "cell_type": "code",
   "execution_count": null,
   "metadata": {
    "collapsed": true
   },
   "outputs": [],
   "source": [
    "square_color_map = {'U': 'black', 'R': 'red', 'F': 'green', 'D': 'yellow', 'L': 'orange', 'B': 'blue'}"
   ]
  },
  {
   "cell_type": "code",
   "execution_count": null,
   "metadata": {
    "collapsed": true
   },
   "outputs": [],
   "source": [
    "square_colors = [square_color_map[sq] for sq in squares]"
   ]
  },
  {
   "cell_type": "code",
   "execution_count": null,
   "metadata": {
    "collapsed": true
   },
   "outputs": [],
   "source": [
    "square_frame['colors'] = square_colors"
   ]
  },
  {
   "cell_type": "code",
   "execution_count": null,
   "metadata": {},
   "outputs": [],
   "source": [
    "square_frame[:15]"
   ]
  },
  {
   "cell_type": "code",
   "execution_count": null,
   "metadata": {},
   "outputs": [],
   "source": [
    "fig = plt.figure(figsize=(10,10))\n",
    "ax = fig.add_subplot(111, projection='3d')\n",
    "ax.scatter(square_frame.r, square_frame.g, square_frame.b, c=square_frame.colors, marker='o')\n",
    "\n",
    "ax.set_xlabel('red')\n",
    "ax.set_ylabel('green')\n",
    "ax.set_zlabel('blue')"
   ]
  },
  {
   "cell_type": "code",
   "execution_count": null,
   "metadata": {
    "collapsed": true
   },
   "outputs": [],
   "source": []
  },
  {
   "cell_type": "code",
   "execution_count": null,
   "metadata": {
    "collapsed": true
   },
   "outputs": [],
   "source": []
  },
  {
   "cell_type": "code",
   "execution_count": null,
   "metadata": {
    "collapsed": true
   },
   "outputs": [],
   "source": []
  }
 ],
 "metadata": {
  "kernelspec": {
   "display_name": "Python 2",
   "language": "python",
   "name": "python2"
  },
  "language_info": {
   "codemirror_mode": {
    "name": "ipython",
    "version": 2
   },
   "file_extension": ".py",
   "mimetype": "text/x-python",
   "name": "python",
   "nbconvert_exporter": "python",
   "pygments_lexer": "ipython2",
   "version": "2.7.9"
  }
 },
 "nbformat": 4,
 "nbformat_minor": 1
}
