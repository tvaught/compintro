{
 "cells": [
  {
   "cell_type": "markdown",
   "metadata": {},
   "source": [
    "# GPIO Introduction"
   ]
  },
  {
   "cell_type": "markdown",
   "metadata": {},
   "source": [
    "First order of business is to import some libraries to help send/receive signals to/from the GPIO pins of the Raspberry Pi."
   ]
  },
  {
   "cell_type": "code",
   "execution_count": 1,
   "metadata": {
    "collapsed": true
   },
   "outputs": [],
   "source": [
    "import RPi.GPIO as GPIO\n",
    "import time"
   ]
  },
  {
   "cell_type": "markdown",
   "metadata": {},
   "source": [
    "The following code will set the mode to a Broadcom pin layout (which seems to be what we want), and set up our GPIO pin 17 as an output pin."
   ]
  },
  {
   "cell_type": "code",
   "execution_count": 4,
   "metadata": {
    "collapsed": false
   },
   "outputs": [
    {
     "name": "stderr",
     "output_type": "stream",
     "text": [
      "/usr/local/lib/python2.7/dist-packages/ipykernel/__main__.py:3: RuntimeWarning: This channel is already in use, continuing anyway.  Use GPIO.setwarnings(False) to disable warnings.\n",
      "  app.launch_new_instance()\n"
     ]
    }
   ],
   "source": [
    "\n",
    "GPIO.setmode(GPIO.BCM)\n",
    "GPIO.setup(17, GPIO.OUT)"
   ]
  },
  {
   "cell_type": "code",
   "execution_count": 24,
   "metadata": {
    "collapsed": true
   },
   "outputs": [],
   "source": [
    "GPIO.output(17, True)"
   ]
  },
  {
   "cell_type": "markdown",
   "metadata": {},
   "source": [
    "## SOS example"
   ]
  },
  {
   "cell_type": "code",
   "execution_count": 25,
   "metadata": {
    "collapsed": true
   },
   "outputs": [],
   "source": [
    "timeunit  = 0.2\n",
    "dashtime  = timeunit*3.0\n",
    "dottime   = timeunit\n",
    "dotgap    = timeunit\n",
    "lettergap = timeunit*3.0\n",
    "wordgap   = timeunit*7.0"
   ]
  },
  {
   "cell_type": "code",
   "execution_count": 26,
   "metadata": {
    "collapsed": false
   },
   "outputs": [],
   "source": [
    "GPIO.output(17, False) # start with the LED off\n",
    "time.sleep(1.0)\n",
    "\n",
    "for i in range(0,2):  # SOS, the hard way...\n",
    "    GPIO.output(17, True)\n",
    "    time.sleep(dottime)\n",
    "    GPIO.output(17, False)\n",
    "    time.sleep(dotgap)\n",
    "    GPIO.output(17, True)\n",
    "    time.sleep(dottime)\n",
    "    GPIO.output(17, False)\n",
    "    time.sleep(dotgap)\n",
    "    GPIO.output(17, True)\n",
    "    time.sleep(dottime)\n",
    "    GPIO.output(17, False)\n",
    "    time.sleep(lettergap)\n",
    "    GPIO.output(17, True)\n",
    "    time.sleep(dashtime)\n",
    "    GPIO.output(17, False)\n",
    "    time.sleep(dotgap)\n",
    "    GPIO.output(17, True)\n",
    "    time.sleep(dashtime)\n",
    "    GPIO.output(17, False)\n",
    "    time.sleep(dotgap)\n",
    "    GPIO.output(17, True)\n",
    "    time.sleep(dashtime)\n",
    "    GPIO.output(17, False)\n",
    "    time.sleep(lettergap)\n",
    "    GPIO.output(17, True)\n",
    "    time.sleep(dottime)\n",
    "    GPIO.output(17, False)\n",
    "    time.sleep(dotgap)\n",
    "    GPIO.output(17, True)\n",
    "    time.sleep(dottime)\n",
    "    GPIO.output(17, False)\n",
    "    time.sleep(dotgap)\n",
    "    GPIO.output(17, True)\n",
    "    time.sleep(dottime)\n",
    "    GPIO.output(17, False)\n",
    "    time.sleep(wordgap)"
   ]
  },
  {
   "cell_type": "code",
   "execution_count": 6,
   "metadata": {
    "collapsed": true
   },
   "outputs": [],
   "source": [
    "morsedict = {\n",
    "        'A': '.-',              'a': '.-',\n",
    "        'B': '-...',            'b': '-...',\n",
    "        'C': '-.-.',            'c': '-.-.',\n",
    "        'D': '-..',             'd': '-..',\n",
    "        'E': '.',               'e': '.',\n",
    "        'F': '..-.',            'f': '..-.',\n",
    "        'G': '--.',             'g': '--.',\n",
    "        'H': '....',            'h': '....',\n",
    "        'I': '..',              'i': '..',\n",
    "        'J': '.---',            'j': '.---',\n",
    "        'K': '-.-',             'k': '-.-',\n",
    "        'L': '.-..',            'l': '.-..',\n",
    "        'M': '--',              'm': '--',\n",
    "        'N': '-.',              'n': '-.',\n",
    "        'O': '---',             'o': '---',\n",
    "        'P': '.--.',            'p': '.--.',\n",
    "        'Q': '--.-',            'q': '--.-',\n",
    "        'R': '.-.',             'r': '.-.',\n",
    "        'S': '...',             's': '...',\n",
    "        'T': '-',               't': '-',\n",
    "        'U': '..-',             'u': '..-',\n",
    "        'V': '...-',            'v': '...-',\n",
    "        'W': '.--',             'w': '.--',\n",
    "        'X': '-..-',            'x': '-..-',\n",
    "        'Y': '-.--',            'y': '-.--',\n",
    "        'Z': '--..',            'z': '--..',\n",
    "        '0': '-----',           ',': '--..--',\n",
    "        '1': '.----',           '.': '.-.-.-',\n",
    "        '2': '..---',           '?': '..--..',\n",
    "        '3': '...--',           ';': '-.-.-.',\n",
    "        '4': '....-',           ':': '---...',\n",
    "        '5': '.....',           \"'\": '.----.',\n",
    "        '6': '-....',           '-': '-....-',\n",
    "        '7': '--...',           '/': '-..-.',\n",
    "        '8': '---..',           '(': '-.--.-',\n",
    "        '9': '----.',           ')': '-.--.-',\n",
    "        ' ': ' ',               '_': '..--.-',\n",
    "}\n",
    "dotdashmap = {\".\": dottime, \"-\": dashtime, \" \": wordgap}"
   ]
  },
  {
   "cell_type": "code",
   "execution_count": 7,
   "metadata": {
    "collapsed": true
   },
   "outputs": [],
   "source": [
    "def blink_letter(letter):\n",
    "    for s in morsedict[letter.upper()]:\n",
    "        GPIO.output(17, True)\n",
    "        time.sleep(dotdashmap[s])\n",
    "        GPIO.output(17, False)\n",
    "        time.sleep(dotgap)\n",
    "    time.sleep(lettergap)  # end of letter time gap (for a total of 3x the dot unit.)"
   ]
  },
  {
   "cell_type": "markdown",
   "metadata": {},
   "source": [
    "Let's break this down a bit before we see what happens when we call this function."
   ]
  },
  {
   "cell_type": "code",
   "execution_count": 8,
   "metadata": {
    "collapsed": true
   },
   "outputs": [],
   "source": [
    "s = \"q\""
   ]
  },
  {
   "cell_type": "code",
   "execution_count": 9,
   "metadata": {
    "collapsed": false
   },
   "outputs": [
    {
     "data": {
      "text/plain": [
       "'Q'"
      ]
     },
     "execution_count": 9,
     "metadata": {},
     "output_type": "execute_result"
    }
   ],
   "source": [
    "s.upper()"
   ]
  },
  {
   "cell_type": "code",
   "execution_count": 10,
   "metadata": {
    "collapsed": false
   },
   "outputs": [
    {
     "data": {
      "text/plain": [
       "'---'"
      ]
     },
     "execution_count": 10,
     "metadata": {},
     "output_type": "execute_result"
    }
   ],
   "source": [
    "morsedict['O']"
   ]
  },
  {
   "cell_type": "code",
   "execution_count": 11,
   "metadata": {
    "collapsed": false
   },
   "outputs": [
    {
     "data": {
      "text/plain": [
       "0.6000000000000001"
      ]
     },
     "execution_count": 11,
     "metadata": {},
     "output_type": "execute_result"
    }
   ],
   "source": [
    "dotdashmap['-']"
   ]
  },
  {
   "cell_type": "code",
   "execution_count": 29,
   "metadata": {
    "collapsed": false
   },
   "outputs": [],
   "source": [
    "blink_letter('a')"
   ]
  },
  {
   "cell_type": "code",
   "execution_count": 8,
   "metadata": {
    "collapsed": true
   },
   "outputs": [],
   "source": [
    "def blink_message(message):\n",
    "    for letter in message:\n",
    "        blink_letter(letter)"
   ]
  },
  {
   "cell_type": "code",
   "execution_count": 11,
   "metadata": {
    "collapsed": true
   },
   "outputs": [],
   "source": [
    "blink_message(\"Hello World.\")"
   ]
  },
  {
   "cell_type": "markdown",
   "metadata": {},
   "source": [
    "## Buttons"
   ]
  },
  {
   "cell_type": "markdown",
   "metadata": {},
   "source": [
    "Once the button is wired to pin 18 with the appropriate resistors, set up the port as an input port:"
   ]
  },
  {
   "cell_type": "code",
   "execution_count": 6,
   "metadata": {
    "collapsed": true
   },
   "outputs": [],
   "source": [
    "GPIO.setup(18,GPIO.IN)"
   ]
  },
  {
   "cell_type": "code",
   "execution_count": 13,
   "metadata": {
    "collapsed": false
   },
   "outputs": [
    {
     "name": "stdout",
     "output_type": "stream",
     "text": [
      "Button pressed\n"
     ]
    },
    {
     "ename": "KeyboardInterrupt",
     "evalue": "",
     "output_type": "error",
     "traceback": [
      "\u001b[1;31m---------------------------------------------------------------------------\u001b[0m",
      "\u001b[1;31mKeyboardInterrupt\u001b[0m                         Traceback (most recent call last)",
      "\u001b[1;32m<ipython-input-13-5df2bbbb653c>\u001b[0m in \u001b[0;36m<module>\u001b[1;34m()\u001b[0m\n\u001b[0;32m     10\u001b[0m   \u001b[0mprev_input\u001b[0m \u001b[1;33m=\u001b[0m \u001b[0minput\u001b[0m\u001b[1;33m\u001b[0m\u001b[0m\n\u001b[0;32m     11\u001b[0m   \u001b[1;31m#slight pause to debounce\u001b[0m\u001b[1;33m\u001b[0m\u001b[1;33m\u001b[0m\u001b[0m\n\u001b[1;32m---> 12\u001b[1;33m   \u001b[0mtime\u001b[0m\u001b[1;33m.\u001b[0m\u001b[0msleep\u001b[0m\u001b[1;33m(\u001b[0m\u001b[1;36m0.05\u001b[0m\u001b[1;33m)\u001b[0m\u001b[1;33m\u001b[0m\u001b[0m\n\u001b[0m",
      "\u001b[1;31mKeyboardInterrupt\u001b[0m: "
     ]
    }
   ],
   "source": [
    "#initialise a previous input variable to 0 (assume button not pressed last)\n",
    "prev_input = 0\n",
    "while True:\n",
    "  #take a reading\n",
    "  input = GPIO.input(18)\n",
    "  #if the last reading was low and this one high, print\n",
    "  if ((not prev_input) and input):\n",
    "    print(\"Button pressed\")\n",
    "  #update previous input\n",
    "  prev_input = input\n",
    "  #slight pause to debounce\n",
    "  time.sleep(0.05)\n"
   ]
  },
  {
   "cell_type": "code",
   "execution_count": null,
   "metadata": {
    "collapsed": true
   },
   "outputs": [],
   "source": []
  }
 ],
 "metadata": {
  "kernelspec": {
   "display_name": "Python 2",
   "language": "python",
   "name": "python2"
  },
  "language_info": {
   "codemirror_mode": {
    "name": "ipython",
    "version": 2
   },
   "file_extension": ".py",
   "mimetype": "text/x-python",
   "name": "python",
   "nbconvert_exporter": "python",
   "pygments_lexer": "ipython2",
   "version": "2.7.9"
  }
 },
 "nbformat": 4,
 "nbformat_minor": 0
}
