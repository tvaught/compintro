{
 "cells": [
  {
   "cell_type": "code",
   "execution_count": 9,
   "metadata": {
    "collapsed": true
   },
   "outputs": [],
   "source": [
    "import RPi.GPIO as GPIO\n",
    "import time\n",
    "\n",
    "GPIO.setmode(GPIO.BCM)\n",
    "\n",
    "GPIO.setup(12, GPIO.OUT)\n",
    "\n",
    "p = GPIO.PWM(12, 50)\n",
    "\n",
    "p.start(7.5)\n",
    "\n",
    "p.ChangeDutyCycle(7.5)  # turn towards 90 degree\n",
    "time.sleep(1) # sleep 1 second\n",
    "p.ChangeDutyCycle(2.5)  # turn towards 0 degree\n",
    "time.sleep(1) # sleep 1 second\n",
    "p.ChangeDutyCycle(12.5) # turn towards 180 degree\n",
    "time.sleep(2) # sleep 1 second \n",
    "\n",
    "p.stop()\n",
    "GPIO.cleanup()"
   ]
  },
  {
   "cell_type": "code",
   "execution_count": 68,
   "metadata": {
    "collapsed": true
   },
   "outputs": [],
   "source": [
    "GPIO.setmode(GPIO.BCM)\n",
    "\n",
    "GPIO.setup(18, GPIO.OUT)\n",
    "\n",
    "p = GPIO.PWM(18, 50)"
   ]
  },
  {
   "cell_type": "code",
   "execution_count": 69,
   "metadata": {
    "collapsed": true
   },
   "outputs": [],
   "source": [
    "p.start(7.5)"
   ]
  },
  {
   "cell_type": "code",
   "execution_count": 66,
   "metadata": {
    "collapsed": true
   },
   "outputs": [],
   "source": [
    "p.ChangeDutyCycle(12.5)"
   ]
  },
  {
   "cell_type": "code",
   "execution_count": 67,
   "metadata": {},
   "outputs": [],
   "source": [
    "p.stop()\n",
    "GPIO.cleanup()"
   ]
  },
  {
   "cell_type": "code",
   "execution_count": null,
   "metadata": {
    "collapsed": true
   },
   "outputs": [],
   "source": []
  }
 ],
 "metadata": {
  "kernelspec": {
   "display_name": "Python 2",
   "language": "python",
   "name": "python2"
  },
  "language_info": {
   "codemirror_mode": {
    "name": "ipython",
    "version": 2
   },
   "file_extension": ".py",
   "mimetype": "text/x-python",
   "name": "python",
   "nbconvert_exporter": "python",
   "pygments_lexer": "ipython2",
   "version": "2.7.9"
  }
 },
 "nbformat": 4,
 "nbformat_minor": 2
}
