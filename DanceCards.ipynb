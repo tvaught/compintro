{
 "cells": [
  {
   "cell_type": "markdown",
   "metadata": {
    "collapsed": false
   },
   "source": [
    "Dance Card Example\n",
    "==================\n",
    "Given a list of gentlemen and ladies, produce a list of partners with 8 dances for each of the dancers.\n"
   ]
  },
  {
   "cell_type": "markdown",
   "metadata": {
    "collapsed": true
   },
   "source": [
    "<img src=\"img/cotillion2014.jpg\">"
   ]
  },
  {
   "cell_type": "markdown",
   "metadata": {},
   "source": [
    "Approach\n",
    "--------\n",
    "Use a simple random assortment, and rotate the list for each of the 8 dances."
   ]
  },
  {
   "cell_type": "code",
   "execution_count": null,
   "metadata": {
    "collapsed": true
   },
   "outputs": [],
   "source": [
    "# comments are preceeded by a pound sign (this line is a comment)\n",
    "# a python list is surrounded by backets, [ ], and is separated by commas\n",
    "# manually assign the gentlemen's names:\n",
    "gentlemen = [\n",
    "    \"Marshall Ruddock\",\n",
    "    \"Emile Malsam\",\n",
    "    \"Lloyd Summerlin\",\n",
    "    \"Vern Pagaduan\",\n",
    "    \"Chuck Maddux\",\n",
    "    \"Edmundo Oleary\",\n",
    "    \"Miquel Till\",\n",
    "    \"Oswaldo Tidwell\",\n",
    "    \"Elwood Yokoyama\",\n",
    "    \"Leonardo Mcswain\",\n",
    "    \"Roberto Averill\",\n",
    "    \"Pierre Foose\",\n",
    "    \"Saul Vannatta\",\n",
    "    \"Woodrow Dunn\",\n",
    "    \"Rene Mcelfresh\",\n",
    "    \"Brett Ausmus\",\n",
    "    \"Markus John\",\n",
    "    \"Walker Kirk\",\n",
    "    \"Warner Trunnell\",\n",
    "    \"Keenan Tope\"]"
   ]
  },
  {
   "cell_type": "code",
   "execution_count": null,
   "metadata": {
    "collapsed": true
   },
   "outputs": [],
   "source": [
    "# a list of ladies:\n",
    "ladies = [\n",
    "    \"Grayce Schwandt\",\n",
    "    \"Demetria Shiflet\",\n",
    "    \"Leda Leavitt\",\n",
    "    \"Julianne Tinnin\",\n",
    "    \"Angela Turco\",\n",
    "    \"Lu Rolfe\",\n",
    "    \"Audry Hardnett\",\n",
    "    \"Miranda Drapeau\",\n",
    "    \"Ferne Vanscyoc\",\n",
    "    \"Marceline Rochford\",\n",
    "    \"Han Myer\",\n",
    "    \"Karlene Emmer\",\n",
    "    \"Agatha Cheever\",\n",
    "    \"Shenna Riffle\",\n",
    "    \"Vella Albanese\",\n",
    "    \"Apryl Zieman\",\n",
    "    \"Jacklyn Coronado\",\n",
    "    \"Azzie Degreenia\",\n",
    "    \"Sebrina Weddle\",\n",
    "    \"Valda Pietila\"]"
   ]
  },
  {
   "cell_type": "code",
   "execution_count": null,
   "metadata": {
    "collapsed": false
   },
   "outputs": [],
   "source": [
    "len(ladies), len(gentlemen) # let's see if they are the same length..."
   ]
  },
  {
   "cell_type": "raw",
   "metadata": {},
   "source": [
    "So, now that we have our lists, let's reverse the last and first names for better alphabetizing ..."
   ]
  },
  {
   "cell_type": "code",
   "execution_count": null,
   "metadata": {
    "collapsed": true
   },
   "outputs": [],
   "source": [
    "# Python provides an intuitive way to loop over a list...\n",
    "gentlemen_last_first = [] # create an empty list\n",
    "for man in gentlemen:  # A loop ... this is actually an extremely powerful concept\n",
    "    first, last = man.split(\" \") # indentation indicates a 'code block.' Whitespace is important in Python\n",
    "    gentlemen_last_first.append(\"{0}, {1}\".format(last, first)) # wait, what's going on here? ... string formatting"
   ]
  },
  {
   "cell_type": "markdown",
   "metadata": {},
   "source": [
    "**NB:** There is a thourough introduction to string formatting at the excellent [dive into python] page.  Among other things, it explains that in the above string \"{0}, {1}\", the curly brackets and numbers (0 and 1) are just placeholders whose values are replaced by the arguments of the format method that is called on the string.\n",
    "\n",
    "[dive into python]: http://www.diveintopython3.net/strings.html"
   ]
  },
  {
   "cell_type": "code",
   "execution_count": null,
   "metadata": {
    "collapsed": false
   },
   "outputs": [],
   "source": [
    "gentlemen_last_first"
   ]
  },
  {
   "cell_type": "code",
   "execution_count": null,
   "metadata": {
    "collapsed": true
   },
   "outputs": [],
   "source": [
    "# Python provides an intuitive way to loop over a list...\n",
    "ladies_last_first = [] # create an empty list\n",
    "for lady in ladies:  # A loop ... this is actually an extremely powerful concept\n",
    "    first, last = lady.split(\" \") # indentation indicates a 'code block.' Whitespace is important in Python\n",
    "    ladies_last_first.append(\"{0}, {1}\".format(last, first))"
   ]
  },
  {
   "cell_type": "code",
   "execution_count": null,
   "metadata": {
    "collapsed": false
   },
   "outputs": [],
   "source": [
    "ladies_last_first"
   ]
  },
  {
   "cell_type": "code",
   "execution_count": null,
   "metadata": {
    "collapsed": true
   },
   "outputs": [],
   "source": [
    "gentlemen_last_first.sort()\n",
    "ladies_last_first.sort()"
   ]
  },
  {
   "cell_type": "code",
   "execution_count": null,
   "metadata": {
    "collapsed": false
   },
   "outputs": [],
   "source": [
    "ladies_last_first"
   ]
  },
  {
   "cell_type": "code",
   "execution_count": null,
   "metadata": {
    "collapsed": true
   },
   "outputs": [],
   "source": [
    "import random # let's bring in some code from the random built-in library of python"
   ]
  },
  {
   "cell_type": "code",
   "execution_count": null,
   "metadata": {
    "collapsed": true
   },
   "outputs": [],
   "source": [
    "random.shuffle(ladies_last_first)"
   ]
  },
  {
   "cell_type": "code",
   "execution_count": null,
   "metadata": {
    "collapsed": false
   },
   "outputs": [],
   "source": [
    "ladies_last_first"
   ]
  },
  {
   "cell_type": "code",
   "execution_count": null,
   "metadata": {
    "collapsed": false
   },
   "outputs": [],
   "source": [
    "dances = [\"mix\", \"mix\", \"mix\", \"mix\", \"mix\", \"mix\", \"Shoe Dance\"] # the list of dances\n",
    "\n",
    "# initialize data structures\n",
    "gentlemen_dances = {}\n",
    "ladies_dances = {}\n",
    "\n",
    "for man in gentlemen_last_first:\n",
    "    gentlemen_dances[man] = []\n",
    "for lady in ladies_last_first:\n",
    "    ladies_dances[lady] = []\n",
    "\n",
    "for dance in dances:\n",
    "    #print \"#####\", dance, \"########\"\n",
    "    count = 0\n",
    "    for man in gentlemen_last_first:\n",
    "        if dance == \"mix\":\n",
    "            gentlemen_dances[man].append(ladies_last_first[count])\n",
    "            ladies_dances[ladies_last_first[count]].append(man)\n",
    "            \n",
    "        else:\n",
    "            gentlemen_dances[man].append(dance)\n",
    "            ladies_dances[ladies_last_first[count]].append(dance)\n",
    "        count += 1\n",
    "    if dance == \"mix\":\n",
    "        gentlemen_last_first.insert(0, gentlemen_last_first.pop(-1))\n",
    "        "
   ]
  },
  {
   "cell_type": "code",
   "execution_count": null,
   "metadata": {
    "collapsed": false
   },
   "outputs": [],
   "source": [
    "gentlemen_dances"
   ]
  },
  {
   "cell_type": "code",
   "execution_count": null,
   "metadata": {
    "collapsed": true
   },
   "outputs": [],
   "source": [
    "#print result for dudes\n",
    "fh = open(\"./dancecards-gentlemen.txt\", 'wa')\n",
    "for man in gentlemen_last_first:\n",
    "    fh.write(\"\".join([\"\\n~\", man, \"~\\n\"]))\n",
    "    d_cnt = 1\n",
    "    for partner in gentlemen_dances[man]:\n",
    "        fh.write(str(d_cnt) + \". \" + partner + \"\\n\")\n",
    "        d_cnt += 1\n",
    "fh.close()"
   ]
  },
  {
   "cell_type": "code",
   "execution_count": null,
   "metadata": {
    "collapsed": false
   },
   "outputs": [],
   "source": [
    "#print result for ladies\n",
    "fh = open(\"./dancecards-ladies.txt\", 'wa')\n",
    "for lady in ladies_last_first:\n",
    "    fh.write(\"\".join([\"\\n~\", lady, \"~\\n\"]))\n",
    "    d_cnt = 1\n",
    "    for partner in ladies_dances[lady]:\n",
    "        fh.write(str(d_cnt) + \". \" + partner + \"\\n\")\n",
    "        d_cnt += 1\n",
    "fh.close()"
   ]
  },
  {
   "cell_type": "code",
   "execution_count": null,
   "metadata": {
    "collapsed": true
   },
   "outputs": [],
   "source": []
  }
 ],
 "metadata": {
  "kernelspec": {
   "display_name": "Python 2",
   "language": "python",
   "name": "python2"
  },
  "language_info": {
   "codemirror_mode": {
    "name": "ipython",
    "version": 2
   },
   "file_extension": ".py",
   "mimetype": "text/x-python",
   "name": "python",
   "nbconvert_exporter": "python",
   "pygments_lexer": "ipython2",
   "version": "2.7.12"
  }
 },
 "nbformat": 4,
 "nbformat_minor": 0
}
