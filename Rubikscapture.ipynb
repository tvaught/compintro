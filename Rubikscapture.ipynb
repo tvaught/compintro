{
 "cells": [
  {
   "cell_type": "markdown",
   "metadata": {},
   "source": [
    "# Raspberry Pi Camera Capture of Rubik's Cube State"
   ]
  },
  {
   "cell_type": "markdown",
   "metadata": {},
   "source": [
    "First we import the libraries we need and initialize a camera 'object.'"
   ]
  },
  {
   "cell_type": "code",
   "execution_count": null,
   "metadata": {
    "collapsed": true
   },
   "outputs": [],
   "source": [
    "from picamera import PiCamera\n",
    "from picamera.color import Color"
   ]
  },
  {
   "cell_type": "code",
   "execution_count": 1,
   "metadata": {
    "collapsed": true
   },
   "outputs": [],
   "source": [
    "import os\n",
    "from time import sleep"
   ]
  },
  {
   "cell_type": "code",
   "execution_count": 4,
   "metadata": {},
   "outputs": [],
   "source": [
    "# import a bunch of stuff that we'll use to manipulate our images...\n",
    "from skimage.io import imread\n",
    "#from skimage import filter\n",
    "from skimage.segmentation import slic\n",
    "from skimage.segmentation import mark_boundaries\n",
    "from skimage.util import img_as_float\n",
    "from skimage import io\n",
    "from skimage.measure import block_reduce\n",
    "import numpy as np"
   ]
  },
  {
   "cell_type": "code",
   "execution_count": 49,
   "metadata": {},
   "outputs": [],
   "source": [
    "from sklearn.cluster import KMeans\n",
    "import pandas as pd"
   ]
  },
  {
   "cell_type": "code",
   "execution_count": 218,
   "metadata": {
    "collapsed": true
   },
   "outputs": [],
   "source": [
    "import kociemba"
   ]
  },
  {
   "cell_type": "code",
   "execution_count": 5,
   "metadata": {
    "collapsed": true
   },
   "outputs": [],
   "source": [
    "%matplotlib inline"
   ]
  },
  {
   "cell_type": "code",
   "execution_count": 6,
   "metadata": {},
   "outputs": [],
   "source": [
    "import matplotlib.pyplot as plt"
   ]
  },
  {
   "cell_type": "code",
   "execution_count": 75,
   "metadata": {
    "collapsed": true
   },
   "outputs": [],
   "source": [
    "camera = PiCamera()"
   ]
  },
  {
   "cell_type": "code",
   "execution_count": 76,
   "metadata": {
    "collapsed": true
   },
   "outputs": [],
   "source": [
    "camera.resolution = (120, 120)\n",
    "\n",
    "camera.hflip = True\n",
    "camera.vflip = True\n",
    "camera.brightness = 70 # the default is 50, but you can set it to whatever."
   ]
  },
  {
   "cell_type": "markdown",
   "metadata": {},
   "source": [
    "How about some text on the image."
   ]
  },
  {
   "cell_type": "code",
   "execution_count": 36,
   "metadata": {},
   "outputs": [],
   "source": [
    "camera.annotate_foreground = Color(1.0,1.0,0.5)\n",
    "\n",
    "camera.annotate_text = \"\"\n",
    "camera.annotate_text_size = 36"
   ]
  },
  {
   "cell_type": "code",
   "execution_count": 80,
   "metadata": {},
   "outputs": [],
   "source": [
    "camera.start_preview()\n",
    "sleep(2)\n",
    "camera.capture('./img/cubeU.jpg')\n",
    "camera.stop_preview()"
   ]
  },
  {
   "cell_type": "code",
   "execution_count": 81,
   "metadata": {
    "collapsed": true
   },
   "outputs": [],
   "source": [
    "camera.start_preview()\n",
    "sleep(2)\n",
    "camera.capture('./img/cubeR.jpg')\n",
    "camera.stop_preview()"
   ]
  },
  {
   "cell_type": "code",
   "execution_count": 82,
   "metadata": {
    "collapsed": true
   },
   "outputs": [],
   "source": [
    "camera.start_preview()\n",
    "sleep(2)\n",
    "camera.capture('./img/cubeF.jpg')\n",
    "camera.stop_preview()"
   ]
  },
  {
   "cell_type": "code",
   "execution_count": 83,
   "metadata": {
    "collapsed": true
   },
   "outputs": [],
   "source": [
    "camera.start_preview()\n",
    "sleep(2)\n",
    "camera.capture('./img/cubeD.jpg')\n",
    "camera.stop_preview()"
   ]
  },
  {
   "cell_type": "code",
   "execution_count": 84,
   "metadata": {
    "collapsed": true
   },
   "outputs": [],
   "source": [
    "camera.start_preview()\n",
    "sleep(2)\n",
    "camera.capture('./img/cubeL.jpg')\n",
    "camera.stop_preview()"
   ]
  },
  {
   "cell_type": "code",
   "execution_count": 85,
   "metadata": {
    "collapsed": true
   },
   "outputs": [],
   "source": [
    "camera.start_preview()\n",
    "sleep(2)\n",
    "camera.capture('./img/cubeB.jpg')\n",
    "camera.stop_preview()"
   ]
  },
  {
   "cell_type": "code",
   "execution_count": 86,
   "metadata": {
    "collapsed": true
   },
   "outputs": [],
   "source": [
    "camera.close()"
   ]
  },
  {
   "cell_type": "markdown",
   "metadata": {},
   "source": [
    "## Now process the images..."
   ]
  },
  {
   "cell_type": "code",
   "execution_count": 177,
   "metadata": {
    "collapsed": true
   },
   "outputs": [],
   "source": [
    "face_order = 'URFDLB'"
   ]
  },
  {
   "cell_type": "code",
   "execution_count": 196,
   "metadata": {
    "collapsed": true
   },
   "outputs": [],
   "source": [
    "face_images = {}\n",
    "face_images_out = []\n",
    "squares = {}\n",
    "masks = {}  # for QA"
   ]
  },
  {
   "cell_type": "code",
   "execution_count": 197,
   "metadata": {},
   "outputs": [],
   "source": [
    "for face in face_order:\n",
    "    # read and cache images in dict\n",
    "    face_images[face] = (imread('./img/cube%s.jpg' % face))\n",
    "\n",
    "    img = face_images[face]\n",
    "    mask = np.empty(img.shape[:2], dtype=np.bool)\n",
    "    mask[::]=False\n",
    "    row_coords = [(25, 30), (50, 55), (75, 80)]\n",
    "    col_coords = [(38, 43), (65, 70), (95, 100)]\n",
    "    squares[face] = np.zeros((3, 3, 3))\n",
    "    row = 0\n",
    "    # extract average RGB values from approximate square centers\n",
    "    for i in row_coords:\n",
    "        col = 0\n",
    "        for j in col_coords:\n",
    "            mask[i[0]:i[1], j[0]:j[1]] = True\n",
    "            squares[face][row, col] = (np.average(img[i[0]:i[1], j[0]:j[1], 0]),\n",
    "                                 np.average(img[i[0]:i[1], j[0]:j[1], 1]),\n",
    "                                 np.average(img[i[0]:i[1], j[0]:j[1], 2]))\n",
    "            col+=1\n",
    "        row+=1\n",
    "    # to show last image alignment\n",
    "    masks[face] = mark_boundaries(img, mask)"
   ]
  },
  {
   "cell_type": "code",
   "execution_count": 203,
   "metadata": {},
   "outputs": [
    {
     "data": {
      "text/plain": [
       "(-0.5, 119.5, 119.5, -0.5)"
      ]
     },
     "execution_count": 203,
     "metadata": {},
     "output_type": "execute_result"
    },
    {
     "data": {
      "image/png": "[encoded data removed]",
      "text/plain": [
       "<matplotlib.figure.Figure at 0x11443e090>"
      ]
     },
     "metadata": {},
     "output_type": "display_data"
    }
   ],
   "source": [
    "fig_mask = plt.figure()\n",
    "ax = fig_mask.add_subplot(1,1,1)\n",
    "ax.imshow(masks['F'])\n",
    "plt.axis(\"off\")"
   ]
  },
  {
   "cell_type": "code",
   "execution_count": 204,
   "metadata": {},
   "outputs": [],
   "source": [
    "square_list = []\n",
    "for face in face_order:\n",
    "    for x in range(3):\n",
    "        for y in range(3):\n",
    "            r, g, b = squares[face][x,y]\n",
    "            square_list.append([face, x, y, r, g, b])\n",
    "\n",
    "columns = ['face', 'x', 'y', 'r', 'g', 'b']\n",
    "square_frame = pd.DataFrame(square_list, columns=columns)"
   ]
  },
  {
   "cell_type": "code",
   "execution_count": 205,
   "metadata": {},
   "outputs": [
    {
     "data": {
      "text/html": [
       "<div>\n",
       "<style>\n",
       "    .dataframe thead tr:only-child th {\n",
       "        text-align: right;\n",
       "    }\n",
       "\n",
       "    .dataframe thead th {\n",
       "        text-align: left;\n",
       "    }\n",
       "\n",
       "    .dataframe tbody tr th {\n",
       "        vertical-align: top;\n",
       "    }\n",
       "</style>\n",
       "<table border=\"1\" class=\"dataframe\">\n",
       "  <thead>\n",
       "    <tr style=\"text-align: right;\">\n",
       "      <th></th>\n",
       "      <th>face</th>\n",
       "      <th>x</th>\n",
       "      <th>y</th>\n",
       "      <th>r</th>\n",
       "      <th>g</th>\n",
       "      <th>b</th>\n",
       "    </tr>\n",
       "  </thead>\n",
       "  <tbody>\n",
       "    <tr>\n",
       "      <th>0</th>\n",
       "      <td>U</td>\n",
       "      <td>0</td>\n",
       "      <td>0</td>\n",
       "      <td>242.96</td>\n",
       "      <td>211.28</td>\n",
       "      <td>163.72</td>\n",
       "    </tr>\n",
       "    <tr>\n",
       "      <th>1</th>\n",
       "      <td>U</td>\n",
       "      <td>0</td>\n",
       "      <td>1</td>\n",
       "      <td>238.52</td>\n",
       "      <td>211.76</td>\n",
       "      <td>162.64</td>\n",
       "    </tr>\n",
       "    <tr>\n",
       "      <th>2</th>\n",
       "      <td>U</td>\n",
       "      <td>0</td>\n",
       "      <td>2</td>\n",
       "      <td>238.52</td>\n",
       "      <td>208.04</td>\n",
       "      <td>164.60</td>\n",
       "    </tr>\n",
       "    <tr>\n",
       "      <th>3</th>\n",
       "      <td>U</td>\n",
       "      <td>1</td>\n",
       "      <td>0</td>\n",
       "      <td>248.88</td>\n",
       "      <td>205.88</td>\n",
       "      <td>162.92</td>\n",
       "    </tr>\n",
       "    <tr>\n",
       "      <th>4</th>\n",
       "      <td>U</td>\n",
       "      <td>1</td>\n",
       "      <td>1</td>\n",
       "      <td>244.68</td>\n",
       "      <td>204.08</td>\n",
       "      <td>158.64</td>\n",
       "    </tr>\n",
       "    <tr>\n",
       "      <th>5</th>\n",
       "      <td>U</td>\n",
       "      <td>1</td>\n",
       "      <td>2</td>\n",
       "      <td>243.52</td>\n",
       "      <td>203.76</td>\n",
       "      <td>161.12</td>\n",
       "    </tr>\n",
       "    <tr>\n",
       "      <th>6</th>\n",
       "      <td>U</td>\n",
       "      <td>2</td>\n",
       "      <td>0</td>\n",
       "      <td>239.60</td>\n",
       "      <td>201.04</td>\n",
       "      <td>157.16</td>\n",
       "    </tr>\n",
       "    <tr>\n",
       "      <th>7</th>\n",
       "      <td>U</td>\n",
       "      <td>2</td>\n",
       "      <td>1</td>\n",
       "      <td>234.88</td>\n",
       "      <td>198.72</td>\n",
       "      <td>153.64</td>\n",
       "    </tr>\n",
       "    <tr>\n",
       "      <th>8</th>\n",
       "      <td>U</td>\n",
       "      <td>2</td>\n",
       "      <td>2</td>\n",
       "      <td>233.20</td>\n",
       "      <td>197.20</td>\n",
       "      <td>155.40</td>\n",
       "    </tr>\n",
       "    <tr>\n",
       "      <th>9</th>\n",
       "      <td>R</td>\n",
       "      <td>0</td>\n",
       "      <td>0</td>\n",
       "      <td>252.64</td>\n",
       "      <td>155.24</td>\n",
       "      <td>125.64</td>\n",
       "    </tr>\n",
       "  </tbody>\n",
       "</table>\n",
       "</div>"
      ],
      "text/plain": [
       "  face  x  y       r       g       b\n",
       "0    U  0  0  242.96  211.28  163.72\n",
       "1    U  0  1  238.52  211.76  162.64\n",
       "2    U  0  2  238.52  208.04  164.60\n",
       "3    U  1  0  248.88  205.88  162.92\n",
       "4    U  1  1  244.68  204.08  158.64\n",
       "5    U  1  2  243.52  203.76  161.12\n",
       "6    U  2  0  239.60  201.04  157.16\n",
       "7    U  2  1  234.88  198.72  153.64\n",
       "8    U  2  2  233.20  197.20  155.40\n",
       "9    R  0  0  252.64  155.24  125.64"
      ]
     },
     "execution_count": 205,
     "metadata": {},
     "output_type": "execute_result"
    }
   ],
   "source": [
    "square_frame.head(10)"
   ]
  },
  {
   "cell_type": "code",
   "execution_count": 206,
   "metadata": {},
   "outputs": [],
   "source": [
    "X = square_frame[['r', 'g', 'b']]"
   ]
  },
  {
   "cell_type": "code",
   "execution_count": 207,
   "metadata": {},
   "outputs": [
    {
     "data": {
      "text/plain": [
       "KMeans(algorithm='auto', copy_x=True, init='k-means++', max_iter=300,\n",
       "    n_clusters=6, n_init=10, n_jobs=1, precompute_distances='auto',\n",
       "    random_state=123, tol=0.0001, verbose=0)"
      ]
     },
     "execution_count": 207,
     "metadata": {},
     "output_type": "execute_result"
    }
   ],
   "source": [
    "km = KMeans(n_clusters=6, random_state=123)\n",
    "km.fit(X)"
   ]
  },
  {
   "cell_type": "code",
   "execution_count": 208,
   "metadata": {},
   "outputs": [
    {
     "data": {
      "text/plain": [
       "array([[ 160.52444444,  186.16      ,  106.67555556],\n",
       "       [ 248.77333333,  150.98666667,  122.68444444],\n",
       "       [ 229.64888889,  204.07555556,   98.49333333],\n",
       "       [ 240.52888889,  204.64      ,  159.98222222],\n",
       "       [ 143.97333333,  169.91111111,  157.04      ],\n",
       "       [ 235.36444444,  119.16      ,  129.17333333]])"
      ]
     },
     "execution_count": 208,
     "metadata": {},
     "output_type": "execute_result"
    }
   ],
   "source": [
    "km.cluster_centers_"
   ]
  },
  {
   "cell_type": "code",
   "execution_count": 209,
   "metadata": {},
   "outputs": [],
   "source": [
    "palette = np.zeros((100,600,3))\n",
    "#print list(reversed([int(x) for x in km.cluster_centers_[0]]))\n",
    "palette[0:99,0:99] = list(([int(x) for x in km.cluster_centers_[0]]))\n",
    "palette[0:99,100:199] = list(([int(x) for x in km.cluster_centers_[1]]))\n",
    "palette[0:99,200:299] = list(([int(x) for x in km.cluster_centers_[2]]))\n",
    "palette[0:99,300:399] = list(([int(x) for x in km.cluster_centers_[3]]))\n",
    "palette[0:99,400:499] = list(([int(x) for x in km.cluster_centers_[4]]))\n",
    "palette[0:99,500:599] = list(([int(x) for x in km.cluster_centers_[5]]))"
   ]
  },
  {
   "cell_type": "code",
   "execution_count": 210,
   "metadata": {},
   "outputs": [
    {
     "name": "stdout",
     "output_type": "stream",
     "text": [
      "   face  x  y       r       g       b\n",
      "4     U  1  1  244.68  204.08  158.64\n",
      "13    R  1  1  250.88  145.24  120.76\n",
      "22    F  1  1  146.64  169.72  155.28\n",
      "31    D  1  1  241.08  210.12   98.60\n",
      "40    L  1  1  238.68  113.56  128.80\n",
      "49    B  1  1  159.24  187.16  104.36\n"
     ]
    }
   ],
   "source": [
    "centers_list = []\n",
    "center_rgb = square_frame[(square_frame['x']==1) & (square_frame['y']==1)]\n",
    "print center_rgb"
   ]
  },
  {
   "cell_type": "code",
   "execution_count": 211,
   "metadata": {},
   "outputs": [],
   "source": [
    "square_mapper = {}\n",
    "center_map = km.predict(center_rgb[['r', 'g', 'b']])\n",
    "for i in range(6):\n",
    "    square_mapper[center_map[i]] = face_order[i]"
   ]
  },
  {
   "cell_type": "code",
   "execution_count": 212,
   "metadata": {},
   "outputs": [
    {
     "data": {
      "text/plain": [
       "array([3, 1, 4, 2, 5, 0], dtype=int32)"
      ]
     },
     "execution_count": 212,
     "metadata": {},
     "output_type": "execute_result"
    }
   ],
   "source": [
    "center_map"
   ]
  },
  {
   "cell_type": "code",
   "execution_count": 213,
   "metadata": {},
   "outputs": [
    {
     "data": {
      "text/plain": [
       "{0: 'B', 1: 'R', 2: 'D', 3: 'U', 4: 'F', 5: 'L'}"
      ]
     },
     "execution_count": 213,
     "metadata": {},
     "output_type": "execute_result"
    }
   ],
   "source": [
    "square_mapper"
   ]
  },
  {
   "cell_type": "code",
   "execution_count": 214,
   "metadata": {
    "collapsed": true
   },
   "outputs": [],
   "source": [
    "square_predict = km.predict(square_frame[['r', 'g', 'b']])"
   ]
  },
  {
   "cell_type": "code",
   "execution_count": 215,
   "metadata": {},
   "outputs": [],
   "source": [
    "squares = []\n",
    "for square in square_predict:\n",
    "    squares.append(square_mapper[square])"
   ]
  },
  {
   "cell_type": "code",
   "execution_count": 217,
   "metadata": {},
   "outputs": [],
   "source": [
    "cube = ''.join(squares)"
   ]
  },
  {
   "cell_type": "markdown",
   "metadata": {},
   "source": [
    "## Solve it!"
   ]
  },
  {
   "cell_type": "code",
   "execution_count": 220,
   "metadata": {},
   "outputs": [],
   "source": [
    "solution = kociemba.solve(cube)"
   ]
  },
  {
   "cell_type": "code",
   "execution_count": 222,
   "metadata": {},
   "outputs": [
    {
     "data": {
      "text/plain": [
       "19"
      ]
     },
     "execution_count": 222,
     "metadata": {},
     "output_type": "execute_result"
    }
   ],
   "source": [
    "len(solution.split(' '))"
   ]
  },
  {
   "cell_type": "code",
   "execution_count": 223,
   "metadata": {},
   "outputs": [
    {
     "data": {
      "text/plain": [
       "u\"F L2 F U L D' F2 D L' B2 U' R2 U' F2 U L2 D F2 D\""
      ]
     },
     "execution_count": 223,
     "metadata": {},
     "output_type": "execute_result"
    }
   ],
   "source": [
    "solution"
   ]
  },
  {
   "cell_type": "code",
   "execution_count": null,
   "metadata": {
    "collapsed": true
   },
   "outputs": [],
   "source": []
  },
  {
   "cell_type": "code",
   "execution_count": 117,
   "metadata": {},
   "outputs": [
    {
     "data": {
      "text/plain": [
       "(-0.5, 599.5, 99.5, -0.5)"
      ]
     },
     "execution_count": 117,
     "metadata": {},
     "output_type": "execute_result"
    },
    {
     "data": {
      "image/png": "[encoded data removed]",
      "text/plain": [
       "<matplotlib.figure.Figure at 0x1156423d0>"
      ]
     },
     "metadata": {},
     "output_type": "display_data"
    }
   ],
   "source": [
    "fig_pal = plt.figure()\n",
    "ax = fig_pal.add_subplot(1,1,1)\n",
    "ax.imshow(palette)\n",
    "plt.axis(\"off\")"
   ]
  },
  {
   "cell_type": "code",
   "execution_count": null,
   "metadata": {
    "collapsed": true
   },
   "outputs": [],
   "source": []
  },
  {
   "cell_type": "code",
   "execution_count": null,
   "metadata": {
    "collapsed": true
   },
   "outputs": [],
   "source": []
  },
  {
   "cell_type": "code",
   "execution_count": null,
   "metadata": {
    "collapsed": true
   },
   "outputs": [],
   "source": []
  },
  {
   "cell_type": "code",
   "execution_count": null,
   "metadata": {
    "collapsed": true
   },
   "outputs": [],
   "source": []
  },
  {
   "cell_type": "code",
   "execution_count": 87,
   "metadata": {},
   "outputs": [
    {
     "name": "stdout",
     "output_type": "stream",
     "text": [
      "(120, 120, 3)\n"
     ]
    },
    {
     "data": {
      "text/plain": [
       "array([[[201, 192, 153],\n",
       "        [199, 192, 150],\n",
       "        [200, 193, 149],\n",
       "        ..., \n",
       "        [186, 220, 230],\n",
       "        [179, 213, 225],\n",
       "        [175, 209, 221]],\n",
       "\n",
       "       [[200, 192, 155],\n",
       "        [200, 192, 153],\n",
       "        [200, 193, 151],\n",
       "        ..., \n",
       "        [186, 223, 232],\n",
       "        [178, 216, 225],\n",
       "        [182, 220, 229]],\n",
       "\n",
       "       [[198, 193, 153],\n",
       "        [201, 194, 152],\n",
       "        [202, 193, 152],\n",
       "        ..., \n",
       "        [181, 219, 228],\n",
       "        [178, 221, 228],\n",
       "        [176, 219, 226]],\n",
       "\n",
       "       ..., \n",
       "       [[243, 254, 250],\n",
       "        [238, 252, 239],\n",
       "        [231, 245, 220],\n",
       "        ..., \n",
       "        [200, 188, 136],\n",
       "        [201, 188, 136],\n",
       "        [199, 186, 134]],\n",
       "\n",
       "       [[238, 254, 251],\n",
       "        [234, 250, 239],\n",
       "        [228, 240, 216],\n",
       "        ..., \n",
       "        [198, 186, 134],\n",
       "        [197, 185, 133],\n",
       "        [197, 185, 133]],\n",
       "\n",
       "       [[233, 252, 248],\n",
       "        [228, 244, 234],\n",
       "        [227, 236, 215],\n",
       "        ..., \n",
       "        [195, 183, 131],\n",
       "        [194, 182, 130],\n",
       "        [195, 183, 131]]], dtype=uint8)"
      ]
     },
     "execution_count": 87,
     "metadata": {},
     "output_type": "execute_result"
    }
   ],
   "source": [
    "print face_images['U'].shape\n",
    "face_images['U']"
   ]
  },
  {
   "cell_type": "code",
   "execution_count": 77,
   "metadata": {},
   "outputs": [],
   "source": [
    "for img in face_images.itervalues():\n",
    "    image = img_as_float(img)\n",
    "    segments = slic(image, n_segments=2, sigma=5)\n",
    "    face_images_out.append(segments)\n",
    " "
   ]
  },
  {
   "cell_type": "code",
   "execution_count": 78,
   "metadata": {},
   "outputs": [
    {
     "name": "stdout",
     "output_type": "stream",
     "text": [
      "(120, 120)\n"
     ]
    }
   ],
   "source": [
    "print segments.shape"
   ]
  },
  {
   "cell_type": "code",
   "execution_count": 80,
   "metadata": {},
   "outputs": [
    {
     "data": {
      "text/plain": [
       "(-0.5, 119.5, 119.5, -0.5)"
      ]
     },
     "execution_count": 80,
     "metadata": {},
     "output_type": "execute_result"
    },
    {
     "data": {
      "image/png": "[encoded data removed]",
      "text/plain": [
       "<matplotlib.figure.Figure at 0x1152938d0>"
      ]
     },
     "metadata": {},
     "output_type": "display_data"
    }
   ],
   "source": [
    "fig = plt.figure()\n",
    "ax = fig.add_subplot(1, 1, 1)\n",
    "ax.imshow(face_images_out[2])\n",
    "plt.axis(\"off\")"
   ]
  },
  {
   "cell_type": "code",
   "execution_count": null,
   "metadata": {
    "collapsed": true
   },
   "outputs": [],
   "source": []
  },
  {
   "cell_type": "code",
   "execution_count": 109,
   "metadata": {},
   "outputs": [],
   "source": [
    "marked_img = mark_boundaries(face_images[2], face_images_out[2])"
   ]
  },
  {
   "cell_type": "code",
   "execution_count": 110,
   "metadata": {},
   "outputs": [
    {
     "data": {
      "text/plain": [
       "(-0.5, 719.5, 479.5, -0.5)"
      ]
     },
     "execution_count": 110,
     "metadata": {},
     "output_type": "execute_result"
    },
    {
     "data": {
      "image/png": "[encoded data removed]",
      "text/plain": [
       "<matplotlib.figure.Figure at 0x61cf7690>"
      ]
     },
     "metadata": {},
     "output_type": "display_data"
    }
   ],
   "source": [
    "fig2 = plt.figure()\n",
    "ax = fig2.add_subplot(1, 1, 1)\n",
    "ax.imshow(marked_img)\n",
    "plt.axis(\"off\")"
   ]
  },
  {
   "cell_type": "code",
   "execution_count": null,
   "metadata": {
    "collapsed": true
   },
   "outputs": [],
   "source": []
  },
  {
   "cell_type": "code",
   "execution_count": null,
   "metadata": {
    "collapsed": true
   },
   "outputs": [],
   "source": []
  },
  {
   "cell_type": "code",
   "execution_count": null,
   "metadata": {
    "collapsed": true
   },
   "outputs": [],
   "source": []
  },
  {
   "cell_type": "code",
   "execution_count": null,
   "metadata": {
    "collapsed": true
   },
   "outputs": [],
   "source": []
  },
  {
   "cell_type": "markdown",
   "metadata": {},
   "source": [
    "How about taking several shots..."
   ]
  },
  {
   "cell_type": "code",
   "execution_count": 29,
   "metadata": {},
   "outputs": [],
   "source": [
    "camera.start_preview()\n",
    "for i in range(5):\n",
    "    sleep(3)\n",
    "    camera.capture('./img/image%s.jpg' % i)\n",
    "camera.stop_preview()"
   ]
  },
  {
   "cell_type": "markdown",
   "metadata": {},
   "source": [
    "## What about video?"
   ]
  },
  {
   "cell_type": "code",
   "execution_count": 4,
   "metadata": {},
   "outputs": [],
   "source": [
    "camera.start_preview()\n",
    "camera.start_recording('img/videoday3.h264')\n",
    "sleep(7)\n",
    "camera.stop_recording()\n",
    "camera.stop_preview()"
   ]
  },
  {
   "cell_type": "markdown",
   "metadata": {},
   "source": [
    "This did generate a file, but the default format isn't playable through the browser, so...\n",
    "Note: this did require the installation of gpac with:\n",
    "\n",
    "*sudo apt-get install -y gpac*"
   ]
  },
  {
   "cell_type": "code",
   "execution_count": 33,
   "metadata": {},
   "outputs": [],
   "source": [
    "# convert the video above to something playable through the browser, then delete the original unplayable version.\n",
    "os.system(\"MP4Box -fps 30 -add img/videoday3.h264 img/videoday3.mp4\")\n",
    "os.remove(\"img/videoday3.h264\")"
   ]
  },
  {
   "cell_type": "markdown",
   "metadata": {},
   "source": [
    "When we're all finished with the camera module, it's a good idea to *close* the object to prevent GPU memory leakage."
   ]
  },
  {
   "cell_type": "code",
   "execution_count": 13,
   "metadata": {
    "collapsed": true
   },
   "outputs": [],
   "source": [
    "camera.close()"
   ]
  },
  {
   "cell_type": "code",
   "execution_count": null,
   "metadata": {
    "collapsed": true
   },
   "outputs": [],
   "source": []
  }
 ],
 "metadata": {
  "kernelspec": {
   "display_name": "Python 2",
   "language": "python",
   "name": "python2"
  },
  "language_info": {
   "codemirror_mode": {
    "name": "ipython",
    "version": 2
   },
   "file_extension": ".py",
   "mimetype": "text/x-python",
   "name": "python",
   "nbconvert_exporter": "python",
   "pygments_lexer": "ipython2",
   "version": "2.7.13"
  }
 },
 "nbformat": 4,
 "nbformat_minor": 1
}
