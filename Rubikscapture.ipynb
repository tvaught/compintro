{
 "cells": [
  {
   "cell_type": "markdown",
   "metadata": {},
   "source": [
    "# Raspberry Pi Camera Capture of Rubik's Cube State"
   ]
  },
  {
   "cell_type": "markdown",
   "metadata": {},
   "source": [
    "First we import the libraries we need related to the Camera and image and Machine Learning libraries"
   ]
  },
  {
   "cell_type": "code",
   "execution_count": 1,
   "metadata": {
    "collapsed": true
   },
   "outputs": [],
   "source": [
    "from picamera import PiCamera\n",
    "from picamera.color import Color\n",
    "\n",
    "from gpiozero import LED\n",
    "\n",
    "import os\n",
    "from time import sleep\n",
    "\n",
    "# import a bunch of stuff that we'll use to manipulate our images...\n",
    "from skimage.io import imread\n",
    "#from skimage import filter\n",
    "from skimage.segmentation import slic\n",
    "from skimage.segmentation import mark_boundaries\n",
    "from skimage.util import img_as_float\n",
    "from skimage import io\n",
    "from skimage.measure import block_reduce\n",
    "import numpy as np\n",
    "\n",
    "from sklearn.cluster import KMeans\n",
    "import pandas as pd\n",
    "\n",
    "import kociemba\n",
    "\n",
    "%matplotlib inline\n",
    "\n",
    "import matplotlib.pyplot as plt"
   ]
  },
  {
   "cell_type": "code",
   "execution_count": 2,
   "metadata": {
    "collapsed": true
   },
   "outputs": [],
   "source": [
    "# Import GPIO Libraries\n",
    "import RPi.GPIO as GPIO\n",
    "import time\n"
   ]
  },
  {
   "cell_type": "code",
   "execution_count": 5,
   "metadata": {
    "collapsed": true
   },
   "outputs": [],
   "source": [
    "GPIO.cleanup()"
   ]
  },
  {
   "cell_type": "code",
   "execution_count": 6,
   "metadata": {},
   "outputs": [],
   "source": [
    "# Set up output pins for the two servo motors\n",
    "GPIO.setmode(GPIO.BCM)\n",
    "GPIO.setup(18, GPIO.OUT)\n",
    "GPIO.setup(19, GPIO.OUT)\n"
   ]
  },
  {
   "cell_type": "code",
   "execution_count": 7,
   "metadata": {
    "collapsed": true
   },
   "outputs": [],
   "source": [
    "# A class to extend the PWM object to be a bit smarter\n",
    "class Servo(GPIO.PWM):\n",
    "    \"\"\" Smarter PWM interface to servos.  This adds a set_position method and keeps\n",
    "        the state of the current position\n",
    "    \"\"\"\n",
    "    def __init__(self, pin_number, freq, start_angle, begin_duty_cycle=2.5, \n",
    "                 end_duty_cycle=12.5, sweep_angle=120.0):\n",
    "        super(Servo, self).__init__(pin_number, freq)\n",
    "        \n",
    "        self.angle = start_angle\n",
    "        self.servo_slope = (sweep_angle)/(end_duty_cycle-begin_duty_cycle)\n",
    "        self.servo_intercept = -(self.servo_slope)*begin_duty_cycle\n",
    "        duty_cycle = self._map_angle_to_duty_cycle(start_angle)\n",
    "        self.start(duty_cycle)\n",
    "        \n",
    "    def set_position(self, angle, steps=10, delay=0.1):\n",
    "        \n",
    "        for step in np.linspace(self.angle, angle, steps):\n",
    "            duty_cycle = self._map_angle_to_duty_cycle(step)\n",
    "            self.ChangeDutyCycle(duty_cycle)\n",
    "            #print \"setting motor to duty cycle: %s\" % duty_cycle\n",
    "            time.sleep(delay)\n",
    "        self.angle = angle\n",
    "        \n",
    "    def _map_angle_to_duty_cycle(self, angle):\n",
    "        return (angle-self.servo_intercept)/self.servo_slope\n",
    "    \n",
    "    "
   ]
  },
  {
   "cell_type": "code",
   "execution_count": 182,
   "metadata": {
    "collapsed": true
   },
   "outputs": [],
   "source": [
    "# Some initial settings which seem to work for my build\n",
    "start_angle = 22\n",
    "hold_angle = 42\n",
    "push_angle = 60\n",
    "angle_0 = 3\n",
    "angle_90 = angle_0+65\n",
    "roll_map = [4, 0, 2, 1, 3, 5]\n",
    "rotate_map = [0, 2, 4, 3, 5, 1]\n",
    "unrotate_map = [0, 5, 1, 3, 2, 4]"
   ]
  },
  {
   "cell_type": "code",
   "execution_count": 385,
   "metadata": {
    "collapsed": true
   },
   "outputs": [],
   "source": [
    "def roll_cube(servo_obj, orientation):\n",
    "    servo_obj.set_position(push_angle, delay=0.06)\n",
    "    servo_obj.set_position(start_angle)\n",
    "    orientation = orientation[roll_map]\n",
    "    return orientation\n",
    "    \n",
    "def rotate_cube(servo_obj, orientation):\n",
    "    servo_obj.set_position(angle_90-7)\n",
    "    orientation = orientation[rotate_map]\n",
    "    return orientation\n",
    "    \n",
    "def unrotate_cube(servo_obj, orientation):\n",
    "    servo_obj.set_position(angle_0)\n",
    "    orientation = orientation[unrotate_map]\n",
    "    return orientation\n",
    "    \n",
    "def hold_cube(servo_obj):\n",
    "    servo_obj.set_position(hold_angle)\n",
    "    \n",
    "def return_cube(servo_obj):\n",
    "    servo_obj.set_position(start_angle)\n",
    "    \n",
    "def rotate_side(servo_roll, servo_side, orientation):\n",
    "    hold_cube(servo_roll)\n",
    "    servo_side.set_position(angle_90, delay=0.1)\n",
    "    return_cube(servo_roll)\n",
    "    servo_side.set_position(angle_0, delay=0.06)\n",
    "    orientation = orientation[unrotate_map]\n",
    "    return orientation\n",
    "\n",
    "def counter_rotate_side(servo_roll, servo_side, orientation):\n",
    "    servo_side.set_position(angle_90-5.0, delay=0.06)\n",
    "    hold_cube(servo_roll)\n",
    "    servo_side.set_position(angle_0, delay=0.1)\n",
    "    return_cube(servo_roll)\n",
    "    orientation = orientation[rotate_map]\n",
    "    return orientation"
   ]
  },
  {
   "cell_type": "code",
   "execution_count": 10,
   "metadata": {
    "collapsed": true
   },
   "outputs": [],
   "source": [
    "# Initialize the two servos\n",
    "servo_roll = Servo(18, 50, start_angle)\n",
    "servo_side = Servo(19, 50, angle_0)"
   ]
  },
  {
   "cell_type": "code",
   "execution_count": 11,
   "metadata": {
    "collapsed": true
   },
   "outputs": [],
   "source": [
    "# 'Full' servo range of motion for spin\n",
    "servo_side.set_position(0)\n",
    "servo_side.set_position(110)"
   ]
  },
  {
   "cell_type": "code",
   "execution_count": 465,
   "metadata": {
    "collapsed": true
   },
   "outputs": [],
   "source": [
    "# A little \"wake up\" movement from our servos to get them settled.\n",
    "servo_side.set_position(angle_0)\n",
    "servo_side.set_position(angle_90)\n",
    "servo_side.set_position(angle_0)\n",
    "servo_roll.set_position(hold_angle)\n",
    "servo_roll.set_position(start_angle)"
   ]
  },
  {
   "cell_type": "code",
   "execution_count": 13,
   "metadata": {},
   "outputs": [],
   "source": [
    "# Initialize light\n",
    "led = LED(17)"
   ]
  },
  {
   "cell_type": "code",
   "execution_count": null,
   "metadata": {
    "collapsed": true
   },
   "outputs": [],
   "source": []
  },
  {
   "cell_type": "markdown",
   "metadata": {},
   "source": [
    "# Begin scan of cube faces"
   ]
  },
  {
   "cell_type": "code",
   "execution_count": 466,
   "metadata": {
    "collapsed": true
   },
   "outputs": [],
   "source": [
    "face_order = np.array(['U', 'R', 'F', 'D', 'L', 'B'])\n",
    "orientation = face_order.copy()\n"
   ]
  },
  {
   "cell_type": "code",
   "execution_count": 467,
   "metadata": {},
   "outputs": [],
   "source": [
    "camera = PiCamera()"
   ]
  },
  {
   "cell_type": "code",
   "execution_count": 468,
   "metadata": {},
   "outputs": [],
   "source": [
    "camera.resolution = (120, 120)\n",
    "\n",
    "camera.hflip = False\n",
    "camera.vflip = False\n",
    "camera.brightness = 50 # the default is 50, but you can set it to whatever."
   ]
  },
  {
   "cell_type": "markdown",
   "metadata": {},
   "source": [
    "How about some text on the image."
   ]
  },
  {
   "cell_type": "code",
   "execution_count": 469,
   "metadata": {
    "collapsed": true
   },
   "outputs": [],
   "source": [
    "camera.annotate_foreground = Color(1.0,1.0,0.5)\n",
    "\n",
    "camera.annotate_text = \"\"\n",
    "camera.annotate_text_size = 36"
   ]
  },
  {
   "cell_type": "code",
   "execution_count": 470,
   "metadata": {},
   "outputs": [],
   "source": [
    "# Turn on the LED\n",
    "led.on()"
   ]
  },
  {
   "cell_type": "code",
   "execution_count": 471,
   "metadata": {
    "collapsed": true
   },
   "outputs": [],
   "source": [
    "camera.start_preview()\n",
    "sleep(1)\n",
    "camera.capture('./img/cubeU.jpg')\n",
    "camera.stop_preview()"
   ]
  },
  {
   "cell_type": "code",
   "execution_count": 472,
   "metadata": {},
   "outputs": [],
   "source": [
    "# Move cube to show left side with down side at base of camera\n",
    "orientation = roll_cube(servo_roll, orientation)\n",
    "orientation = rotate_cube(servo_side, orientation)"
   ]
  },
  {
   "cell_type": "code",
   "execution_count": 473,
   "metadata": {},
   "outputs": [],
   "source": [
    "camera.start_preview()\n",
    "sleep(1)\n",
    "camera.capture('./img/cubeL.jpg')\n",
    "camera.stop_preview()"
   ]
  },
  {
   "cell_type": "code",
   "execution_count": 474,
   "metadata": {},
   "outputs": [],
   "source": [
    "orientation = roll_cube(servo_roll, orientation)"
   ]
  },
  {
   "cell_type": "code",
   "execution_count": 475,
   "metadata": {
    "collapsed": true
   },
   "outputs": [],
   "source": [
    "camera.start_preview()\n",
    "sleep(1)\n",
    "camera.capture('./img/cubeB.jpg')\n",
    "camera.stop_preview()"
   ]
  },
  {
   "cell_type": "code",
   "execution_count": 476,
   "metadata": {},
   "outputs": [],
   "source": [
    "orientation = roll_cube(servo_roll, orientation)"
   ]
  },
  {
   "cell_type": "code",
   "execution_count": 477,
   "metadata": {
    "collapsed": true
   },
   "outputs": [],
   "source": [
    "camera.start_preview()\n",
    "sleep(1)\n",
    "camera.capture('./img/cubeR.jpg')\n",
    "camera.stop_preview()"
   ]
  },
  {
   "cell_type": "code",
   "execution_count": 478,
   "metadata": {},
   "outputs": [],
   "source": [
    "orientation = roll_cube(servo_roll, orientation)"
   ]
  },
  {
   "cell_type": "code",
   "execution_count": 479,
   "metadata": {
    "collapsed": true
   },
   "outputs": [],
   "source": [
    "camera.start_preview()\n",
    "sleep(1)\n",
    "camera.capture('./img/cubeF.jpg')\n",
    "camera.stop_preview()"
   ]
  },
  {
   "cell_type": "code",
   "execution_count": 480,
   "metadata": {},
   "outputs": [],
   "source": [
    "orientation = unrotate_cube(servo_side, orientation)\n",
    "orientation = roll_cube(servo_roll, orientation)\n",
    "orientation = rotate_cube(servo_side, orientation)"
   ]
  },
  {
   "cell_type": "code",
   "execution_count": 481,
   "metadata": {
    "collapsed": true
   },
   "outputs": [],
   "source": [
    "camera.start_preview()\n",
    "sleep(1)\n",
    "camera.capture('./img/cubeD.jpg')\n",
    "camera.stop_preview()"
   ]
  },
  {
   "cell_type": "code",
   "execution_count": 482,
   "metadata": {},
   "outputs": [],
   "source": [
    "orientation = unrotate_cube(servo_side, orientation)"
   ]
  },
  {
   "cell_type": "code",
   "execution_count": 483,
   "metadata": {
    "collapsed": true
   },
   "outputs": [],
   "source": [
    "led.off()"
   ]
  },
  {
   "cell_type": "code",
   "execution_count": 484,
   "metadata": {
    "collapsed": true
   },
   "outputs": [],
   "source": [
    "camera.close()"
   ]
  },
  {
   "cell_type": "code",
   "execution_count": 485,
   "metadata": {},
   "outputs": [
    {
     "data": {
      "text/plain": [
       "array(['D', 'F', 'R', 'U', 'B', 'L'],\n",
       "      dtype='|S1')"
      ]
     },
     "execution_count": 485,
     "metadata": {},
     "output_type": "execute_result"
    }
   ],
   "source": [
    "orientation"
   ]
  },
  {
   "cell_type": "markdown",
   "metadata": {},
   "source": [
    "## Now process the images..."
   ]
  },
  {
   "cell_type": "code",
   "execution_count": null,
   "metadata": {
    "collapsed": true
   },
   "outputs": [],
   "source": []
  },
  {
   "cell_type": "code",
   "execution_count": 486,
   "metadata": {
    "collapsed": true
   },
   "outputs": [],
   "source": [
    "face_images = {}\n",
    "face_images_out = []\n",
    "squares = {}\n",
    "masks = {}  # for QA"
   ]
  },
  {
   "cell_type": "code",
   "execution_count": 487,
   "metadata": {},
   "outputs": [],
   "source": [
    "for face in face_order:\n",
    "    # read and cache images in dict\n",
    "    face_images[face] = (imread('./img/cube%s.jpg' % face))\n",
    "\n",
    "    img = face_images[face]\n",
    "    mask = np.empty(img.shape[:2], dtype=np.bool)\n",
    "    mask[::]=False\n",
    "    row_coords = [(25, 30), (50, 55), (75, 80)]\n",
    "    col_coords = [(38, 43), (65, 70), (95, 100)]\n",
    "    squares[face] = np.zeros((3, 3, 3))\n",
    "    row = 0\n",
    "    # extract average RGB values from approximate square centers\n",
    "    for i in row_coords:\n",
    "        col = 0\n",
    "        for j in col_coords:\n",
    "            mask[i[0]:i[1], j[0]:j[1]] = True\n",
    "            squares[face][row, col] = (np.average(img[i[0]:i[1], j[0]:j[1], 0]),\n",
    "                                 np.average(img[i[0]:i[1], j[0]:j[1], 1]),\n",
    "                                 np.average(img[i[0]:i[1], j[0]:j[1], 2]))\n",
    "            col+=1\n",
    "        row+=1\n",
    "    # to show last image alignment\n",
    "    masks[face] = mark_boundaries(img, mask)"
   ]
  },
  {
   "cell_type": "code",
   "execution_count": 488,
   "metadata": {},
   "outputs": [
    {
     "data": {
      "text/plain": [
       "(-0.5, 119.5, 119.5, -0.5)"
      ]
     },
     "execution_count": 488,
     "metadata": {},
     "output_type": "execute_result"
    },
    {
     "data": {
      "image/png": "[encoded data removed]",
      "text/plain": [
       "<matplotlib.figure.Figure at 0x655e6730>"
      ]
     },
     "metadata": {},
     "output_type": "display_data"
    }
   ],
   "source": [
    "fig_mask = plt.figure()\n",
    "ax = fig_mask.add_subplot(1,1,1)\n",
    "ax.imshow(masks['D'])\n",
    "plt.axis(\"off\")"
   ]
  },
  {
   "cell_type": "code",
   "execution_count": 489,
   "metadata": {
    "collapsed": true
   },
   "outputs": [],
   "source": [
    "square_list = []\n",
    "for face in face_order:\n",
    "    for x in range(3):\n",
    "        for y in range(3):\n",
    "            r, g, b = squares[face][x,y]\n",
    "            square_list.append([face, x, y, r, g, b])\n",
    "\n",
    "columns = ['face', 'x', 'y', 'r', 'g', 'b']\n",
    "square_frame = pd.DataFrame(square_list, columns=columns)"
   ]
  },
  {
   "cell_type": "code",
   "execution_count": 490,
   "metadata": {},
   "outputs": [
    {
     "data": {
      "text/html": [
       "<div>\n",
       "<style>\n",
       "    .dataframe thead tr:only-child th {\n",
       "        text-align: right;\n",
       "    }\n",
       "\n",
       "    .dataframe thead th {\n",
       "        text-align: left;\n",
       "    }\n",
       "\n",
       "    .dataframe tbody tr th {\n",
       "        vertical-align: top;\n",
       "    }\n",
       "</style>\n",
       "<table border=\"1\" class=\"dataframe\">\n",
       "  <thead>\n",
       "    <tr style=\"text-align: right;\">\n",
       "      <th></th>\n",
       "      <th>face</th>\n",
       "      <th>x</th>\n",
       "      <th>y</th>\n",
       "      <th>r</th>\n",
       "      <th>g</th>\n",
       "      <th>b</th>\n",
       "    </tr>\n",
       "  </thead>\n",
       "  <tbody>\n",
       "    <tr>\n",
       "      <th>0</th>\n",
       "      <td>U</td>\n",
       "      <td>0</td>\n",
       "      <td>0</td>\n",
       "      <td>45.28</td>\n",
       "      <td>121.20</td>\n",
       "      <td>160.16</td>\n",
       "    </tr>\n",
       "    <tr>\n",
       "      <th>1</th>\n",
       "      <td>U</td>\n",
       "      <td>0</td>\n",
       "      <td>1</td>\n",
       "      <td>69.80</td>\n",
       "      <td>143.20</td>\n",
       "      <td>175.60</td>\n",
       "    </tr>\n",
       "    <tr>\n",
       "      <th>2</th>\n",
       "      <td>U</td>\n",
       "      <td>0</td>\n",
       "      <td>2</td>\n",
       "      <td>200.08</td>\n",
       "      <td>103.12</td>\n",
       "      <td>66.40</td>\n",
       "    </tr>\n",
       "    <tr>\n",
       "      <th>3</th>\n",
       "      <td>U</td>\n",
       "      <td>1</td>\n",
       "      <td>0</td>\n",
       "      <td>50.00</td>\n",
       "      <td>128.84</td>\n",
       "      <td>163.12</td>\n",
       "    </tr>\n",
       "    <tr>\n",
       "      <th>4</th>\n",
       "      <td>U</td>\n",
       "      <td>1</td>\n",
       "      <td>1</td>\n",
       "      <td>177.60</td>\n",
       "      <td>179.20</td>\n",
       "      <td>181.00</td>\n",
       "    </tr>\n",
       "    <tr>\n",
       "      <th>5</th>\n",
       "      <td>U</td>\n",
       "      <td>1</td>\n",
       "      <td>2</td>\n",
       "      <td>79.08</td>\n",
       "      <td>150.36</td>\n",
       "      <td>53.52</td>\n",
       "    </tr>\n",
       "    <tr>\n",
       "      <th>6</th>\n",
       "      <td>U</td>\n",
       "      <td>2</td>\n",
       "      <td>0</td>\n",
       "      <td>191.48</td>\n",
       "      <td>89.32</td>\n",
       "      <td>50.20</td>\n",
       "    </tr>\n",
       "    <tr>\n",
       "      <th>7</th>\n",
       "      <td>U</td>\n",
       "      <td>2</td>\n",
       "      <td>1</td>\n",
       "      <td>63.56</td>\n",
       "      <td>140.52</td>\n",
       "      <td>40.44</td>\n",
       "    </tr>\n",
       "    <tr>\n",
       "      <th>8</th>\n",
       "      <td>U</td>\n",
       "      <td>2</td>\n",
       "      <td>2</td>\n",
       "      <td>164.16</td>\n",
       "      <td>173.20</td>\n",
       "      <td>32.88</td>\n",
       "    </tr>\n",
       "    <tr>\n",
       "      <th>9</th>\n",
       "      <td>R</td>\n",
       "      <td>0</td>\n",
       "      <td>0</td>\n",
       "      <td>66.20</td>\n",
       "      <td>136.68</td>\n",
       "      <td>50.20</td>\n",
       "    </tr>\n",
       "  </tbody>\n",
       "</table>\n",
       "</div>"
      ],
      "text/plain": [
       "  face  x  y       r       g       b\n",
       "0    U  0  0   45.28  121.20  160.16\n",
       "1    U  0  1   69.80  143.20  175.60\n",
       "2    U  0  2  200.08  103.12   66.40\n",
       "3    U  1  0   50.00  128.84  163.12\n",
       "4    U  1  1  177.60  179.20  181.00\n",
       "5    U  1  2   79.08  150.36   53.52\n",
       "6    U  2  0  191.48   89.32   50.20\n",
       "7    U  2  1   63.56  140.52   40.44\n",
       "8    U  2  2  164.16  173.20   32.88\n",
       "9    R  0  0   66.20  136.68   50.20"
      ]
     },
     "execution_count": 490,
     "metadata": {},
     "output_type": "execute_result"
    }
   ],
   "source": [
    "square_frame.head(10)"
   ]
  },
  {
   "cell_type": "code",
   "execution_count": 491,
   "metadata": {
    "collapsed": true
   },
   "outputs": [],
   "source": [
    "X = square_frame[['r', 'g', 'b']]"
   ]
  },
  {
   "cell_type": "code",
   "execution_count": 492,
   "metadata": {},
   "outputs": [
    {
     "data": {
      "text/plain": [
       "KMeans(algorithm='auto', copy_x=True, init='k-means++', max_iter=300,\n",
       "    n_clusters=6, n_init=10, n_jobs=1, precompute_distances='auto',\n",
       "    random_state=123, tol=0.0001, verbose=0)"
      ]
     },
     "execution_count": 492,
     "metadata": {},
     "output_type": "execute_result"
    }
   ],
   "source": [
    "km = KMeans(n_clusters=6, random_state=123)\n",
    "km.fit(X)"
   ]
  },
  {
   "cell_type": "code",
   "execution_count": 493,
   "metadata": {},
   "outputs": [
    {
     "data": {
      "text/plain": [
       "array([[  70.55555556,  140.91555556,   49.23555556],\n",
       "       [ 192.68444444,   95.65333333,   60.81777778],\n",
       "       [  54.22666667,  132.56      ,  168.35111111],\n",
       "       [ 168.30222222,  170.8       ,  174.48      ],\n",
       "       [ 165.39555556,  168.77333333,   44.45777778],\n",
       "       [ 163.61777778,   48.80444444,   69.80888889]])"
      ]
     },
     "execution_count": 493,
     "metadata": {},
     "output_type": "execute_result"
    }
   ],
   "source": [
    "km.cluster_centers_"
   ]
  },
  {
   "cell_type": "code",
   "execution_count": 494,
   "metadata": {
    "collapsed": true
   },
   "outputs": [],
   "source": [
    "palette = np.zeros((100,600,3))\n",
    "#print list(reversed([int(x) for x in km.cluster_centers_[0]]))\n",
    "palette[0:99,0:99] = list(([int(x) for x in km.cluster_centers_[0]]))\n",
    "palette[0:99,100:199] = list(([int(x) for x in km.cluster_centers_[1]]))\n",
    "palette[0:99,200:299] = list(([int(x) for x in km.cluster_centers_[2]]))\n",
    "palette[0:99,300:399] = list(([int(x) for x in km.cluster_centers_[3]]))\n",
    "palette[0:99,400:499] = list(([int(x) for x in km.cluster_centers_[4]]))\n",
    "palette[0:99,500:599] = list(([int(x) for x in km.cluster_centers_[5]]))"
   ]
  },
  {
   "cell_type": "code",
   "execution_count": 495,
   "metadata": {},
   "outputs": [
    {
     "name": "stdout",
     "output_type": "stream",
     "text": [
      "   face  x  y       r       g       b\n",
      "4     U  1  1  177.60  179.20  181.00\n",
      "13    R  1  1  173.24   55.00   79.12\n",
      "22    F  1  1   71.68  144.48   56.36\n",
      "31    D  1  1  169.40  171.64   43.60\n",
      "40    L  1  1  198.72   98.88   65.36\n",
      "49    B  1  1   55.52  133.60  169.04\n"
     ]
    }
   ],
   "source": [
    "centers_list = []\n",
    "center_rgb = square_frame[(square_frame['x']==1) & (square_frame['y']==1)]\n",
    "print center_rgb"
   ]
  },
  {
   "cell_type": "code",
   "execution_count": 496,
   "metadata": {
    "collapsed": true
   },
   "outputs": [],
   "source": [
    "square_mapper = {}\n",
    "center_map = km.predict(center_rgb[['r', 'g', 'b']])\n",
    "for i in range(6):\n",
    "    square_mapper[center_map[i]] = face_order[i]"
   ]
  },
  {
   "cell_type": "code",
   "execution_count": 497,
   "metadata": {},
   "outputs": [
    {
     "data": {
      "text/plain": [
       "array([3, 5, 0, 4, 1, 2])"
      ]
     },
     "execution_count": 497,
     "metadata": {},
     "output_type": "execute_result"
    }
   ],
   "source": [
    "center_map"
   ]
  },
  {
   "cell_type": "code",
   "execution_count": 498,
   "metadata": {},
   "outputs": [
    {
     "data": {
      "text/plain": [
       "{0: 'F', 1: 'L', 2: 'B', 3: 'U', 4: 'D', 5: 'R'}"
      ]
     },
     "execution_count": 498,
     "metadata": {},
     "output_type": "execute_result"
    }
   ],
   "source": [
    "square_mapper"
   ]
  },
  {
   "cell_type": "code",
   "execution_count": 499,
   "metadata": {
    "collapsed": true
   },
   "outputs": [],
   "source": [
    "square_predict = km.predict(square_frame[['r', 'g', 'b']])"
   ]
  },
  {
   "cell_type": "code",
   "execution_count": 500,
   "metadata": {},
   "outputs": [],
   "source": [
    "squares = []\n",
    "for square in square_predict:\n",
    "    squares.append(square_mapper[square])"
   ]
  },
  {
   "cell_type": "code",
   "execution_count": 501,
   "metadata": {
    "collapsed": true
   },
   "outputs": [],
   "source": [
    "cube = ''.join(squares)"
   ]
  },
  {
   "cell_type": "code",
   "execution_count": 502,
   "metadata": {},
   "outputs": [
    {
     "data": {
      "text/plain": [
       "'BBLBUFLFDFUDFRLBLBURRLFDUURRRDLDFLRDRUFBLBUUFFDUDBRLDB'"
      ]
     },
     "execution_count": 502,
     "metadata": {},
     "output_type": "execute_result"
    }
   ],
   "source": [
    "cube"
   ]
  },
  {
   "cell_type": "markdown",
   "metadata": {},
   "source": [
    "## Solve it!"
   ]
  },
  {
   "cell_type": "code",
   "execution_count": 503,
   "metadata": {},
   "outputs": [],
   "source": [
    "solution = kociemba.solve(cube)"
   ]
  },
  {
   "cell_type": "code",
   "execution_count": 504,
   "metadata": {},
   "outputs": [
    {
     "data": {
      "text/plain": [
       "11"
      ]
     },
     "execution_count": 504,
     "metadata": {},
     "output_type": "execute_result"
    }
   ],
   "source": [
    "len(solution.split(' '))"
   ]
  },
  {
   "cell_type": "code",
   "execution_count": 380,
   "metadata": {},
   "outputs": [
    {
     "data": {
      "text/plain": [
       "u\"L U D' R' L B' U'\""
      ]
     },
     "execution_count": 380,
     "metadata": {},
     "output_type": "execute_result"
    }
   ],
   "source": [
    "solution"
   ]
  },
  {
   "cell_type": "code",
   "execution_count": null,
   "metadata": {},
   "outputs": [],
   "source": []
  },
  {
   "cell_type": "code",
   "execution_count": 184,
   "metadata": {},
   "outputs": [],
   "source": [
    "orientation = np.array(['D', 'F', 'R', 'U', 'B', 'L'],\n",
    "      dtype='|S1')"
   ]
  },
  {
   "cell_type": "code",
   "execution_count": 381,
   "metadata": {
    "collapsed": true
   },
   "outputs": [],
   "source": [
    "def reorient(move_string, orientation):\n",
    "    for move in move_string.split(' '):\n",
    "        if move == 'roll':\n",
    "            orientation = roll_cube(servo_roll, orientation)\n",
    "        if move == 'rotate':\n",
    "            orientation = rotate_cube(servo_side, orientation)\n",
    "        if move == 'unrotate':\n",
    "            orientation = unrotate_cube(servo_side, orientation)\n",
    "    return orientation"
   ]
  },
  {
   "cell_type": "code",
   "execution_count": 382,
   "metadata": {
    "collapsed": true
   },
   "outputs": [],
   "source": [
    "# this dict lists moves to get the desired index into the '3' position (on bottom)\n",
    "reorient_map = {0: \"roll roll\", 1: \"roll\", 2: \"rotate roll unrotate\",\n",
    "                3: \"\", 4: \"roll roll roll\", 5: \"rotate roll roll roll unrotate\"}"
   ]
  },
  {
   "cell_type": "code",
   "execution_count": 383,
   "metadata": {},
   "outputs": [],
   "source": [
    "#orientation = reorient(reorient_map[5], orientation)"
   ]
  },
  {
   "cell_type": "code",
   "execution_count": 505,
   "metadata": {},
   "outputs": [
    {
     "name": "stdout",
     "output_type": "stream",
     "text": [
      "premove orientation = ['D' 'F' 'R' 'U' 'B' 'L']\n",
      "reorient = ['D' 'F' 'R' 'U' 'B' 'L']\n",
      "premove orientation = ['D' 'R' 'B' 'U' 'L' 'F']\n",
      "reorient = ['U' 'L' 'B' 'D' 'R' 'F']\n",
      "premove orientation = ['U' 'B' 'R' 'D' 'F' 'L']\n",
      "reorient = ['R' 'B' 'D' 'L' 'F' 'U']\n",
      "premove orientation = ['R' 'D' 'F' 'L' 'U' 'B']\n",
      "reorient = ['F' 'D' 'L' 'B' 'U' 'R']\n",
      "premove orientation = ['F' 'L' 'U' 'B' 'R' 'D']\n",
      "reorient = ['L' 'B' 'U' 'R' 'F' 'D']\n",
      "premove orientation = ['L' 'U' 'F' 'R' 'D' 'B']\n",
      "reorient = ['R' 'D' 'F' 'L' 'U' 'B']\n",
      "premove orientation = ['R' 'U' 'B' 'L' 'D' 'F']\n",
      "reorient = ['F' 'U' 'R' 'B' 'D' 'L']\n",
      "premove orientation = ['F' 'R' 'D' 'B' 'L' 'U']\n",
      "reorient = ['D' 'R' 'B' 'U' 'L' 'F']\n",
      "premove orientation = ['D' 'F' 'R' 'U' 'B' 'L']\n",
      "reorient = ['U' 'B' 'R' 'D' 'F' 'L']\n",
      "premove orientation = ['U' 'R' 'F' 'D' 'L' 'B']\n",
      "reorient = ['R' 'D' 'F' 'L' 'U' 'B']\n",
      "premove orientation = ['R' 'F' 'U' 'L' 'B' 'D']\n",
      "reorient = ['F' 'L' 'U' 'B' 'R' 'D']\n"
     ]
    }
   ],
   "source": [
    "solution_list = solution.split(' ')\n",
    "for move in solution_list:\n",
    "    print \"premove orientation = %s\" % orientation\n",
    "    if move[0] != orientation[3]:  # not already on bottom\n",
    "        curr_move_side = np.argwhere(orientation==move[0])[0][0]\n",
    "        orientation = reorient(reorient_map[curr_move_side], orientation)\n",
    "    print \"reorient = %s\" % orientation\n",
    "    # rotate the side\n",
    "    if len(move)>1:\n",
    "        if move[1]==\"'\":\n",
    "            orientation = rotate_side(servo_roll, servo_side, orientation)\n",
    "            orientation = rotate_side(servo_roll, servo_side, orientation)\n",
    "            orientation = rotate_side(servo_roll, servo_side, orientation)\n",
    "        elif move[1]==\"2\":\n",
    "            orientation = rotate_side(servo_roll, servo_side, orientation)\n",
    "            orientation = rotate_side(servo_roll, servo_side, orientation)\n",
    "    else:\n",
    "        orientation = rotate_side(servo_roll, servo_side, orientation)"
   ]
  },
  {
   "cell_type": "code",
   "execution_count": null,
   "metadata": {},
   "outputs": [],
   "source": [
    "orientation"
   ]
  },
  {
   "cell_type": "code",
   "execution_count": null,
   "metadata": {
    "collapsed": true
   },
   "outputs": [],
   "source": []
  },
  {
   "cell_type": "code",
   "execution_count": null,
   "metadata": {
    "collapsed": true
   },
   "outputs": [],
   "source": []
  },
  {
   "cell_type": "code",
   "execution_count": null,
   "metadata": {
    "collapsed": true
   },
   "outputs": [],
   "source": []
  },
  {
   "cell_type": "code",
   "execution_count": null,
   "metadata": {
    "collapsed": true
   },
   "outputs": [],
   "source": []
  },
  {
   "cell_type": "code",
   "execution_count": null,
   "metadata": {
    "collapsed": true
   },
   "outputs": [],
   "source": []
  },
  {
   "cell_type": "markdown",
   "metadata": {
    "collapsed": true
   },
   "source": [
    "u\"L' B2 U2 F' L2 F2 U2 D' F2 D' F D2 L2 F2 L2 U' F2 U' B2 L2 U'\""
   ]
  },
  {
   "cell_type": "code",
   "execution_count": null,
   "metadata": {},
   "outputs": [],
   "source": [
    "fig_pal = plt.figure()\n",
    "ax = fig_pal.add_subplot(1,1,1)\n",
    "ax.imshow(palette)\n",
    "plt.axis(\"off\")"
   ]
  },
  {
   "cell_type": "code",
   "execution_count": null,
   "metadata": {
    "collapsed": true
   },
   "outputs": [],
   "source": []
  },
  {
   "cell_type": "code",
   "execution_count": null,
   "metadata": {
    "collapsed": true
   },
   "outputs": [],
   "source": []
  },
  {
   "cell_type": "code",
   "execution_count": null,
   "metadata": {
    "collapsed": true
   },
   "outputs": [],
   "source": []
  },
  {
   "cell_type": "code",
   "execution_count": null,
   "metadata": {
    "collapsed": true
   },
   "outputs": [],
   "source": []
  },
  {
   "cell_type": "code",
   "execution_count": null,
   "metadata": {},
   "outputs": [],
   "source": [
    "print face_images['U'].shape\n",
    "face_images['U']"
   ]
  },
  {
   "cell_type": "code",
   "execution_count": null,
   "metadata": {
    "collapsed": true
   },
   "outputs": [],
   "source": [
    "for img in face_images.itervalues():\n",
    "    image = img_as_float(img)\n",
    "    segments = slic(image, n_segments=2, sigma=5)\n",
    "    face_images_out.append(segments)\n",
    " "
   ]
  },
  {
   "cell_type": "code",
   "execution_count": null,
   "metadata": {},
   "outputs": [],
   "source": [
    "print segments.shape"
   ]
  },
  {
   "cell_type": "code",
   "execution_count": null,
   "metadata": {},
   "outputs": [],
   "source": [
    "fig = plt.figure()\n",
    "ax = fig.add_subplot(1, 1, 1)\n",
    "ax.imshow(face_images_out[2])\n",
    "plt.axis(\"off\")"
   ]
  },
  {
   "cell_type": "code",
   "execution_count": null,
   "metadata": {
    "collapsed": true
   },
   "outputs": [],
   "source": []
  },
  {
   "cell_type": "code",
   "execution_count": null,
   "metadata": {
    "collapsed": true
   },
   "outputs": [],
   "source": [
    "marked_img = mark_boundaries(face_images[2], face_images_out[2])"
   ]
  },
  {
   "cell_type": "code",
   "execution_count": null,
   "metadata": {},
   "outputs": [],
   "source": [
    "fig2 = plt.figure()\n",
    "ax = fig2.add_subplot(1, 1, 1)\n",
    "ax.imshow(marked_img)\n",
    "plt.axis(\"off\")"
   ]
  },
  {
   "cell_type": "code",
   "execution_count": null,
   "metadata": {
    "collapsed": true
   },
   "outputs": [],
   "source": []
  },
  {
   "cell_type": "code",
   "execution_count": null,
   "metadata": {
    "collapsed": true
   },
   "outputs": [],
   "source": []
  },
  {
   "cell_type": "code",
   "execution_count": null,
   "metadata": {
    "collapsed": true
   },
   "outputs": [],
   "source": []
  },
  {
   "cell_type": "code",
   "execution_count": null,
   "metadata": {
    "collapsed": true
   },
   "outputs": [],
   "source": []
  },
  {
   "cell_type": "markdown",
   "metadata": {},
   "source": [
    "How about taking several shots..."
   ]
  },
  {
   "cell_type": "code",
   "execution_count": null,
   "metadata": {
    "collapsed": true
   },
   "outputs": [],
   "source": [
    "camera.start_preview()\n",
    "for i in range(5):\n",
    "    sleep(3)\n",
    "    camera.capture('./img/image%s.jpg' % i)\n",
    "camera.stop_preview()"
   ]
  },
  {
   "cell_type": "markdown",
   "metadata": {},
   "source": [
    "## What about video?"
   ]
  },
  {
   "cell_type": "code",
   "execution_count": null,
   "metadata": {
    "collapsed": true
   },
   "outputs": [],
   "source": [
    "camera.start_preview()\n",
    "camera.start_recording('img/videoday3.h264')\n",
    "sleep(7)\n",
    "camera.stop_recording()\n",
    "camera.stop_preview()"
   ]
  },
  {
   "cell_type": "markdown",
   "metadata": {},
   "source": [
    "This did generate a file, but the default format isn't playable through the browser, so...\n",
    "Note: this did require the installation of gpac with:\n",
    "\n",
    "*sudo apt-get install -y gpac*"
   ]
  },
  {
   "cell_type": "code",
   "execution_count": null,
   "metadata": {
    "collapsed": true
   },
   "outputs": [],
   "source": [
    "# convert the video above to something playable through the browser, then delete the original unplayable version.\n",
    "os.system(\"MP4Box -fps 30 -add img/videoday3.h264 img/videoday3.mp4\")\n",
    "os.remove(\"img/videoday3.h264\")"
   ]
  },
  {
   "cell_type": "markdown",
   "metadata": {},
   "source": [
    "When we're all finished with the camera module, it's a good idea to *close* the object to prevent GPU memory leakage."
   ]
  },
  {
   "cell_type": "code",
   "execution_count": null,
   "metadata": {
    "collapsed": true
   },
   "outputs": [],
   "source": [
    "camera.close()"
   ]
  },
  {
   "cell_type": "code",
   "execution_count": null,
   "metadata": {
    "collapsed": true
   },
   "outputs": [],
   "source": []
  }
 ],
 "metadata": {
  "kernelspec": {
   "display_name": "Python 2",
   "language": "python",
   "name": "python2"
  },
  "language_info": {
   "codemirror_mode": {
    "name": "ipython",
    "version": 2
   },
   "file_extension": ".py",
   "mimetype": "text/x-python",
   "name": "python",
   "nbconvert_exporter": "python",
   "pygments_lexer": "ipython2",
   "version": "2.7.9"
  }
 },
 "nbformat": 4,
 "nbformat_minor": 1
}
