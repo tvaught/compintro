{
 "cells": [
  {
   "cell_type": "markdown",
   "metadata": {},
   "source": [
    "# Introduction to Python"
   ]
  },
  {
   "cell_type": "markdown",
   "metadata": {},
   "source": [
    "## Simple Expressions / Variable Assignment"
   ]
  },
  {
   "cell_type": "markdown",
   "metadata": {},
   "source": [
    "The Python interpreter, which is being used to parse and execute each of these lines, can do math like a calculator:"
   ]
  },
  {
   "cell_type": "code",
   "execution_count": null,
   "metadata": {},
   "outputs": [],
   "source": [
    "2+2"
   ]
  },
  {
   "cell_type": "markdown",
   "metadata": {},
   "source": [
    "Another several examples: I'll use the \"print\" statement to print out the result for each calculation (if I didn't do this, it would just *output* the result of the last expression):"
   ]
  },
  {
   "cell_type": "code",
   "execution_count": null,
   "metadata": {},
   "outputs": [],
   "source": [
    "print 2*3\n",
    "print (4+6)*(2+9)  # should calculate to 110\n",
    "print 12.0/11.0"
   ]
  },
  {
   "cell_type": "markdown",
   "metadata": {},
   "source": [
    "One major difference between using a calculator and doing calculations on the computer is that there are a couple of *types* of numbers -- *integers* and *floating point* values.  You can think of *integers* as whole numbers and *floats* (as floating point values are called) as supporting a decimal or fractional part of the value.  This shows up sometimes is odd behavior with division."
   ]
  },
  {
   "cell_type": "code",
   "execution_count": null,
   "metadata": {},
   "outputs": [],
   "source": [
    "print(5/3)     # Integer division gives a 'floor' value (rounding down, basically).\n",
    "print(5.0/3.0) # Dividing floats (usually) gives the expected answer.\n",
    "print(5.0/3)   # The interpreter uses the more complex type to infer the type for the result.\n",
    "print(5/3.0)   # The order for type \"upcasting\" doesn't matter"
   ]
  },
  {
   "cell_type": "markdown",
   "metadata": {},
   "source": [
    "Let's look at another example of *float* math:"
   ]
  },
  {
   "cell_type": "code",
   "execution_count": null,
   "metadata": {},
   "outputs": [],
   "source": [
    "0.1 + 0.2"
   ]
  },
  {
   "cell_type": "markdown",
   "metadata": {},
   "source": [
    "**Wat ?!?!** There are occasionally precision issues because of the way floating point values work.  It's actually an interesting abstraction (feel free to study a more detailed explanation of how [IEEE Floats](http://steve.hollasch.net/cgindex/coding/ieeefloat.html) work). This is a good example of how abstractions can 'leak' (more on this later).  A good explanation of how this affects Python is [here](https://docs.python.org/2/tutorial/floatingpoint.html).  For our purposes, this really doesn't matter.  Just a curiosity, so, moving right along..."
   ]
  },
  {
   "cell_type": "code",
   "execution_count": null,
   "metadata": {
    "collapsed": true
   },
   "outputs": [],
   "source": [
    "a = 5"
   ]
  },
  {
   "cell_type": "code",
   "execution_count": null,
   "metadata": {},
   "outputs": [],
   "source": [
    "print a"
   ]
  },
  {
   "cell_type": "markdown",
   "metadata": {},
   "source": [
    "This may not seem very exciting at first, but variables are an important part of programming.  It's good to know that you can use them in Python."
   ]
  },
  {
   "cell_type": "code",
   "execution_count": null,
   "metadata": {},
   "outputs": [],
   "source": [
    "y = x**2 - 3*x + 12  # just like in algebra, right?"
   ]
  },
  {
   "cell_type": "markdown",
   "metadata": {},
   "source": [
    "*I know `x` isn't defined.  Isn't that what a variable is?*  Not exactly...  More on this error stuff later.  Try this:"
   ]
  },
  {
   "cell_type": "code",
   "execution_count": null,
   "metadata": {},
   "outputs": [],
   "source": [
    "x = 10\n",
    "y = x**2 - 3*x + 12\n",
    "print y"
   ]
  },
  {
   "cell_type": "code",
   "execution_count": null,
   "metadata": {
    "collapsed": true
   },
   "outputs": [],
   "source": []
  },
  {
   "cell_type": "markdown",
   "metadata": {},
   "source": [
    "So, the variables on the right side of the *equals* sign have to already be assigned a value.  Otherwise, the interpreter tries to evaluate the right side and assign it to the left side.\n",
    "\n",
    "This might not seem particularly useful until you see how to use looping.  Also, math on arrays of values really shows how cool this is.  Check this out..."
   ]
  },
  {
   "cell_type": "code",
   "execution_count": null,
   "metadata": {
    "collapsed": true
   },
   "outputs": [],
   "source": [
    "import numpy as np   # the python array-math library\n",
    "x = np.arange(0.0, 2*np.pi, 0.01) # make an array of numbers from 0 to 2π with a number every 0.01.\n",
    "y = np.sin(x)"
   ]
  },
  {
   "cell_type": "code",
   "execution_count": null,
   "metadata": {},
   "outputs": [],
   "source": [
    "print \"The length of x is: %s\" % (len(x))\n",
    "print \"The length of y is: %s\" % (len(y))\n",
    "print \"The first 5 values in the x array are:\\n%s\" % x[0:5]\n",
    "print \"The first 5 values in the y array are:\\n%s\" % y[0:5]"
   ]
  },
  {
   "cell_type": "code",
   "execution_count": null,
   "metadata": {},
   "outputs": [],
   "source": [
    "# this imports some plotting stuff we'll use\n",
    "from bokeh.plotting import output_notebook\n",
    "output_notebook()\n",
    "from bokeh.plotting import figure, show"
   ]
  },
  {
   "cell_type": "code",
   "execution_count": null,
   "metadata": {},
   "outputs": [],
   "source": [
    "p = figure(title=\"Sine Example\")\n",
    "p.line(x, y)\n",
    "show(p)"
   ]
  },
  {
   "cell_type": "markdown",
   "metadata": {
    "collapsed": true
   },
   "source": [
    "That's cool.  Now let's get back to something we tried earlier.  Remember that expression `y = x**2 - 3*x + 12` ?  In algebra, that's actually a function.  In Python (and just about every other language) we have the concept of functions as well.  The keyword `def` is used the *def*ine a function in Python:"
   ]
  },
  {
   "cell_type": "code",
   "execution_count": null,
   "metadata": {
    "collapsed": true
   },
   "outputs": [],
   "source": [
    "def f(x):\n",
    "    return x**2 - 3*x + 12"
   ]
  },
  {
   "cell_type": "markdown",
   "metadata": {},
   "source": [
    "So, now you can evaluate the function by handing it a value, or *parameter* (in this case, we've called it `x`)."
   ]
  },
  {
   "cell_type": "code",
   "execution_count": null,
   "metadata": {},
   "outputs": [],
   "source": [
    "f(3)"
   ]
  },
  {
   "cell_type": "markdown",
   "metadata": {},
   "source": [
    "So earlier, we assigned the value [0.0, 0.01, 0.02 ...] to the symbol `x`.  (I'm starting to use the more official names for things here.)  What happens if we pass that symbol into the function `f`?"
   ]
  },
  {
   "cell_type": "code",
   "execution_count": null,
   "metadata": {},
   "outputs": [],
   "source": [
    "print x[:5]  # just to be clear that in the scope of this notebook, the symbol x is defined"
   ]
  },
  {
   "cell_type": "code",
   "execution_count": null,
   "metadata": {},
   "outputs": [],
   "source": [
    "print f(x)[:5]  # only show the first 5 entries"
   ]
  },
  {
   "cell_type": "markdown",
   "metadata": {},
   "source": [
    " %% **boom** %%   Mind.  Blown.\n",
    " \n",
    " So, I'm dying to see what this looks like:"
   ]
  },
  {
   "cell_type": "code",
   "execution_count": null,
   "metadata": {},
   "outputs": [],
   "source": [
    "p2 = figure()\n",
    "p2.line(x, f(x))\n",
    "p2_nbh = show(p2)"
   ]
  },
  {
   "cell_type": "markdown",
   "metadata": {},
   "source": [
    "This is pretty math-y, what else can functions do?\n",
    "\n",
    "Well, they can do anything you tell them..."
   ]
  },
  {
   "cell_type": "code",
   "execution_count": null,
   "metadata": {},
   "outputs": [],
   "source": [
    "import random\n",
    "def headache(name, number_of_repeats=5):\n",
    "    \"\"\" a pretty useless function \"\"\"\n",
    "    namelist = list(name)\n",
    "    for i in range(0, number_of_repeats):\n",
    "        random.shuffle(namelist)\n",
    "        for letter in namelist:\n",
    "            print letter, "
   ]
  },
  {
   "cell_type": "code",
   "execution_count": null,
   "metadata": {},
   "outputs": [],
   "source": [
    "headache(\"travis\", 40)"
   ]
  },
  {
   "cell_type": "markdown",
   "metadata": {},
   "source": [
    "Dance Card Example\n",
    "==================\n",
    "Given a list of gentlemen and ladies, produce a list of partners for 8 dances for each of the dancers.\n"
   ]
  },
  {
   "cell_type": "markdown",
   "metadata": {
    "collapsed": true
   },
   "source": [
    "<img src=\"img/cotillion2014.jpg\">"
   ]
  },
  {
   "cell_type": "markdown",
   "metadata": {},
   "source": [
    "Approach\n",
    "--------\n",
    "Use a simple random assortment, and rotate the list for each of the 8 dances."
   ]
  },
  {
   "cell_type": "code",
   "execution_count": null,
   "metadata": {
    "collapsed": true
   },
   "outputs": [],
   "source": [
    "# comments are preceeded by a pound sign (this line is a comment)\n",
    "# a python list is surrounded by backets, [ ], and is separated by commas\n",
    "# manually assign the gentlemen's names:\n",
    "gentlemen = [\n",
    "    \"Marshall Ruddock\",\n",
    "    \"Emile Malsam\",\n",
    "    \"Lloyd Summerlin\",\n",
    "    \"Vern Pagaduan\",\n",
    "    \"Chuck Maddux\",\n",
    "    \"Edmundo Oleary\",\n",
    "    \"Miquel Till\",\n",
    "    \"Oswaldo Tidwell\",\n",
    "    \"Elwood Yokoyama\",\n",
    "    \"Leonardo Mcswain\",\n",
    "    \"Roberto Averill\",\n",
    "    \"Pierre Foose\",\n",
    "    \"Saul Vannatta\",\n",
    "    \"Woodrow Dunn\",\n",
    "    \"Rene Mcelfresh\",\n",
    "    \"Brett Ausmus\",\n",
    "    \"Markus John\",\n",
    "    \"Walker Kirk\",\n",
    "    \"Warner Trunnell\",\n",
    "    \"Keenan Tope\"]"
   ]
  },
  {
   "cell_type": "code",
   "execution_count": null,
   "metadata": {
    "collapsed": true
   },
   "outputs": [],
   "source": [
    "# a list of ladies:\n",
    "ladies = [\n",
    "    \"Grayce Schwandt\",\n",
    "    \"Demetria Shiflet\",\n",
    "    \"Leda Leavitt\",\n",
    "    \"Julianne Tinnin\",\n",
    "    \"Angela Turco\",\n",
    "    \"Lu Rolfe\",\n",
    "    \"Audry Hardnett\",\n",
    "    \"Miranda Drapeau\",\n",
    "    \"Ferne Vanscyoc\",\n",
    "    \"Marceline Rochford\",\n",
    "    \"Han Myer\",\n",
    "    \"Karlene Emmer\",\n",
    "    \"Agatha Cheever\",\n",
    "    \"Shenna Riffle\",\n",
    "    \"Vella Albanese\",\n",
    "    \"Apryl Zieman\",\n",
    "    \"Jacklyn Coronado\",\n",
    "    \"Azzie Degreenia\",\n",
    "    \"Sebrina Weddle\",\n",
    "    \"Valda Pietila\"]"
   ]
  },
  {
   "cell_type": "code",
   "execution_count": null,
   "metadata": {},
   "outputs": [],
   "source": [
    "len(ladies), len(gentlemen) # let's see if they are the same length..."
   ]
  },
  {
   "cell_type": "raw",
   "metadata": {},
   "source": [
    "So, now that we have our lists, let's reverse the last and first names for better alphabetizing ..."
   ]
  },
  {
   "cell_type": "code",
   "execution_count": null,
   "metadata": {
    "collapsed": true
   },
   "outputs": [],
   "source": [
    "# Python provides an intuitive way to loop over a list...\n",
    "gentlemen_last_first = [] # create an empty list\n",
    "for man in gentlemen:  # A loop ... this is actually an extremely powerful concept\n",
    "    first, last = man.split(\" \") # indentation indicates a 'code block.' Whitespace is important in Python\n",
    "    gentlemen_last_first.append(\"{0}, {1}\".format(last, first)) # wait, what's going on here? ... string formatting"
   ]
  },
  {
   "cell_type": "markdown",
   "metadata": {},
   "source": [
    "**NB:** There is a thourough introduction to string formatting at the excellent [dive into python] page.  Among other things, it explains that in the above string \"{0}, {1}\", the curly brackets and numbers (0 and 1) are just placeholders whose values are replaced by the arguments of the format method that is called on the string.\n",
    "\n",
    "[dive into python]: http://www.diveintopython3.net/strings.html"
   ]
  },
  {
   "cell_type": "code",
   "execution_count": null,
   "metadata": {},
   "outputs": [],
   "source": [
    "gentlemen_last_first"
   ]
  },
  {
   "cell_type": "code",
   "execution_count": null,
   "metadata": {
    "collapsed": true
   },
   "outputs": [],
   "source": [
    "# Python provides an intuitive way to loop over a list...\n",
    "ladies_last_first = [] # create an empty list\n",
    "for lady in ladies:  # A loop ... this is actually an extremely powerful concept\n",
    "    first, last = lady.split(\" \") # indentation indicates a 'code block.' Whitespace is important in Python\n",
    "    ladies_last_first.append(\"{0}, {1}\".format(last, first))"
   ]
  },
  {
   "cell_type": "code",
   "execution_count": null,
   "metadata": {},
   "outputs": [],
   "source": [
    "ladies_last_first"
   ]
  },
  {
   "cell_type": "code",
   "execution_count": null,
   "metadata": {
    "collapsed": true
   },
   "outputs": [],
   "source": [
    "gentlemen_last_first.sort()\n",
    "ladies_last_first.sort()"
   ]
  },
  {
   "cell_type": "code",
   "execution_count": null,
   "metadata": {},
   "outputs": [],
   "source": [
    "ladies_last_first"
   ]
  },
  {
   "cell_type": "code",
   "execution_count": null,
   "metadata": {
    "collapsed": true
   },
   "outputs": [],
   "source": [
    "import random # let's bring in some code from the random built-in library of python"
   ]
  },
  {
   "cell_type": "code",
   "execution_count": null,
   "metadata": {
    "collapsed": true
   },
   "outputs": [],
   "source": [
    "random.shuffle(ladies_last_first)"
   ]
  },
  {
   "cell_type": "code",
   "execution_count": null,
   "metadata": {},
   "outputs": [],
   "source": [
    "ladies_last_first"
   ]
  },
  {
   "cell_type": "code",
   "execution_count": null,
   "metadata": {},
   "outputs": [],
   "source": [
    "dances = [\"mix\", \"mix\", \"mix\", \"mix\", \"mix\", \"mix\", \"Shoe Dance\"] # the list of dances\n",
    "\n",
    "# initialize data structures\n",
    "gentlemen_dances = {}\n",
    "ladies_dances = {}\n",
    "\n",
    "for man in gentlemen_last_first:\n",
    "    gentlemen_dances[man] = []\n",
    "for lady in ladies_last_first:\n",
    "    ladies_dances[lady] = []\n",
    "\n",
    "for dance in dances:\n",
    "    #print \"#####\", dance, \"########\"\n",
    "    count = 0\n",
    "    for man in gentlemen_last_first:\n",
    "        if dance == \"mix\":\n",
    "            gentlemen_dances[man].append(ladies_last_first[count])\n",
    "            ladies_dances[ladies_last_first[count]].append(man)\n",
    "            \n",
    "        else:\n",
    "            gentlemen_dances[man].append(dance)\n",
    "            ladies_dances[ladies_last_first[count]].append(dance)\n",
    "        count += 1\n",
    "    if dance == \"mix\":\n",
    "        gentlemen_last_first.insert(0, gentlemen_last_first.pop(-1))\n",
    "        "
   ]
  },
  {
   "cell_type": "code",
   "execution_count": null,
   "metadata": {},
   "outputs": [],
   "source": [
    "gentlemen_dances"
   ]
  },
  {
   "cell_type": "code",
   "execution_count": null,
   "metadata": {
    "collapsed": true
   },
   "outputs": [],
   "source": [
    "#print result for dudes\n",
    "fh = open(\"./dancecards-gentlemen.txt\", 'wa')\n",
    "for man in gentlemen_last_first:\n",
    "    fh.write(\"\".join([\"\\n~\", man, \"~\\n\"]))\n",
    "    d_cnt = 1\n",
    "    for partner in gentlemen_dances[man]:\n",
    "        fh.write(str(d_cnt) + \". \" + partner + \"\\n\")\n",
    "        d_cnt += 1\n",
    "fh.close()"
   ]
  },
  {
   "cell_type": "code",
   "execution_count": null,
   "metadata": {},
   "outputs": [],
   "source": [
    "#print result for ladies\n",
    "fh = open(\"./dancecards-ladies.txt\", 'wa')\n",
    "for lady in ladies_last_first:\n",
    "    fh.write(\"\".join([\"\\n~\", lady, \"~\\n\"]))\n",
    "    d_cnt = 1\n",
    "    for partner in ladies_dances[lady]:\n",
    "        fh.write(str(d_cnt) + \". \" + partner + \"\\n\")\n",
    "        d_cnt += 1\n",
    "fh.close()"
   ]
  },
  {
   "cell_type": "markdown",
   "metadata": {},
   "source": [
    "A Scientific Example\n",
    "=============\n",
    "The following code visualized typical data used in \"data analytics.\""
   ]
  },
  {
   "cell_type": "code",
   "execution_count": null,
   "metadata": {
    "collapsed": true
   },
   "outputs": [],
   "source": [
    "import numpy as np\n",
    "from scipy.spatial import ConvexHull\n",
    "points = np.random.rand(30, 2)   # 30 random points in 2-D\n",
    "hull = ConvexHull(points)"
   ]
  },
  {
   "cell_type": "code",
   "execution_count": null,
   "metadata": {
    "collapsed": true
   },
   "outputs": [],
   "source": [
    "from bokeh.io import output_notebook\n",
    "from bokeh.plotting import figure, show  # this _may_ have already been imported above"
   ]
  },
  {
   "cell_type": "code",
   "execution_count": null,
   "metadata": {},
   "outputs": [],
   "source": [
    "output_notebook() # again, this may have been called already"
   ]
  },
  {
   "cell_type": "code",
   "execution_count": null,
   "metadata": {
    "collapsed": true
   },
   "outputs": [],
   "source": [
    "f = figure()"
   ]
  },
  {
   "cell_type": "code",
   "execution_count": null,
   "metadata": {},
   "outputs": [],
   "source": [
    "f.circle(points[:,0],points[:,1])"
   ]
  },
  {
   "cell_type": "code",
   "execution_count": null,
   "metadata": {
    "collapsed": true
   },
   "outputs": [],
   "source": [
    "for simplex in hull.simplices:\n",
    "    f.line(points[simplex, 0], points[simplex, 1])"
   ]
  },
  {
   "cell_type": "code",
   "execution_count": null,
   "metadata": {},
   "outputs": [],
   "source": [
    "show(f)"
   ]
  },
  {
   "cell_type": "code",
   "execution_count": null,
   "metadata": {
    "collapsed": true
   },
   "outputs": [],
   "source": []
  }
 ],
 "metadata": {
  "kernelspec": {
   "display_name": "Python 2",
   "language": "python",
   "name": "python2"
  },
  "language_info": {
   "codemirror_mode": {
    "name": "ipython",
    "version": 2
   },
   "file_extension": ".py",
   "mimetype": "text/x-python",
   "name": "python",
   "nbconvert_exporter": "python",
   "pygments_lexer": "ipython2",
   "version": "2.7.9"
  }
 },
 "nbformat": 4,
 "nbformat_minor": 1
}
