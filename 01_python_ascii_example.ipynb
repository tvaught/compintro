{
 "cells": [
  {
   "cell_type": "markdown",
   "metadata": {},
   "source": [
    "# ASCII Art Example Using a Jupyter Notebook"
   ]
  },
  {
   "cell_type": "code",
   "execution_count": null,
   "metadata": {},
   "outputs": [],
   "source": [
    "from PIL import Image\n",
    "\n",
    "ASCII_CHARS_RAW = \"#@%x*=+;:. \" \n",
    "ASCII_CHARS = list(ASCII_CHARS_RAW)\n",
    "\n",
    "def scale_image(image, new_width=100):\n",
    "    \"\"\"Resizes an image preserving the aspect ratio.\n",
    "    \"\"\"\n",
    "    (original_width, original_height) = image.size\n",
    "    aspect_ratio = (original_height/float(original_width))*0.5\n",
    "    new_height = int(aspect_ratio * new_width)\n",
    "\n",
    "    new_image = image.resize((new_width, new_height))\n",
    "    return new_image\n",
    "\n",
    "def convert_to_grayscale(image):\n",
    "    return image.convert('L')\n",
    "\n",
    "def map_pixels_to_ascii_chars(image, range_width=25):\n",
    "    \"\"\"Maps each pixel to an ascii char based on the range\n",
    "    in which it lies.\n",
    "\n",
    "    0-255 is divided into 11 ranges of 25 pixels each.\n",
    "    \"\"\"\n",
    "\n",
    "    pixels_in_image = list(image.getdata())\n",
    "\n",
    "    pixels_to_chars = [ASCII_CHARS[pixel_value/range_width] for pixel_value in\n",
    "            pixels_in_image]\n",
    "\n",
    "    return \"\".join(pixels_to_chars)\n",
    "\n",
    "def convert_image_to_ascii(image, new_width=100):\n",
    "    image = scale_image(image)\n",
    "    image = convert_to_grayscale(image)\n",
    "\n",
    "    pixels_to_chars = map_pixels_to_ascii_chars(image)\n",
    "    len_pixels_to_chars = len(pixels_to_chars)\n",
    "\n",
    "    image_ascii = [pixels_to_chars[index: index + new_width] for index in\n",
    "            xrange(0, len_pixels_to_chars, new_width)]\n",
    "\n",
    "    return \"\\n\".join(image_ascii)\n",
    "\n",
    "def handle_image_conversion(image_filepath):\n",
    "    image = None\n",
    "    try:\n",
    "        image = Image.open(image_filepath)\n",
    "    except Exception, e:\n",
    "        print \"Unable to open image file {image_filepath}.\".format(image_filepath=image_filepath)\n",
    "        print e\n",
    "        return\n",
    "\n",
    "    image_ascii = convert_image_to_ascii(image)\n",
    "    return image_ascii\n",
    "\n",
    "image_file_path = \"img/test_portrait1.jpg\"\n",
    "ascii_img = handle_image_conversion(image_file_path)\n",
    "\n",
    "# Write it out to a text file\n",
    "fh = open(\"img/test.txt\", 'w')\n",
    "fh.write(ascii_img)\n",
    "fh.close()\n",
    "\n",
    "# Print the result below\n",
    "print(ascii_img)"
   ]
  },
  {
   "cell_type": "code",
   "execution_count": null,
   "metadata": {
    "collapsed": true
   },
   "outputs": [],
   "source": []
  }
 ],
 "metadata": {
  "kernelspec": {
   "display_name": "Python 2",
   "language": "python",
   "name": "python2"
  },
  "language_info": {
   "codemirror_mode": {
    "name": "ipython",
    "version": 2
   },
   "file_extension": ".py",
   "mimetype": "text/x-python",
   "name": "python",
   "nbconvert_exporter": "python",
   "pygments_lexer": "ipython2",
   "version": "2.7.9"
  }
 },
 "nbformat": 4,
 "nbformat_minor": 2
}
