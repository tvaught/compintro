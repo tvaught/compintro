{
 "cells": [
  {
   "cell_type": "code",
   "execution_count": 1,
   "metadata": {},
   "outputs": [],
   "source": [
    "# Import GPIO Libraries\n",
    "import RPi.GPIO as GPIO\n",
    "import time\n",
    "\n",
    "#GPIO.cleanup()"
   ]
  },
  {
   "cell_type": "code",
   "execution_count": 2,
   "metadata": {
    "collapsed": true
   },
   "outputs": [],
   "source": [
    "import numpy as np"
   ]
  },
  {
   "cell_type": "code",
   "execution_count": 3,
   "metadata": {},
   "outputs": [
    {
     "name": "stderr",
     "output_type": "stream",
     "text": [
      "/usr/local/lib/python2.7/dist-packages/ipykernel_launcher.py:2: RuntimeWarning: This channel is already in use, continuing anyway.  Use GPIO.setwarnings(False) to disable warnings.\n",
      "  \n"
     ]
    }
   ],
   "source": [
    "GPIO.setmode(GPIO.BCM)\n",
    "GPIO.setup(18, GPIO.OUT)"
   ]
  },
  {
   "cell_type": "code",
   "execution_count": 5,
   "metadata": {},
   "outputs": [
    {
     "name": "stderr",
     "output_type": "stream",
     "text": [
      "/usr/local/lib/python2.7/dist-packages/ipykernel_launcher.py:6: RuntimeWarning: This channel is already in use, continuing anyway.  Use GPIO.setwarnings(False) to disable warnings.\n",
      "  \n",
      "/usr/local/lib/python2.7/dist-packages/ipykernel_launcher.py:7: RuntimeWarning: This channel is already in use, continuing anyway.  Use GPIO.setwarnings(False) to disable warnings.\n",
      "  import sys\n",
      "/usr/local/lib/python2.7/dist-packages/ipykernel_launcher.py:8: RuntimeWarning: This channel is already in use, continuing anyway.  Use GPIO.setwarnings(False) to disable warnings.\n",
      "  \n",
      "/usr/local/lib/python2.7/dist-packages/ipykernel_launcher.py:9: RuntimeWarning: This channel is already in use, continuing anyway.  Use GPIO.setwarnings(False) to disable warnings.\n",
      "  if __name__ == '__main__':\n"
     ]
    }
   ],
   "source": [
    "coil_A_1_pin = 12\n",
    "coil_A_2_pin = 16\n",
    "coil_B_1_pin = 20\n",
    "coil_B_2_pin = 21\n",
    "\n",
    "GPIO.setup(coil_A_1_pin, GPIO.OUT)\n",
    "GPIO.setup(coil_A_2_pin, GPIO.OUT)\n",
    "GPIO.setup(coil_B_1_pin, GPIO.OUT)\n",
    "GPIO.setup(coil_B_2_pin, GPIO.OUT)\n",
    "\n",
    "#forward_seq = ['1001', '1100', '0110', '0011']\n",
    "#forward_seq = ['1000', '0100', '0010', '0001']\n",
    "#forward_seq = ['1001', '1100', '1010', '0110', '0101', '0011']\n",
    "#forward_seq = ['1001', '1100','0110','0011']\n",
    "forward_seq = ['1100', '0100', '0110', '0010', '0011', '0001', '1001', '1000']\n",
    "reverse_seq = list(forward_seq) # to copy the list\n",
    "reverse_seq.reverse()"
   ]
  },
  {
   "cell_type": "code",
   "execution_count": 6,
   "metadata": {},
   "outputs": [
    {
     "ename": "NameError",
     "evalue": "name 'servo' is not defined",
     "output_type": "error",
     "traceback": [
      "\u001b[0;31m---------------------------------------------------------------------------\u001b[0m",
      "\u001b[0;31mNameError\u001b[0m                                 Traceback (most recent call last)",
      "\u001b[0;32m<ipython-input-6-6c71c7a0830c>\u001b[0m in \u001b[0;36m<module>\u001b[0;34m()\u001b[0m\n\u001b[0;32m----> 1\u001b[0;31m \u001b[0;32mdel\u001b[0m \u001b[0mservo\u001b[0m\u001b[0;34m\u001b[0m\u001b[0m\n\u001b[0m",
      "\u001b[0;31mNameError\u001b[0m: name 'servo' is not defined"
     ]
    }
   ],
   "source": [
    "del servo"
   ]
  },
  {
   "cell_type": "code",
   "execution_count": 7,
   "metadata": {
    "collapsed": true
   },
   "outputs": [],
   "source": [
    "class Servo(GPIO.PWM):\n",
    "    \n",
    "    def __init__(self, pin_number, freq, start_angle, begin_duty_cycle=2.5, \n",
    "                 end_duty_cycle=12.5, sweep_angle=120.0):\n",
    "        super(Servo, self).__init__(pin_number, freq)\n",
    "        \n",
    "        self.angle = start_angle\n",
    "        self.servo_slope = (sweep_angle)/(end_duty_cycle-begin_duty_cycle)\n",
    "        self.servo_intercept = -(self.servo_slope)*begin_duty_cycle\n",
    "        duty_cycle = self._map_angle_to_duty_cycle(start_angle)\n",
    "        self.start(duty_cycle)\n",
    "        \n",
    "    def set_position(self, angle, steps=10, delay=0.1):\n",
    "        \n",
    "        for step in np.linspace(self.angle, angle, steps):\n",
    "            duty_cycle = self._map_angle_to_duty_cycle(step)\n",
    "            self.ChangeDutyCycle(duty_cycle)\n",
    "            #print \"setting motor to duty cycle: %s\" % duty_cycle\n",
    "            time.sleep(delay)\n",
    "        self.angle = angle\n",
    "        \n",
    "    def _map_angle_to_duty_cycle(self, angle):\n",
    "        return (angle-self.servo_intercept)/self.servo_slope\n",
    "    \n",
    "    \n",
    "        "
   ]
  },
  {
   "cell_type": "code",
   "execution_count": 8,
   "metadata": {
    "collapsed": true
   },
   "outputs": [],
   "source": [
    "def forward(delay, steps):\n",
    "  for i in range(steps):\n",
    "    for s in forward_seq:\n",
    "      set_step(s)\n",
    "      time.sleep(delay)\n",
    "\n",
    "def backwards(delay, steps):\n",
    "  for i in range(steps):\n",
    "    for s in reverse_seq:\n",
    "      set_step(s)\n",
    "      time.sleep(delay)\n",
    "\n",
    "\n",
    "def set_step(step):\n",
    "  GPIO.output(coil_A_1_pin, step[0] == '1')\n",
    "  GPIO.output(coil_A_2_pin, step[1] == '1')\n",
    "  GPIO.output(coil_B_1_pin, step[2] == '1')\n",
    "  GPIO.output(coil_B_2_pin, step[3] == '1')"
   ]
  },
  {
   "cell_type": "code",
   "execution_count": 9,
   "metadata": {
    "collapsed": true
   },
   "outputs": [],
   "source": [
    "start_angle = 30\n",
    "hold_angle = 50\n",
    "push_angle = 74"
   ]
  },
  {
   "cell_type": "code",
   "execution_count": 10,
   "metadata": {
    "collapsed": true
   },
   "outputs": [],
   "source": [
    "servo = Servo(18, 50, start_angle)"
   ]
  },
  {
   "cell_type": "code",
   "execution_count": 11,
   "metadata": {
    "collapsed": true
   },
   "outputs": [],
   "source": [
    "servo.set_position(start_angle)"
   ]
  },
  {
   "cell_type": "code",
   "execution_count": 12,
   "metadata": {
    "collapsed": true
   },
   "outputs": [],
   "source": [
    "def roll_cube(servo_obj):\n",
    "    servo_obj.set_position(push_angle, delay=0.05)\n",
    "    servo_obj.set_position(start_angle)\n",
    "    \n",
    "def hold_cube(servo_obj):\n",
    "    servo_obj.set_position(hold_angle)\n",
    "    \n",
    "def return_cube(servo_obj):\n",
    "    servo_obj.set_position(start_angle)"
   ]
  },
  {
   "cell_type": "code",
   "execution_count": 13,
   "metadata": {
    "collapsed": true
   },
   "outputs": [],
   "source": [
    "def rotate_side(num_turns):\n",
    "    \"\"\" rotates the bottom face a quarter turn for each num_turns\n",
    "    \"\"\"\n",
    "    \n",
    "    time.sleep(0.25)\n",
    "    delay = 3\n",
    "    steps = 13\n",
    "    hold_cube(servo)\n",
    "    \n",
    "    forward(int(delay) / 1000.0, int(steps))\n",
    "    #print \"rotate steps: %s, adj: %s\" % (steps, adj)\n",
    "    time.sleep(.25)\n",
    "    backwards(delay/1000.0, 1)\n",
    "    #set_step('1001')\n",
    "    \n",
    "    return_cube(servo)\n",
    "    "
   ]
  },
  {
   "cell_type": "code",
   "execution_count": 14,
   "metadata": {
    "collapsed": true
   },
   "outputs": [],
   "source": [
    "roll_cube(servo)\n",
    "#hold_cube(servo)"
   ]
  },
  {
   "cell_type": "code",
   "execution_count": 15,
   "metadata": {
    "collapsed": true
   },
   "outputs": [],
   "source": [
    "rotate_side(1)"
   ]
  },
  {
   "cell_type": "code",
   "execution_count": null,
   "metadata": {
    "collapsed": true
   },
   "outputs": [],
   "source": []
  },
  {
   "cell_type": "code",
   "execution_count": null,
   "metadata": {
    "collapsed": true
   },
   "outputs": [],
   "source": []
  },
  {
   "cell_type": "code",
   "execution_count": null,
   "metadata": {
    "collapsed": true
   },
   "outputs": [],
   "source": []
  },
  {
   "cell_type": "code",
   "execution_count": null,
   "metadata": {
    "collapsed": true
   },
   "outputs": [],
   "source": [
    "#servo.set_position(30, delay=0.1)\n",
    "servo.set_position(70, delay=0.05)\n",
    "servo.set_position(30, delay=0.1)"
   ]
  },
  {
   "cell_type": "code",
   "execution_count": null,
   "metadata": {
    "collapsed": true
   },
   "outputs": [],
   "source": [
    "servo.angle"
   ]
  },
  {
   "cell_type": "code",
   "execution_count": null,
   "metadata": {
    "collapsed": true
   },
   "outputs": [],
   "source": [
    "servo._map_angle_to_duty_cycle(90)"
   ]
  },
  {
   "cell_type": "code",
   "execution_count": null,
   "metadata": {
    "collapsed": true
   },
   "outputs": [],
   "source": [
    "18.*7.5 - 45"
   ]
  },
  {
   "cell_type": "code",
   "execution_count": null,
   "metadata": {
    "collapsed": true
   },
   "outputs": [],
   "source": [
    "np.linspace(90, 135, 10)"
   ]
  },
  {
   "cell_type": "code",
   "execution_count": null,
   "metadata": {
    "collapsed": true
   },
   "outputs": [],
   "source": [
    "np.arange(4).__iter__"
   ]
  },
  {
   "cell_type": "code",
   "execution_count": null,
   "metadata": {
    "collapsed": true
   },
   "outputs": [],
   "source": []
  }
 ],
 "metadata": {
  "kernelspec": {
   "display_name": "Python 2",
   "language": "python",
   "name": "python2"
  },
  "language_info": {
   "codemirror_mode": {
    "name": "ipython",
    "version": 2
   },
   "file_extension": ".py",
   "mimetype": "text/x-python",
   "name": "python",
   "nbconvert_exporter": "python",
   "pygments_lexer": "ipython2",
   "version": "2.7.9"
  }
 },
 "nbformat": 4,
 "nbformat_minor": 2
}
