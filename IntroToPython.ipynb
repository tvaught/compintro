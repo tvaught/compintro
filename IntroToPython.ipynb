{
 "cells": [
  {
   "cell_type": "markdown",
   "metadata": {},
   "source": [
    "# Introduction to Python"
   ]
  },
  {
   "cell_type": "markdown",
   "metadata": {},
   "source": [
    "## Simple Expressions / Variable Assignment"
   ]
  },
  {
   "cell_type": "markdown",
   "metadata": {},
   "source": [
    "The Python interpreter, which is being used to parse and execute each of these lines, can do math like a calculator:"
   ]
  },
  {
   "cell_type": "code",
   "execution_count": null,
   "metadata": {
    "collapsed": false
   },
   "outputs": [],
   "source": [
    "2+2"
   ]
  },
  {
   "cell_type": "markdown",
   "metadata": {},
   "source": [
    "Another several examples: I'll use the \"print\" statement to print out the result for each calculation (if I didn't do this, it would just *output* the result of the last expression):"
   ]
  },
  {
   "cell_type": "code",
   "execution_count": null,
   "metadata": {
    "collapsed": false
   },
   "outputs": [],
   "source": [
    "print 2*3\n",
    "print (4+6)*(2+9)  # should calculate to 110\n",
    "print 12.0/11.0"
   ]
  },
  {
   "cell_type": "markdown",
   "metadata": {},
   "source": [
    "One major difference between using a calculator and doing calculations on the computer is that there are a couple of *types* of numbers -- *integers* and *floating point* values.  You can think of *integers* as whole numbers and *floats* (as floating point values are called) as supporting a decimal or fractional part of the value.  This shows up sometimes is odd behavior with division."
   ]
  },
  {
   "cell_type": "code",
   "execution_count": null,
   "metadata": {
    "collapsed": false
   },
   "outputs": [],
   "source": [
    "print(5/3)     # Integer division gives a 'floor' value (rounding down, basically).\n",
    "print(5.0/3.0) # Dividing floats (usually) gives the expected answer.\n",
    "print(5.0/3)   # The interpreter uses the more complex type to infer the type for the result.\n",
    "print(5/3.0)   # The order for type \"upcasting\" doesn't matter"
   ]
  },
  {
   "cell_type": "markdown",
   "metadata": {},
   "source": [
    "Let's look at another example of *float* math:"
   ]
  },
  {
   "cell_type": "code",
   "execution_count": null,
   "metadata": {
    "collapsed": false
   },
   "outputs": [],
   "source": [
    "0.1 + 0.2"
   ]
  },
  {
   "cell_type": "markdown",
   "metadata": {},
   "source": [
    "**Wat ?!?!** There are occasionally precision issues because of the way floating point values work.  It's actually an interesting abstraction (feel free to study a more detailed explanation of how [IEEE Floats](http://steve.hollasch.net/cgindex/coding/ieeefloat.html) work). This is a good example of how abstractions can 'leak' (more on this later).  A good explanation of how this affects Python is [here](https://docs.python.org/2/tutorial/floatingpoint.html).  For our purposes, this really doesn't matter.  Just a curiosity, so, moving right along..."
   ]
  },
  {
   "cell_type": "code",
   "execution_count": null,
   "metadata": {
    "collapsed": true
   },
   "outputs": [],
   "source": [
    "a = 5"
   ]
  },
  {
   "cell_type": "code",
   "execution_count": null,
   "metadata": {
    "collapsed": false
   },
   "outputs": [],
   "source": [
    "print a"
   ]
  },
  {
   "cell_type": "markdown",
   "metadata": {},
   "source": [
    "This may not seem very exciting at first, but variables are an important part of programming.  It's good to know that you can use them in Python."
   ]
  },
  {
   "cell_type": "code",
   "execution_count": null,
   "metadata": {
    "collapsed": false
   },
   "outputs": [],
   "source": [
    "y = x**2 - 3*x + 12  # just like in algebra, right?"
   ]
  },
  {
   "cell_type": "markdown",
   "metadata": {},
   "source": [
    "*I know `x` isn't defined.  Isn't that what a variable is?*  Not exactly...  More on this error stuff later.  Try this:"
   ]
  },
  {
   "cell_type": "code",
   "execution_count": null,
   "metadata": {
    "collapsed": false
   },
   "outputs": [],
   "source": [
    "x = 10      # we'll give 'x' a value this time\n",
    "y = x**2 - 3*x + 12\n",
    "print y"
   ]
  },
  {
   "cell_type": "code",
   "execution_count": null,
   "metadata": {
    "collapsed": true
   },
   "outputs": [],
   "source": []
  },
  {
   "cell_type": "markdown",
   "metadata": {},
   "source": [
    "So, the variables on the right side of the *equals* sign have to already be assigned a value.  Otherwise, the interpreter tries to evaluate the right side and assign it to the left side.\n",
    "\n",
    "This might not seem particularly useful until you see how to use looping.  Also, math on arrays of values really shows how cool this is.  Check this out..."
   ]
  },
  {
   "cell_type": "code",
   "execution_count": null,
   "metadata": {
    "collapsed": true
   },
   "outputs": [],
   "source": [
    "import numpy as np   # the python array-math library\n",
    "x = np.arange(0.0, 2*np.pi, 0.01) # make an array of numbers from 0 to 2π with a number every 0.01.\n",
    "y = np.sin(x)"
   ]
  },
  {
   "cell_type": "code",
   "execution_count": null,
   "metadata": {
    "collapsed": false
   },
   "outputs": [],
   "source": [
    "print \"The length of x is: %s\" % (len(x))\n",
    "print \"The length of y is: %s\" % (len(y))\n",
    "print \"The first 5 values in the x array are:\\n%s\" % x[0:5]\n",
    "print \"The first 5 values in the y array are:\\n%s\" % y[0:5]"
   ]
  },
  {
   "cell_type": "code",
   "execution_count": null,
   "metadata": {
    "collapsed": false
   },
   "outputs": [],
   "source": [
    "# this imports some plotting stuff we'll use\n",
    "from bokeh.plotting import output_notebook\n",
    "output_notebook()\n",
    "from bokeh.plotting import figure, show"
   ]
  },
  {
   "cell_type": "code",
   "execution_count": null,
   "metadata": {
    "collapsed": false
   },
   "outputs": [],
   "source": [
    "p = figure(title=\"Sine Example\")\n",
    "p.line(x, y)\n",
    "show(p)"
   ]
  },
  {
   "cell_type": "markdown",
   "metadata": {},
   "source": [
    "## Functions"
   ]
  },
  {
   "cell_type": "markdown",
   "metadata": {
    "collapsed": true
   },
   "source": [
    "That's cool.  Now let's get back to something we tried earlier.  Remember that expression `y = x**2 - 3*x + 12` ?  In algebra, that's actually a function.  In Python (and just about every other language) we have the concept of functions as well.  The keyword `def` is used the *def*ine a function in Python:"
   ]
  },
  {
   "cell_type": "code",
   "execution_count": null,
   "metadata": {
    "collapsed": true
   },
   "outputs": [],
   "source": [
    "def f(x):\n",
    "    return x**2 - 3*x + 12"
   ]
  },
  {
   "cell_type": "markdown",
   "metadata": {},
   "source": [
    "So, now you can evaluate the function by handing it a value, or *parameter* (in this case, we've called it `x`)."
   ]
  },
  {
   "cell_type": "code",
   "execution_count": null,
   "metadata": {
    "collapsed": false
   },
   "outputs": [],
   "source": [
    "f(3)"
   ]
  },
  {
   "cell_type": "markdown",
   "metadata": {},
   "source": [
    "So earlier, we assigned the value [0.0, 0.01, 0.02 ...] to the symbol `x`.  (I'm starting to use the more official names for things here.)  What happens if we pass that symbol into the function `f`?"
   ]
  },
  {
   "cell_type": "code",
   "execution_count": null,
   "metadata": {
    "collapsed": false
   },
   "outputs": [],
   "source": [
    "print x[:5]  # just to be clear that in the scope of this notebook, the symbol x was defined earlier, show the first 5 values\n"
   ]
  },
  {
   "cell_type": "code",
   "execution_count": null,
   "metadata": {
    "collapsed": false
   },
   "outputs": [],
   "source": [
    "print f(x)[:5]  # only show the first 5 entries"
   ]
  },
  {
   "cell_type": "markdown",
   "metadata": {},
   "source": [
    " %% **boom** %%   Mind.  Blown.\n",
    " \n",
    " So, I'm dying to see what this looks like:"
   ]
  },
  {
   "cell_type": "code",
   "execution_count": null,
   "metadata": {
    "collapsed": false
   },
   "outputs": [],
   "source": [
    "p2 = figure()\n",
    "p2.line(x, f(x))\n",
    "p2_nbh = show(p2)"
   ]
  },
  {
   "cell_type": "markdown",
   "metadata": {},
   "source": [
    "This is pretty math-y, what else can functions do?\n",
    "\n",
    "Well, they can do anything you tell them..."
   ]
  },
  {
   "cell_type": "code",
   "execution_count": null,
   "metadata": {
    "collapsed": false
   },
   "outputs": [],
   "source": [
    "import random\n",
    "def headache(name, number_of_repeats=5):\n",
    "    \"\"\" a pretty useless function \"\"\"\n",
    "    namelist = list(name)\n",
    "    for i in range(0, number_of_repeats):\n",
    "        random.shuffle(namelist)\n",
    "        for letter in namelist:\n",
    "            print letter, "
   ]
  },
  {
   "cell_type": "code",
   "execution_count": null,
   "metadata": {
    "collapsed": false
   },
   "outputs": [],
   "source": [
    "headache(\"travis\", 40)"
   ]
  },
  {
   "cell_type": "markdown",
   "metadata": {
    "collapsed": true
   },
   "source": [
    "Not sure exactly what's going on here, so now's a good time to take a look at *strings*."
   ]
  },
  {
   "cell_type": "markdown",
   "metadata": {},
   "source": [
    "## Strings"
   ]
  },
  {
   "cell_type": "markdown",
   "metadata": {},
   "source": [
    "A string is a data type in Python (and other languages) that contains text (and possibly numbers, but everything is treated as text)."
   ]
  },
  {
   "cell_type": "code",
   "execution_count": null,
   "metadata": {
    "collapsed": false
   },
   "outputs": [],
   "source": [
    "\"test\" # not a very useful thing to type at the command line, but ..."
   ]
  },
  {
   "cell_type": "code",
   "execution_count": null,
   "metadata": {
    "collapsed": true
   },
   "outputs": [],
   "source": [
    "book = \"The Lord of the Flies\"  # a little more useful ... we're assigning a string to the variable, 'book'"
   ]
  },
  {
   "cell_type": "code",
   "execution_count": null,
   "metadata": {
    "collapsed": false
   },
   "outputs": [],
   "source": [
    "print book"
   ]
  },
  {
   "cell_type": "markdown",
   "metadata": {},
   "source": [
    "You can also define a string using other quotation marks, like *single quotes* and *triple-quotes*"
   ]
  },
  {
   "cell_type": "code",
   "execution_count": null,
   "metadata": {
    "collapsed": true
   },
   "outputs": [],
   "source": [
    "book = 'The Lord of the Flies'"
   ]
  },
  {
   "cell_type": "code",
   "execution_count": null,
   "metadata": {
    "collapsed": true
   },
   "outputs": [],
   "source": [
    "book = \"\"\"The Lord of the Flies\"\"\""
   ]
  },
  {
   "cell_type": "markdown",
   "metadata": {},
   "source": [
    "Any ideas about why we would use something like *triple-quotes* to define a string?"
   ]
  },
  {
   "cell_type": "code",
   "execution_count": null,
   "metadata": {
    "collapsed": true
   },
   "outputs": [],
   "source": []
  },
  {
   "cell_type": "markdown",
   "metadata": {},
   "source": [
    "Strings are a little like an array of letters (characters) because you can index into them in a similar way, as well as iterate over them."
   ]
  },
  {
   "cell_type": "code",
   "execution_count": null,
   "metadata": {
    "collapsed": true
   },
   "outputs": [],
   "source": []
  },
  {
   "cell_type": "code",
   "execution_count": null,
   "metadata": {
    "collapsed": true
   },
   "outputs": [],
   "source": []
  }
 ],
 "metadata": {
  "kernelspec": {
   "display_name": "Python 2",
   "language": "python",
   "name": "python2"
  },
  "language_info": {
   "codemirror_mode": {
    "name": "ipython",
    "version": 2
   },
   "file_extension": ".py",
   "mimetype": "text/x-python",
   "name": "python",
   "nbconvert_exporter": "python",
   "pygments_lexer": "ipython2",
   "version": "2.7.12"
  }
 },
 "nbformat": 4,
 "nbformat_minor": 0
}
