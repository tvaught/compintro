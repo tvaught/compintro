{
 "cells": [
  {
   "cell_type": "markdown",
   "metadata": {},
   "source": [
    "A Scientific Example\n",
    "=============\n",
    "The following code shows a typical approach to visualizing data for \"data analytics.\"  We'll begin by importing some libraries that help with numerical arrays and plotting functions, as well as a way to calculate a *Convex Hull* from a set of points."
   ]
  },
  {
   "cell_type": "code",
   "execution_count": 1,
   "metadata": {
    "collapsed": true
   },
   "outputs": [],
   "source": [
    "from bokeh.io import output_notebook\n",
    "from bokeh.plotting import figure, show \n",
    "import numpy as np\n",
    "from scipy.spatial import ConvexHull"
   ]
  },
  {
   "cell_type": "code",
   "execution_count": 2,
   "metadata": {},
   "outputs": [
    {
     "data": {
      "text/html": [
       "\n",
       "    <div class=\"bk-root\">\n",
       "        <a href=\"http://bokeh.pydata.org\" target=\"_blank\" class=\"bk-logo bk-logo-small bk-logo-notebook\"></a>\n",
       "        <span id=\"df1d4db6-2e65-43da-bc35-1e8c0ed086e0\">Loading BokehJS ...</span>\n",
       "    </div>"
      ]
     },
     "metadata": {},
     "output_type": "display_data"
    },
    {
     "data": {
      "application/javascript": [
       "\n",
       "(function(global) {\n",
       "  function now() {\n",
       "    return new Date();\n",
       "  }\n",
       "\n",
       "  var force = true;\n",
       "\n",
       "  if (typeof (window._bokeh_onload_callbacks) === \"undefined\" || force === true) {\n",
       "    window._bokeh_onload_callbacks = [];\n",
       "    window._bokeh_is_loading = undefined;\n",
       "  }\n",
       "\n",
       "\n",
       "  \n",
       "  if (typeof (window._bokeh_timeout) === \"undefined\" || force === true) {\n",
       "    window._bokeh_timeout = Date.now() + 5000;\n",
       "    window._bokeh_failed_load = false;\n",
       "  }\n",
       "\n",
       "  var NB_LOAD_WARNING = {'data': {'text/html':\n",
       "     \"<div style='background-color: #fdd'>\\n\"+\n",
       "     \"<p>\\n\"+\n",
       "     \"BokehJS does not appear to have successfully loaded. If loading BokehJS from CDN, this \\n\"+\n",
       "     \"may be due to a slow or bad network connection. Possible fixes:\\n\"+\n",
       "     \"</p>\\n\"+\n",
       "     \"<ul>\\n\"+\n",
       "     \"<li>re-rerun `output_notebook()` to attempt to load from CDN again, or</li>\\n\"+\n",
       "     \"<li>use INLINE resources instead, as so:</li>\\n\"+\n",
       "     \"</ul>\\n\"+\n",
       "     \"<code>\\n\"+\n",
       "     \"from bokeh.resources import INLINE\\n\"+\n",
       "     \"output_notebook(resources=INLINE)\\n\"+\n",
       "     \"</code>\\n\"+\n",
       "     \"</div>\"}};\n",
       "\n",
       "  function display_loaded() {\n",
       "    if (window.Bokeh !== undefined) {\n",
       "      var el = document.getElementById(\"df1d4db6-2e65-43da-bc35-1e8c0ed086e0\");\n",
       "      el.textContent = \"BokehJS \" + Bokeh.version + \" successfully loaded.\";\n",
       "    } else if (Date.now() < window._bokeh_timeout) {\n",
       "      setTimeout(display_loaded, 100)\n",
       "    }\n",
       "  }\n",
       "\n",
       "  function run_callbacks() {\n",
       "    try {\n",
       "      window._bokeh_onload_callbacks.forEach(function(callback) { callback() });\n",
       "    }\n",
       "    finally {\n",
       "      delete window._bokeh_onload_callbacks\n",
       "    }\n",
       "    console.info(\"Bokeh: all callbacks have finished\");\n",
       "  }\n",
       "\n",
       "  function load_libs(js_urls, callback) {\n",
       "    window._bokeh_onload_callbacks.push(callback);\n",
       "    if (window._bokeh_is_loading > 0) {\n",
       "      console.log(\"Bokeh: BokehJS is being loaded, scheduling callback at\", now());\n",
       "      return null;\n",
       "    }\n",
       "    if (js_urls == null || js_urls.length === 0) {\n",
       "      run_callbacks();\n",
       "      return null;\n",
       "    }\n",
       "    console.log(\"Bokeh: BokehJS not loaded, scheduling load and callback at\", now());\n",
       "    window._bokeh_is_loading = js_urls.length;\n",
       "    for (var i = 0; i < js_urls.length; i++) {\n",
       "      var url = js_urls[i];\n",
       "      var s = document.createElement('script');\n",
       "      s.src = url;\n",
       "      s.async = false;\n",
       "      s.onreadystatechange = s.onload = function() {\n",
       "        window._bokeh_is_loading--;\n",
       "        if (window._bokeh_is_loading === 0) {\n",
       "          console.log(\"Bokeh: all BokehJS libraries loaded\");\n",
       "          run_callbacks()\n",
       "        }\n",
       "      };\n",
       "      s.onerror = function() {\n",
       "        console.warn(\"failed to load library \" + url);\n",
       "      };\n",
       "      console.log(\"Bokeh: injecting script tag for BokehJS library: \", url);\n",
       "      document.getElementsByTagName(\"head\")[0].appendChild(s);\n",
       "    }\n",
       "  };var element = document.getElementById(\"df1d4db6-2e65-43da-bc35-1e8c0ed086e0\");\n",
       "  if (element == null) {\n",
       "    console.log(\"Bokeh: ERROR: autoload.js configured with elementid 'df1d4db6-2e65-43da-bc35-1e8c0ed086e0' but no matching script tag was found. \")\n",
       "    return false;\n",
       "  }\n",
       "\n",
       "  var js_urls = [\"https://cdn.pydata.org/bokeh/release/bokeh-0.12.6.min.js\", \"https://cdn.pydata.org/bokeh/release/bokeh-widgets-0.12.6.min.js\"];\n",
       "\n",
       "  var inline_js = [\n",
       "    function(Bokeh) {\n",
       "      Bokeh.set_log_level(\"info\");\n",
       "    },\n",
       "    \n",
       "    function(Bokeh) {\n",
       "      \n",
       "    },\n",
       "    \n",
       "    function(Bokeh) {\n",
       "      \n",
       "      document.getElementById(\"df1d4db6-2e65-43da-bc35-1e8c0ed086e0\").textContent = \"BokehJS is loading...\";\n",
       "    },\n",
       "    function(Bokeh) {\n",
       "      console.log(\"Bokeh: injecting CSS: https://cdn.pydata.org/bokeh/release/bokeh-0.12.6.min.css\");\n",
       "      Bokeh.embed.inject_css(\"https://cdn.pydata.org/bokeh/release/bokeh-0.12.6.min.css\");\n",
       "      console.log(\"Bokeh: injecting CSS: https://cdn.pydata.org/bokeh/release/bokeh-widgets-0.12.6.min.css\");\n",
       "      Bokeh.embed.inject_css(\"https://cdn.pydata.org/bokeh/release/bokeh-widgets-0.12.6.min.css\");\n",
       "    }\n",
       "  ];\n",
       "\n",
       "  function run_inline_js() {\n",
       "    \n",
       "    if ((window.Bokeh !== undefined) || (force === true)) {\n",
       "      for (var i = 0; i < inline_js.length; i++) {\n",
       "        inline_js[i](window.Bokeh);\n",
       "      }if (force === true) {\n",
       "        display_loaded();\n",
       "      }} else if (Date.now() < window._bokeh_timeout) {\n",
       "      setTimeout(run_inline_js, 100);\n",
       "    } else if (!window._bokeh_failed_load) {\n",
       "      console.log(\"Bokeh: BokehJS failed to load within specified timeout.\");\n",
       "      window._bokeh_failed_load = true;\n",
       "    } else if (force !== true) {\n",
       "      var cell = $(document.getElementById(\"df1d4db6-2e65-43da-bc35-1e8c0ed086e0\")).parents('.cell').data().cell;\n",
       "      cell.output_area.append_execute_result(NB_LOAD_WARNING)\n",
       "    }\n",
       "\n",
       "  }\n",
       "\n",
       "  if (window._bokeh_is_loading === 0) {\n",
       "    console.log(\"Bokeh: BokehJS loaded, going straight to plotting\");\n",
       "    run_inline_js();\n",
       "  } else {\n",
       "    load_libs(js_urls, function() {\n",
       "      console.log(\"Bokeh: BokehJS plotting callback run at\", now());\n",
       "      run_inline_js();\n",
       "    });\n",
       "  }\n",
       "}(this));"
      ]
     },
     "metadata": {},
     "output_type": "display_data"
    }
   ],
   "source": [
    "output_notebook()  # This is just a function to tell the plotting library to show plots in-line in this notebook"
   ]
  },
  {
   "cell_type": "code",
   "execution_count": 11,
   "metadata": {
    "collapsed": true
   },
   "outputs": [],
   "source": [
    "points = np.random.rand(30, 2)   # 30 random points in 2-D\n",
    "hull = ConvexHull(points)        # create a ConvexHull object and assign it to the variable 'hull'"
   ]
  },
  {
   "cell_type": "markdown",
   "metadata": {},
   "source": [
    "Let's see what the *hull* variable contains.  In the line below type *hull* and press shift-enter:"
   ]
  },
  {
   "cell_type": "code",
   "execution_count": 12,
   "metadata": {},
   "outputs": [
    {
     "data": {
      "text/plain": [
       "0.6631208227412528"
      ]
     },
     "execution_count": 12,
     "metadata": {},
     "output_type": "execute_result"
    }
   ],
   "source": [
    "hull.volume\n"
   ]
  },
  {
   "cell_type": "markdown",
   "metadata": {},
   "source": [
    "Explore the attributes of the hull object using *hull.*-tab in the box below."
   ]
  },
  {
   "cell_type": "code",
   "execution_count": null,
   "metadata": {
    "collapsed": true
   },
   "outputs": [],
   "source": []
  },
  {
   "cell_type": "markdown",
   "metadata": {},
   "source": [
    "Let's plot this thing and see what we've got!"
   ]
  },
  {
   "cell_type": "code",
   "execution_count": 13,
   "metadata": {
    "collapsed": true
   },
   "outputs": [],
   "source": [
    "f = figure()"
   ]
  },
  {
   "cell_type": "code",
   "execution_count": 14,
   "metadata": {},
   "outputs": [
    {
     "data": {
      "text/html": [
       "<div style=\"display: table;\"><div style=\"display: table-row;\"><div style=\"display: table-cell;\"><b title=\"bokeh.models.renderers.GlyphRenderer\">GlyphRenderer</b>(</div><div style=\"display: table-cell;\">id&nbsp;=&nbsp;'b99b27cd-9dab-43f9-b144-1a63233d7905', <span id=\"3ddfbd03-a240-41c2-872d-e51954b20e1e\" style=\"cursor: pointer;\">&hellip;)</span></div></div><div class=\"5b2317e3-eb07-4a12-9ed4-a24b57e07f63\" style=\"display: none;\"><div style=\"display: table-cell;\"></div><div style=\"display: table-cell;\">data_source&nbsp;=&nbsp;ColumnDataSource(id='4d62ed4b-1d01-4793-8a31-e09eb7243697', ...),</div></div><div class=\"5b2317e3-eb07-4a12-9ed4-a24b57e07f63\" style=\"display: none;\"><div style=\"display: table-cell;\"></div><div style=\"display: table-cell;\">glyph&nbsp;=&nbsp;Circle(id='abc39dd4-85af-4c73-9ae4-b36d8800ee1d', ...),</div></div><div class=\"5b2317e3-eb07-4a12-9ed4-a24b57e07f63\" style=\"display: none;\"><div style=\"display: table-cell;\"></div><div style=\"display: table-cell;\">hover_glyph&nbsp;=&nbsp;None,</div></div><div class=\"5b2317e3-eb07-4a12-9ed4-a24b57e07f63\" style=\"display: none;\"><div style=\"display: table-cell;\"></div><div style=\"display: table-cell;\">js_event_callbacks&nbsp;=&nbsp;{},</div></div><div class=\"5b2317e3-eb07-4a12-9ed4-a24b57e07f63\" style=\"display: none;\"><div style=\"display: table-cell;\"></div><div style=\"display: table-cell;\">js_property_callbacks&nbsp;=&nbsp;{},</div></div><div class=\"5b2317e3-eb07-4a12-9ed4-a24b57e07f63\" style=\"display: none;\"><div style=\"display: table-cell;\"></div><div style=\"display: table-cell;\">level&nbsp;=&nbsp;'glyph',</div></div><div class=\"5b2317e3-eb07-4a12-9ed4-a24b57e07f63\" style=\"display: none;\"><div style=\"display: table-cell;\"></div><div style=\"display: table-cell;\">muted&nbsp;=&nbsp;False,</div></div><div class=\"5b2317e3-eb07-4a12-9ed4-a24b57e07f63\" style=\"display: none;\"><div style=\"display: table-cell;\"></div><div style=\"display: table-cell;\">muted_glyph&nbsp;=&nbsp;None,</div></div><div class=\"5b2317e3-eb07-4a12-9ed4-a24b57e07f63\" style=\"display: none;\"><div style=\"display: table-cell;\"></div><div style=\"display: table-cell;\">name&nbsp;=&nbsp;None,</div></div><div class=\"5b2317e3-eb07-4a12-9ed4-a24b57e07f63\" style=\"display: none;\"><div style=\"display: table-cell;\"></div><div style=\"display: table-cell;\">nonselection_glyph&nbsp;=&nbsp;Circle(id='7e4e95bc-7b5c-4292-be4e-465b1fac6959', ...),</div></div><div class=\"5b2317e3-eb07-4a12-9ed4-a24b57e07f63\" style=\"display: none;\"><div style=\"display: table-cell;\"></div><div style=\"display: table-cell;\">selection_glyph&nbsp;=&nbsp;None,</div></div><div class=\"5b2317e3-eb07-4a12-9ed4-a24b57e07f63\" style=\"display: none;\"><div style=\"display: table-cell;\"></div><div style=\"display: table-cell;\">subscribed_events&nbsp;=&nbsp;[],</div></div><div class=\"5b2317e3-eb07-4a12-9ed4-a24b57e07f63\" style=\"display: none;\"><div style=\"display: table-cell;\"></div><div style=\"display: table-cell;\">tags&nbsp;=&nbsp;[],</div></div><div class=\"5b2317e3-eb07-4a12-9ed4-a24b57e07f63\" style=\"display: none;\"><div style=\"display: table-cell;\"></div><div style=\"display: table-cell;\">visible&nbsp;=&nbsp;True,</div></div><div class=\"5b2317e3-eb07-4a12-9ed4-a24b57e07f63\" style=\"display: none;\"><div style=\"display: table-cell;\"></div><div style=\"display: table-cell;\">x_range_name&nbsp;=&nbsp;'default',</div></div><div class=\"5b2317e3-eb07-4a12-9ed4-a24b57e07f63\" style=\"display: none;\"><div style=\"display: table-cell;\"></div><div style=\"display: table-cell;\">y_range_name&nbsp;=&nbsp;'default')</div></div></div>\n",
       "<script>\n",
       "(function() {\n",
       "  var expanded = false;\n",
       "  var ellipsis = document.getElementById(\"3ddfbd03-a240-41c2-872d-e51954b20e1e\");\n",
       "  ellipsis.addEventListener(\"click\", function() {\n",
       "    var rows = document.getElementsByClassName(\"5b2317e3-eb07-4a12-9ed4-a24b57e07f63\");\n",
       "    for (var i = 0; i < rows.length; i++) {\n",
       "      var el = rows[i];\n",
       "      el.style.display = expanded ? \"none\" : \"table-row\";\n",
       "    }\n",
       "    ellipsis.innerHTML = expanded ? \"&hellip;)\" : \"&lsaquo;&lsaquo;&lsaquo;\";\n",
       "    expanded = !expanded;\n",
       "  });\n",
       "})();\n",
       "</script>\n"
      ],
      "text/plain": [
       "GlyphRenderer(id='b99b27cd-9dab-43f9-b144-1a63233d7905', ...)"
      ]
     },
     "execution_count": 14,
     "metadata": {},
     "output_type": "execute_result"
    }
   ],
   "source": [
    "f.circle(points[:,0],points[:,1])"
   ]
  },
  {
   "cell_type": "code",
   "execution_count": 15,
   "metadata": {
    "collapsed": true
   },
   "outputs": [],
   "source": [
    "for simplex in hull.simplices:\n",
    "    f.line(points[simplex, 0], points[simplex, 1])"
   ]
  },
  {
   "cell_type": "code",
   "execution_count": 16,
   "metadata": {},
   "outputs": [
    {
     "data": {
      "text/html": [
       "\n",
       "\n",
       "    <div class=\"bk-root\">\n",
       "        <div class=\"bk-plotdiv\" id=\"079e9f7d-c364-4619-82a2-42018e600814\"></div>\n",
       "    </div>\n",
       "<script type=\"text/javascript\">\n",
       "  \n",
       "  (function(global) {\n",
       "    function now() {\n",
       "      return new Date();\n",
       "    }\n",
       "  \n",
       "    var force = false;\n",
       "  \n",
       "    if (typeof (window._bokeh_onload_callbacks) === \"undefined\" || force === true) {\n",
       "      window._bokeh_onload_callbacks = [];\n",
       "      window._bokeh_is_loading = undefined;\n",
       "    }\n",
       "  \n",
       "  \n",
       "    \n",
       "    if (typeof (window._bokeh_timeout) === \"undefined\" || force === true) {\n",
       "      window._bokeh_timeout = Date.now() + 0;\n",
       "      window._bokeh_failed_load = false;\n",
       "    }\n",
       "  \n",
       "    var NB_LOAD_WARNING = {'data': {'text/html':\n",
       "       \"<div style='background-color: #fdd'>\\n\"+\n",
       "       \"<p>\\n\"+\n",
       "       \"BokehJS does not appear to have successfully loaded. If loading BokehJS from CDN, this \\n\"+\n",
       "       \"may be due to a slow or bad network connection. Possible fixes:\\n\"+\n",
       "       \"</p>\\n\"+\n",
       "       \"<ul>\\n\"+\n",
       "       \"<li>re-rerun `output_notebook()` to attempt to load from CDN again, or</li>\\n\"+\n",
       "       \"<li>use INLINE resources instead, as so:</li>\\n\"+\n",
       "       \"</ul>\\n\"+\n",
       "       \"<code>\\n\"+\n",
       "       \"from bokeh.resources import INLINE\\n\"+\n",
       "       \"output_notebook(resources=INLINE)\\n\"+\n",
       "       \"</code>\\n\"+\n",
       "       \"</div>\"}};\n",
       "  \n",
       "    function display_loaded() {\n",
       "      if (window.Bokeh !== undefined) {\n",
       "        var el = document.getElementById(\"079e9f7d-c364-4619-82a2-42018e600814\");\n",
       "        el.textContent = \"BokehJS \" + Bokeh.version + \" successfully loaded.\";\n",
       "      } else if (Date.now() < window._bokeh_timeout) {\n",
       "        setTimeout(display_loaded, 100)\n",
       "      }\n",
       "    }\n",
       "  \n",
       "    function run_callbacks() {\n",
       "      try {\n",
       "        window._bokeh_onload_callbacks.forEach(function(callback) { callback() });\n",
       "      }\n",
       "      finally {\n",
       "        delete window._bokeh_onload_callbacks\n",
       "      }\n",
       "      console.info(\"Bokeh: all callbacks have finished\");\n",
       "    }\n",
       "  \n",
       "    function load_libs(js_urls, callback) {\n",
       "      window._bokeh_onload_callbacks.push(callback);\n",
       "      if (window._bokeh_is_loading > 0) {\n",
       "        console.log(\"Bokeh: BokehJS is being loaded, scheduling callback at\", now());\n",
       "        return null;\n",
       "      }\n",
       "      if (js_urls == null || js_urls.length === 0) {\n",
       "        run_callbacks();\n",
       "        return null;\n",
       "      }\n",
       "      console.log(\"Bokeh: BokehJS not loaded, scheduling load and callback at\", now());\n",
       "      window._bokeh_is_loading = js_urls.length;\n",
       "      for (var i = 0; i < js_urls.length; i++) {\n",
       "        var url = js_urls[i];\n",
       "        var s = document.createElement('script');\n",
       "        s.src = url;\n",
       "        s.async = false;\n",
       "        s.onreadystatechange = s.onload = function() {\n",
       "          window._bokeh_is_loading--;\n",
       "          if (window._bokeh_is_loading === 0) {\n",
       "            console.log(\"Bokeh: all BokehJS libraries loaded\");\n",
       "            run_callbacks()\n",
       "          }\n",
       "        };\n",
       "        s.onerror = function() {\n",
       "          console.warn(\"failed to load library \" + url);\n",
       "        };\n",
       "        console.log(\"Bokeh: injecting script tag for BokehJS library: \", url);\n",
       "        document.getElementsByTagName(\"head\")[0].appendChild(s);\n",
       "      }\n",
       "    };var element = document.getElementById(\"079e9f7d-c364-4619-82a2-42018e600814\");\n",
       "    if (element == null) {\n",
       "      console.log(\"Bokeh: ERROR: autoload.js configured with elementid '079e9f7d-c364-4619-82a2-42018e600814' but no matching script tag was found. \")\n",
       "      return false;\n",
       "    }\n",
       "  \n",
       "    var js_urls = [];\n",
       "  \n",
       "    var inline_js = [\n",
       "      function(Bokeh) {\n",
       "        (function() {\n",
       "          var fn = function() {\n",
       "            var docs_json = {\"aa886a44-cc7e-4289-a99a-fe420e4358bc\":{\"roots\":{\"references\":[{\"attributes\":{\"callback\":null,\"column_names\":[\"y\",\"x\"],\"data\":{\"x\":{\"__ndarray__\":\"CL1F8BUn6T+2tOSpzA/TPw==\",\"dtype\":\"float64\",\"shape\":[2]},\"y\":{\"__ndarray__\":\"+BEY0HcEwz8wbGBqtMmuPw==\",\"dtype\":\"float64\",\"shape\":[2]}}},\"id\":\"fd142046-4d90-4cd9-b179-e84775a399b3\",\"type\":\"ColumnDataSource\"},{\"attributes\":{\"active_drag\":\"auto\",\"active_inspect\":\"auto\",\"active_scroll\":\"auto\",\"active_tap\":\"auto\",\"tools\":[{\"id\":\"4a65cf65-65a0-4f96-87d5-79550246d2f4\",\"type\":\"PanTool\"},{\"id\":\"933ab5b6-5d49-4082-90a9-4648c1a28287\",\"type\":\"WheelZoomTool\"},{\"id\":\"fa9bf4fe-d7c2-4a79-b64a-c2d5c58d753f\",\"type\":\"BoxZoomTool\"},{\"id\":\"e54ed932-1894-4fb1-a31f-acaf549c06e9\",\"type\":\"SaveTool\"},{\"id\":\"d3e8e1ab-13a1-4cf0-828e-c8e1fc59ee28\",\"type\":\"ResetTool\"},{\"id\":\"8a2631b1-b103-4176-99ba-d05700926492\",\"type\":\"HelpTool\"}]},\"id\":\"76ca8e3c-870a-45fe-9b4d-3563faa710dc\",\"type\":\"Toolbar\"},{\"attributes\":{\"plot\":{\"id\":\"1d483f1e-809a-48de-88e1-b1d5eb49df8e\",\"subtype\":\"Figure\",\"type\":\"Plot\"}},\"id\":\"e54ed932-1894-4fb1-a31f-acaf549c06e9\",\"type\":\"SaveTool\"},{\"attributes\":{\"dimension\":1,\"plot\":{\"id\":\"1d483f1e-809a-48de-88e1-b1d5eb49df8e\",\"subtype\":\"Figure\",\"type\":\"Plot\"},\"ticker\":{\"id\":\"deff404a-29c0-4c3f-8f9a-d5f8be30c707\",\"type\":\"BasicTicker\"}},\"id\":\"b157d256-2ba8-4f4e-8279-91275af3927c\",\"type\":\"Grid\"},{\"attributes\":{\"line_alpha\":{\"value\":0.1},\"line_color\":{\"value\":\"#1f77b4\"},\"x\":{\"field\":\"x\"},\"y\":{\"field\":\"y\"}},\"id\":\"dfe38dca-b3c3-4c48-80cc-e556cd2f1e8b\",\"type\":\"Line\"},{\"attributes\":{\"data_source\":{\"id\":\"36aae81f-8be1-497f-ae83-0738a2faaec7\",\"type\":\"ColumnDataSource\"},\"glyph\":{\"id\":\"3eb7e7c5-38ba-4117-994c-465ba60dd9a3\",\"type\":\"Line\"},\"hover_glyph\":null,\"muted_glyph\":null,\"nonselection_glyph\":{\"id\":\"02c4501c-17f2-4900-8a45-9de2aa2ecd5d\",\"type\":\"Line\"},\"selection_glyph\":null},\"id\":\"3dba1902-8846-439b-b350-0249b1c1a2d4\",\"type\":\"GlyphRenderer\"},{\"attributes\":{},\"id\":\"b61065d6-748c-4f6f-b315-5713b267251e\",\"type\":\"BasicTickFormatter\"},{\"attributes\":{\"callback\":null,\"column_names\":[\"y\",\"x\"],\"data\":{\"x\":{\"__ndarray__\":\"+fF4z/b77T+FkT7vAf/tPw==\",\"dtype\":\"float64\",\"shape\":[2]},\"y\":{\"__ndarray__\":\"dphSKvTt6D8/UgCO98PgPw==\",\"dtype\":\"float64\",\"shape\":[2]}}},\"id\":\"988e45a7-a81a-4c9b-8b51-4588c6c3a812\",\"type\":\"ColumnDataSource\"},{\"attributes\":{\"callback\":null},\"id\":\"0cef3f16-8e33-4259-9b5b-b7600040ee98\",\"type\":\"DataRange1d\"},{\"attributes\":{\"fill_color\":{\"value\":\"#1f77b4\"},\"line_color\":{\"value\":\"#1f77b4\"},\"x\":{\"field\":\"x\"},\"y\":{\"field\":\"y\"}},\"id\":\"abc39dd4-85af-4c73-9ae4-b36d8800ee1d\",\"type\":\"Circle\"},{\"attributes\":{\"callback\":null,\"column_names\":[\"y\",\"x\"],\"data\":{\"x\":{\"__ndarray__\":\"SP14DMxJ7D8XM4pplQHgPw==\",\"dtype\":\"float64\",\"shape\":[2]},\"y\":{\"__ndarray__\":\"dFv9vQK+6j8LU412Va/uPw==\",\"dtype\":\"float64\",\"shape\":[2]}}},\"id\":\"63f3b43a-0e7f-48b1-8394-2961c7e6ea9a\",\"type\":\"ColumnDataSource\"},{\"attributes\":{\"data_source\":{\"id\":\"63f3b43a-0e7f-48b1-8394-2961c7e6ea9a\",\"type\":\"ColumnDataSource\"},\"glyph\":{\"id\":\"0c23c522-9fa9-4d3b-8949-220404786649\",\"type\":\"Line\"},\"hover_glyph\":null,\"muted_glyph\":null,\"nonselection_glyph\":{\"id\":\"dfe38dca-b3c3-4c48-80cc-e556cd2f1e8b\",\"type\":\"Line\"},\"selection_glyph\":null},\"id\":\"b1a56517-d83d-4011-a48c-d1e4bf0484f1\",\"type\":\"GlyphRenderer\"},{\"attributes\":{\"data_source\":{\"id\":\"ebaaa4ce-fdd9-418b-8f5c-7968b9e176f7\",\"type\":\"ColumnDataSource\"},\"glyph\":{\"id\":\"8936d981-2215-412b-8b81-6ad98d9027c6\",\"type\":\"Line\"},\"hover_glyph\":null,\"muted_glyph\":null,\"nonselection_glyph\":{\"id\":\"c1f95f14-7280-49a0-964b-6505028f2669\",\"type\":\"Line\"},\"selection_glyph\":null},\"id\":\"a8a48a85-4faf-46d6-bff0-f6d37cf9ec1e\",\"type\":\"GlyphRenderer\"},{\"attributes\":{\"callback\":null,\"column_names\":[\"y\",\"x\"],\"data\":{\"x\":{\"__ndarray__\":\"rF9aiXEnwj+2tOSpzA/TPw==\",\"dtype\":\"float64\",\"shape\":[2]},\"y\":{\"__ndarray__\":\"qOIpMDyryD8wbGBqtMmuPw==\",\"dtype\":\"float64\",\"shape\":[2]}}},\"id\":\"88f681a9-efa2-4c9b-ba49-e029d5efa193\",\"type\":\"ColumnDataSource\"},{\"attributes\":{\"callback\":null,\"column_names\":[\"y\",\"x\"],\"data\":{\"x\":{\"__ndarray__\":\"gPC98yxsvz8gJZA0OQGaPw==\",\"dtype\":\"float64\",\"shape\":[2]},\"y\":{\"__ndarray__\":\"vAZYJ0JK7z/Ie2gAaBXjPw==\",\"dtype\":\"float64\",\"shape\":[2]}}},\"id\":\"36aae81f-8be1-497f-ae83-0738a2faaec7\",\"type\":\"ColumnDataSource\"},{\"attributes\":{\"line_color\":{\"value\":\"#1f77b4\"},\"x\":{\"field\":\"x\"},\"y\":{\"field\":\"y\"}},\"id\":\"53d1a3e4-3e9d-4a25-886e-05bfeec9c06a\",\"type\":\"Line\"},{\"attributes\":{\"line_color\":{\"value\":\"#1f77b4\"},\"x\":{\"field\":\"x\"},\"y\":{\"field\":\"y\"}},\"id\":\"2bf53360-5338-4237-9f43-77dfad31d9a4\",\"type\":\"Line\"},{\"attributes\":{\"data_source\":{\"id\":\"4d62ed4b-1d01-4793-8a31-e09eb7243697\",\"type\":\"ColumnDataSource\"},\"glyph\":{\"id\":\"abc39dd4-85af-4c73-9ae4-b36d8800ee1d\",\"type\":\"Circle\"},\"hover_glyph\":null,\"muted_glyph\":null,\"nonselection_glyph\":{\"id\":\"7e4e95bc-7b5c-4292-be4e-465b1fac6959\",\"type\":\"Circle\"},\"selection_glyph\":null},\"id\":\"b99b27cd-9dab-43f9-b144-1a63233d7905\",\"type\":\"GlyphRenderer\"},{\"attributes\":{\"plot\":null,\"text\":\"\"},\"id\":\"18fd584b-efc2-4280-bf4b-b9a656e09110\",\"type\":\"Title\"},{\"attributes\":{\"overlay\":{\"id\":\"f1c58612-cdee-41c1-a15c-f41beecf2a71\",\"type\":\"BoxAnnotation\"},\"plot\":{\"id\":\"1d483f1e-809a-48de-88e1-b1d5eb49df8e\",\"subtype\":\"Figure\",\"type\":\"Plot\"}},\"id\":\"fa9bf4fe-d7c2-4a79-b64a-c2d5c58d753f\",\"type\":\"BoxZoomTool\"},{\"attributes\":{\"line_color\":{\"value\":\"#1f77b4\"},\"x\":{\"field\":\"x\"},\"y\":{\"field\":\"y\"}},\"id\":\"fb4a9ced-fbfd-48be-8191-4ef629a12f7f\",\"type\":\"Line\"},{\"attributes\":{\"callback\":null,\"column_names\":[\"y\",\"x\"],\"data\":{\"x\":{\"__ndarray__\":\"wFRojz6gxj+A8L3zLGy/Pw==\",\"dtype\":\"float64\",\"shape\":[2]},\"y\":{\"__ndarray__\":\"1YPQeDxi7z+8BlgnQkrvPw==\",\"dtype\":\"float64\",\"shape\":[2]}}},\"id\":\"ee4ef447-d535-4025-ae8b-043d999dc8b9\",\"type\":\"ColumnDataSource\"},{\"attributes\":{\"line_alpha\":{\"value\":0.1},\"line_color\":{\"value\":\"#1f77b4\"},\"x\":{\"field\":\"x\"},\"y\":{\"field\":\"y\"}},\"id\":\"c1f95f14-7280-49a0-964b-6505028f2669\",\"type\":\"Line\"},{\"attributes\":{\"line_alpha\":{\"value\":0.1},\"line_color\":{\"value\":\"#1f77b4\"},\"x\":{\"field\":\"x\"},\"y\":{\"field\":\"y\"}},\"id\":\"b6851b5e-1f03-4c62-b823-efa1f50a281b\",\"type\":\"Line\"},{\"attributes\":{\"callback\":null,\"column_names\":[\"y\",\"x\"],\"data\":{\"x\":{\"__ndarray__\":\"cCoZzC2IzD/OahtKJA7QP20m7SQXieQ/TS0oNd7d5T80mnTq3FjSPwi9RfAVJ+k/Qu6g3GNm1z/AVGiPPqDGP/ibJa0hvss/trTkqcwP0z8ihSKjOKTgPwCH12poM70/rF9aiXEnwj+FkT7vAf/tPxr/OLoxUdY/UaiiiT0r4D+CVkOY00DXPymldfGti+c/FzOKaZUB4D/65yjTdQjSP0hV2D4/Pew/+0DSl93+6T/58XjP9vvtP8rsyBKAcdk/gPC98yxsvz9I/XgMzEnsPyAlkDQ5AZo/y9kVdjQc6T8Htve7UJvjP96+hwsBi9k/\",\"dtype\":\"float64\",\"shape\":[30]},\"y\":{\"__ndarray__\":\"gIBpdKlIyz/cpnl+zInaPwSb8TuPgtw//ssBCdX86D9GTroifgrbP/gRGNB3BMM/AYjJh7e26j/Vg9B4PGLvP77NFtBBbu0/MGxgarTJrj9Nr54TDRHmP45xxB6oL94/qOIpMDyryD8/UgCO98PgP/BdIadKCM0/HZkw6KC36j/G3rPvHErcPy4IP7BNJuw/C1ONdlWv7j+YHGnsDJnjPw15XKNCwuE/aAZhFJI22D92mFIq9O3oP5u7nMUCLOA/vAZYJ0JK7z90W/29Ar7qP8h7aABoFeM/SKV6JtdD0j92dlQv2PTnPzhjIYD/MrU/\",\"dtype\":\"float64\",\"shape\":[30]}}},\"id\":\"4d62ed4b-1d01-4793-8a31-e09eb7243697\",\"type\":\"ColumnDataSource\"},{\"attributes\":{\"plot\":{\"id\":\"1d483f1e-809a-48de-88e1-b1d5eb49df8e\",\"subtype\":\"Figure\",\"type\":\"Plot\"}},\"id\":\"933ab5b6-5d49-4082-90a9-4648c1a28287\",\"type\":\"WheelZoomTool\"},{\"attributes\":{\"bottom_units\":\"screen\",\"fill_alpha\":{\"value\":0.5},\"fill_color\":{\"value\":\"lightgrey\"},\"left_units\":\"screen\",\"level\":\"overlay\",\"line_alpha\":{\"value\":1.0},\"line_color\":{\"value\":\"black\"},\"line_dash\":[4,4],\"line_width\":{\"value\":2},\"plot\":null,\"render_mode\":\"css\",\"right_units\":\"screen\",\"top_units\":\"screen\"},\"id\":\"f1c58612-cdee-41c1-a15c-f41beecf2a71\",\"type\":\"BoxAnnotation\"},{\"attributes\":{\"callback\":null,\"column_names\":[\"y\",\"x\"],\"data\":{\"x\":{\"__ndarray__\":\"+fF4z/b77T9I/XgMzEnsPw==\",\"dtype\":\"float64\",\"shape\":[2]},\"y\":{\"__ndarray__\":\"dphSKvTt6D90W/29Ar7qPw==\",\"dtype\":\"float64\",\"shape\":[2]}}},\"id\":\"ebaaa4ce-fdd9-418b-8f5c-7968b9e176f7\",\"type\":\"ColumnDataSource\"},{\"attributes\":{\"callback\":null,\"column_names\":[\"y\",\"x\"],\"data\":{\"x\":{\"__ndarray__\":\"CL1F8BUn6T+FkT7vAf/tPw==\",\"dtype\":\"float64\",\"shape\":[2]},\"y\":{\"__ndarray__\":\"+BEY0HcEwz8/UgCO98PgPw==\",\"dtype\":\"float64\",\"shape\":[2]}}},\"id\":\"570e46af-39ae-4542-8abd-7609f37f6e83\",\"type\":\"ColumnDataSource\"},{\"attributes\":{\"line_alpha\":{\"value\":0.1},\"line_color\":{\"value\":\"#1f77b4\"},\"x\":{\"field\":\"x\"},\"y\":{\"field\":\"y\"}},\"id\":\"3d566236-f7fe-4bd1-b26e-759f3f308e0b\",\"type\":\"Line\"},{\"attributes\":{\"line_color\":{\"value\":\"#1f77b4\"},\"x\":{\"field\":\"x\"},\"y\":{\"field\":\"y\"}},\"id\":\"77d395eb-b8c1-4e47-8c82-64e5acd0d5b2\",\"type\":\"Line\"},{\"attributes\":{\"line_alpha\":{\"value\":0.1},\"line_color\":{\"value\":\"#1f77b4\"},\"x\":{\"field\":\"x\"},\"y\":{\"field\":\"y\"}},\"id\":\"02c4501c-17f2-4900-8a45-9de2aa2ecd5d\",\"type\":\"Line\"},{\"attributes\":{\"data_source\":{\"id\":\"ee4ef447-d535-4025-ae8b-043d999dc8b9\",\"type\":\"ColumnDataSource\"},\"glyph\":{\"id\":\"2bf53360-5338-4237-9f43-77dfad31d9a4\",\"type\":\"Line\"},\"hover_glyph\":null,\"muted_glyph\":null,\"nonselection_glyph\":{\"id\":\"e1b1c77f-9138-498c-9d27-c71538bbde33\",\"type\":\"Line\"},\"selection_glyph\":null},\"id\":\"14dcc6b4-6bfe-4a40-a10e-9a6aa6f3a88f\",\"type\":\"GlyphRenderer\"},{\"attributes\":{\"data_source\":{\"id\":\"570e46af-39ae-4542-8abd-7609f37f6e83\",\"type\":\"ColumnDataSource\"},\"glyph\":{\"id\":\"ac19427f-8cde-41dc-8690-6e1726485718\",\"type\":\"Line\"},\"hover_glyph\":null,\"muted_glyph\":null,\"nonselection_glyph\":{\"id\":\"97ebafa3-45db-498a-a0e9-230754c2da64\",\"type\":\"Line\"},\"selection_glyph\":null},\"id\":\"032b0893-27a3-4cc7-add5-048ec09e5f24\",\"type\":\"GlyphRenderer\"},{\"attributes\":{\"line_alpha\":{\"value\":0.1},\"line_color\":{\"value\":\"#1f77b4\"},\"x\":{\"field\":\"x\"},\"y\":{\"field\":\"y\"}},\"id\":\"e1b1c77f-9138-498c-9d27-c71538bbde33\",\"type\":\"Line\"},{\"attributes\":{\"plot\":{\"id\":\"1d483f1e-809a-48de-88e1-b1d5eb49df8e\",\"subtype\":\"Figure\",\"type\":\"Plot\"}},\"id\":\"8a2631b1-b103-4176-99ba-d05700926492\",\"type\":\"HelpTool\"},{\"attributes\":{\"formatter\":{\"id\":\"b61065d6-748c-4f6f-b315-5713b267251e\",\"type\":\"BasicTickFormatter\"},\"plot\":{\"id\":\"1d483f1e-809a-48de-88e1-b1d5eb49df8e\",\"subtype\":\"Figure\",\"type\":\"Plot\"},\"ticker\":{\"id\":\"bcb33855-0c28-4cb2-baae-d045fdd63440\",\"type\":\"BasicTicker\"}},\"id\":\"148b1a18-3b8e-470a-96a0-81c2c6045384\",\"type\":\"LinearAxis\"},{\"attributes\":{},\"id\":\"944e8c09-4eab-49b6-991f-ba3ded4ee019\",\"type\":\"BasicTickFormatter\"},{\"attributes\":{},\"id\":\"98ac5036-006e-49c2-b59f-e97f6270aa20\",\"type\":\"LinearScale\"},{\"attributes\":{\"line_color\":{\"value\":\"#1f77b4\"},\"x\":{\"field\":\"x\"},\"y\":{\"field\":\"y\"}},\"id\":\"f535e059-ac42-40d1-a6e7-7678ff7e013e\",\"type\":\"Line\"},{\"attributes\":{},\"id\":\"bcb33855-0c28-4cb2-baae-d045fdd63440\",\"type\":\"BasicTicker\"},{\"attributes\":{\"fill_alpha\":{\"value\":0.1},\"fill_color\":{\"value\":\"#1f77b4\"},\"line_alpha\":{\"value\":0.1},\"line_color\":{\"value\":\"#1f77b4\"},\"x\":{\"field\":\"x\"},\"y\":{\"field\":\"y\"}},\"id\":\"7e4e95bc-7b5c-4292-be4e-465b1fac6959\",\"type\":\"Circle\"},{\"attributes\":{\"formatter\":{\"id\":\"944e8c09-4eab-49b6-991f-ba3ded4ee019\",\"type\":\"BasicTickFormatter\"},\"plot\":{\"id\":\"1d483f1e-809a-48de-88e1-b1d5eb49df8e\",\"subtype\":\"Figure\",\"type\":\"Plot\"},\"ticker\":{\"id\":\"deff404a-29c0-4c3f-8f9a-d5f8be30c707\",\"type\":\"BasicTicker\"}},\"id\":\"acf7c47d-2517-455a-b144-317e1bd4cd3d\",\"type\":\"LinearAxis\"},{\"attributes\":{\"line_alpha\":{\"value\":0.1},\"line_color\":{\"value\":\"#1f77b4\"},\"x\":{\"field\":\"x\"},\"y\":{\"field\":\"y\"}},\"id\":\"99185a7c-d961-4708-b998-3394c089a78a\",\"type\":\"Line\"},{\"attributes\":{\"line_alpha\":{\"value\":0.1},\"line_color\":{\"value\":\"#1f77b4\"},\"x\":{\"field\":\"x\"},\"y\":{\"field\":\"y\"}},\"id\":\"9576a00b-1e31-4fe5-8742-917ec11e69fa\",\"type\":\"Line\"},{\"attributes\":{\"line_alpha\":{\"value\":0.1},\"line_color\":{\"value\":\"#1f77b4\"},\"x\":{\"field\":\"x\"},\"y\":{\"field\":\"y\"}},\"id\":\"97ebafa3-45db-498a-a0e9-230754c2da64\",\"type\":\"Line\"},{\"attributes\":{\"plot\":{\"id\":\"1d483f1e-809a-48de-88e1-b1d5eb49df8e\",\"subtype\":\"Figure\",\"type\":\"Plot\"}},\"id\":\"4a65cf65-65a0-4f96-87d5-79550246d2f4\",\"type\":\"PanTool\"},{\"attributes\":{},\"id\":\"7e7ab310-ef0e-43d5-b39f-bcfdaa2cb742\",\"type\":\"LinearScale\"},{\"attributes\":{\"line_color\":{\"value\":\"#1f77b4\"},\"x\":{\"field\":\"x\"},\"y\":{\"field\":\"y\"}},\"id\":\"8936d981-2215-412b-8b81-6ad98d9027c6\",\"type\":\"Line\"},{\"attributes\":{\"data_source\":{\"id\":\"88f681a9-efa2-4c9b-ba49-e029d5efa193\",\"type\":\"ColumnDataSource\"},\"glyph\":{\"id\":\"fb4a9ced-fbfd-48be-8191-4ef629a12f7f\",\"type\":\"Line\"},\"hover_glyph\":null,\"muted_glyph\":null,\"nonselection_glyph\":{\"id\":\"b6851b5e-1f03-4c62-b823-efa1f50a281b\",\"type\":\"Line\"},\"selection_glyph\":null},\"id\":\"b99274c4-3d5f-402e-a5d8-78e88ea477de\",\"type\":\"GlyphRenderer\"},{\"attributes\":{\"below\":[{\"id\":\"148b1a18-3b8e-470a-96a0-81c2c6045384\",\"type\":\"LinearAxis\"}],\"left\":[{\"id\":\"acf7c47d-2517-455a-b144-317e1bd4cd3d\",\"type\":\"LinearAxis\"}],\"renderers\":[{\"id\":\"148b1a18-3b8e-470a-96a0-81c2c6045384\",\"type\":\"LinearAxis\"},{\"id\":\"e7cff1e7-9a0c-4cb6-b55b-1bf004194f8f\",\"type\":\"Grid\"},{\"id\":\"acf7c47d-2517-455a-b144-317e1bd4cd3d\",\"type\":\"LinearAxis\"},{\"id\":\"b157d256-2ba8-4f4e-8279-91275af3927c\",\"type\":\"Grid\"},{\"id\":\"f1c58612-cdee-41c1-a15c-f41beecf2a71\",\"type\":\"BoxAnnotation\"},{\"id\":\"b99b27cd-9dab-43f9-b144-1a63233d7905\",\"type\":\"GlyphRenderer\"},{\"id\":\"4ad5db8d-f401-42f3-bcf5-bdc7b2d6349e\",\"type\":\"GlyphRenderer\"},{\"id\":\"b99274c4-3d5f-402e-a5d8-78e88ea477de\",\"type\":\"GlyphRenderer\"},{\"id\":\"032b0893-27a3-4cc7-add5-048ec09e5f24\",\"type\":\"GlyphRenderer\"},{\"id\":\"9def8e83-89ed-4187-ab84-aa48bec05852\",\"type\":\"GlyphRenderer\"},{\"id\":\"3dba1902-8846-439b-b350-0249b1c1a2d4\",\"type\":\"GlyphRenderer\"},{\"id\":\"b1a56517-d83d-4011-a48c-d1e4bf0484f1\",\"type\":\"GlyphRenderer\"},{\"id\":\"a4558d60-084e-4748-8990-f91c7bce8742\",\"type\":\"GlyphRenderer\"},{\"id\":\"14dcc6b4-6bfe-4a40-a10e-9a6aa6f3a88f\",\"type\":\"GlyphRenderer\"},{\"id\":\"04e27fd4-dc54-467b-a741-36a9c723df8f\",\"type\":\"GlyphRenderer\"},{\"id\":\"a8a48a85-4faf-46d6-bff0-f6d37cf9ec1e\",\"type\":\"GlyphRenderer\"}],\"title\":{\"id\":\"18fd584b-efc2-4280-bf4b-b9a656e09110\",\"type\":\"Title\"},\"tool_events\":{\"id\":\"806a8181-782a-4e9a-8ac6-b7de9c684874\",\"type\":\"ToolEvents\"},\"toolbar\":{\"id\":\"76ca8e3c-870a-45fe-9b4d-3563faa710dc\",\"type\":\"Toolbar\"},\"x_range\":{\"id\":\"9552bbc8-9254-40d6-ac6c-28aba3c5d564\",\"type\":\"DataRange1d\"},\"x_scale\":{\"id\":\"7e7ab310-ef0e-43d5-b39f-bcfdaa2cb742\",\"type\":\"LinearScale\"},\"y_range\":{\"id\":\"0cef3f16-8e33-4259-9b5b-b7600040ee98\",\"type\":\"DataRange1d\"},\"y_scale\":{\"id\":\"98ac5036-006e-49c2-b59f-e97f6270aa20\",\"type\":\"LinearScale\"}},\"id\":\"1d483f1e-809a-48de-88e1-b1d5eb49df8e\",\"subtype\":\"Figure\",\"type\":\"Plot\"},{\"attributes\":{\"callback\":null,\"column_names\":[\"y\",\"x\"],\"data\":{\"x\":{\"__ndarray__\":\"wFRojz6gxj8XM4pplQHgPw==\",\"dtype\":\"float64\",\"shape\":[2]},\"y\":{\"__ndarray__\":\"1YPQeDxi7z8LU412Va/uPw==\",\"dtype\":\"float64\",\"shape\":[2]}}},\"id\":\"46445d94-32a0-4ebb-bbcd-061f9cd658da\",\"type\":\"ColumnDataSource\"},{\"attributes\":{},\"id\":\"806a8181-782a-4e9a-8ac6-b7de9c684874\",\"type\":\"ToolEvents\"},{\"attributes\":{\"line_color\":{\"value\":\"#1f77b4\"},\"x\":{\"field\":\"x\"},\"y\":{\"field\":\"y\"}},\"id\":\"ac19427f-8cde-41dc-8690-6e1726485718\",\"type\":\"Line\"},{\"attributes\":{\"data_source\":{\"id\":\"30d70b05-9a62-49ff-aca9-18420af5e23a\",\"type\":\"ColumnDataSource\"},\"glyph\":{\"id\":\"aa1bc50a-3a4c-4625-96fe-7f921342c891\",\"type\":\"Line\"},\"hover_glyph\":null,\"muted_glyph\":null,\"nonselection_glyph\":{\"id\":\"3d566236-f7fe-4bd1-b26e-759f3f308e0b\",\"type\":\"Line\"},\"selection_glyph\":null},\"id\":\"4ad5db8d-f401-42f3-bcf5-bdc7b2d6349e\",\"type\":\"GlyphRenderer\"},{\"attributes\":{\"data_source\":{\"id\":\"988e45a7-a81a-4c9b-8b51-4588c6c3a812\",\"type\":\"ColumnDataSource\"},\"glyph\":{\"id\":\"f535e059-ac42-40d1-a6e7-7678ff7e013e\",\"type\":\"Line\"},\"hover_glyph\":null,\"muted_glyph\":null,\"nonselection_glyph\":{\"id\":\"99185a7c-d961-4708-b998-3394c089a78a\",\"type\":\"Line\"},\"selection_glyph\":null},\"id\":\"04e27fd4-dc54-467b-a741-36a9c723df8f\",\"type\":\"GlyphRenderer\"},{\"attributes\":{\"callback\":null,\"column_names\":[\"y\",\"x\"],\"data\":{\"x\":{\"__ndarray__\":\"rF9aiXEnwj8gJZA0OQGaPw==\",\"dtype\":\"float64\",\"shape\":[2]},\"y\":{\"__ndarray__\":\"qOIpMDyryD/Ie2gAaBXjPw==\",\"dtype\":\"float64\",\"shape\":[2]}}},\"id\":\"30d70b05-9a62-49ff-aca9-18420af5e23a\",\"type\":\"ColumnDataSource\"},{\"attributes\":{\"plot\":{\"id\":\"1d483f1e-809a-48de-88e1-b1d5eb49df8e\",\"subtype\":\"Figure\",\"type\":\"Plot\"}},\"id\":\"d3e8e1ab-13a1-4cf0-828e-c8e1fc59ee28\",\"type\":\"ResetTool\"},{\"attributes\":{},\"id\":\"deff404a-29c0-4c3f-8f9a-d5f8be30c707\",\"type\":\"BasicTicker\"},{\"attributes\":{\"data_source\":{\"id\":\"fd142046-4d90-4cd9-b179-e84775a399b3\",\"type\":\"ColumnDataSource\"},\"glyph\":{\"id\":\"77d395eb-b8c1-4e47-8c82-64e5acd0d5b2\",\"type\":\"Line\"},\"hover_glyph\":null,\"muted_glyph\":null,\"nonselection_glyph\":{\"id\":\"9576a00b-1e31-4fe5-8742-917ec11e69fa\",\"type\":\"Line\"},\"selection_glyph\":null},\"id\":\"9def8e83-89ed-4187-ab84-aa48bec05852\",\"type\":\"GlyphRenderer\"},{\"attributes\":{\"data_source\":{\"id\":\"46445d94-32a0-4ebb-bbcd-061f9cd658da\",\"type\":\"ColumnDataSource\"},\"glyph\":{\"id\":\"53d1a3e4-3e9d-4a25-886e-05bfeec9c06a\",\"type\":\"Line\"},\"hover_glyph\":null,\"muted_glyph\":null,\"nonselection_glyph\":{\"id\":\"0cbfff8d-fea1-4975-ab80-bbd1c8d5b4ea\",\"type\":\"Line\"},\"selection_glyph\":null},\"id\":\"a4558d60-084e-4748-8990-f91c7bce8742\",\"type\":\"GlyphRenderer\"},{\"attributes\":{\"line_alpha\":{\"value\":0.1},\"line_color\":{\"value\":\"#1f77b4\"},\"x\":{\"field\":\"x\"},\"y\":{\"field\":\"y\"}},\"id\":\"0cbfff8d-fea1-4975-ab80-bbd1c8d5b4ea\",\"type\":\"Line\"},{\"attributes\":{\"line_color\":{\"value\":\"#1f77b4\"},\"x\":{\"field\":\"x\"},\"y\":{\"field\":\"y\"}},\"id\":\"0c23c522-9fa9-4d3b-8949-220404786649\",\"type\":\"Line\"},{\"attributes\":{\"line_color\":{\"value\":\"#1f77b4\"},\"x\":{\"field\":\"x\"},\"y\":{\"field\":\"y\"}},\"id\":\"aa1bc50a-3a4c-4625-96fe-7f921342c891\",\"type\":\"Line\"},{\"attributes\":{\"callback\":null},\"id\":\"9552bbc8-9254-40d6-ac6c-28aba3c5d564\",\"type\":\"DataRange1d\"},{\"attributes\":{\"line_color\":{\"value\":\"#1f77b4\"},\"x\":{\"field\":\"x\"},\"y\":{\"field\":\"y\"}},\"id\":\"3eb7e7c5-38ba-4117-994c-465ba60dd9a3\",\"type\":\"Line\"},{\"attributes\":{\"plot\":{\"id\":\"1d483f1e-809a-48de-88e1-b1d5eb49df8e\",\"subtype\":\"Figure\",\"type\":\"Plot\"},\"ticker\":{\"id\":\"bcb33855-0c28-4cb2-baae-d045fdd63440\",\"type\":\"BasicTicker\"}},\"id\":\"e7cff1e7-9a0c-4cb6-b55b-1bf004194f8f\",\"type\":\"Grid\"}],\"root_ids\":[\"1d483f1e-809a-48de-88e1-b1d5eb49df8e\"]},\"title\":\"Bokeh Application\",\"version\":\"0.12.6\"}};\n",
       "            var render_items = [{\"docid\":\"aa886a44-cc7e-4289-a99a-fe420e4358bc\",\"elementid\":\"079e9f7d-c364-4619-82a2-42018e600814\",\"modelid\":\"1d483f1e-809a-48de-88e1-b1d5eb49df8e\"}];\n",
       "            \n",
       "            Bokeh.embed.embed_items(docs_json, render_items);\n",
       "          };\n",
       "          if (document.readyState != \"loading\") fn();\n",
       "          else document.addEventListener(\"DOMContentLoaded\", fn);\n",
       "        })();\n",
       "      },\n",
       "      function(Bokeh) {\n",
       "      }\n",
       "    ];\n",
       "  \n",
       "    function run_inline_js() {\n",
       "      \n",
       "      if ((window.Bokeh !== undefined) || (force === true)) {\n",
       "        for (var i = 0; i < inline_js.length; i++) {\n",
       "          inline_js[i](window.Bokeh);\n",
       "        }if (force === true) {\n",
       "          display_loaded();\n",
       "        }} else if (Date.now() < window._bokeh_timeout) {\n",
       "        setTimeout(run_inline_js, 100);\n",
       "      } else if (!window._bokeh_failed_load) {\n",
       "        console.log(\"Bokeh: BokehJS failed to load within specified timeout.\");\n",
       "        window._bokeh_failed_load = true;\n",
       "      } else if (force !== true) {\n",
       "        var cell = $(document.getElementById(\"079e9f7d-c364-4619-82a2-42018e600814\")).parents('.cell').data().cell;\n",
       "        cell.output_area.append_execute_result(NB_LOAD_WARNING)\n",
       "      }\n",
       "  \n",
       "    }\n",
       "  \n",
       "    if (window._bokeh_is_loading === 0) {\n",
       "      console.log(\"Bokeh: BokehJS loaded, going straight to plotting\");\n",
       "      run_inline_js();\n",
       "    } else {\n",
       "      load_libs(js_urls, function() {\n",
       "        console.log(\"Bokeh: BokehJS plotting callback run at\", now());\n",
       "        run_inline_js();\n",
       "      });\n",
       "    }\n",
       "  }(this));\n",
       "</script>"
      ]
     },
     "metadata": {},
     "output_type": "display_data"
    }
   ],
   "source": [
    "show(f)"
   ]
  },
  {
   "cell_type": "code",
   "execution_count": null,
   "metadata": {
    "collapsed": true
   },
   "outputs": [],
   "source": []
  }
 ],
 "metadata": {
  "kernelspec": {
   "display_name": "Python 2",
   "language": "python",
   "name": "python2"
  },
  "language_info": {
   "codemirror_mode": {
    "name": "ipython",
    "version": 2
   },
   "file_extension": ".py",
   "mimetype": "text/x-python",
   "name": "python",
   "nbconvert_exporter": "python",
   "pygments_lexer": "ipython2",
   "version": "2.7.9"
  }
 },
 "nbformat": 4,
 "nbformat_minor": 1
}
