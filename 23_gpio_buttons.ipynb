{
 "cells": [
  {
   "cell_type": "markdown",
   "metadata": {},
   "source": [
    "# GPIO Listening to Buttons!"
   ]
  },
  {
   "cell_type": "markdown",
   "metadata": {},
   "source": [
    "First order of business is to import some libraries to help send/receive signals to/from the GPIO pins of the Raspberry Pi."
   ]
  },
  {
   "cell_type": "code",
   "execution_count": null,
   "metadata": {
    "collapsed": true
   },
   "outputs": [],
   "source": [
    "import RPi.GPIO as GPIO\n",
    "import time"
   ]
  },
  {
   "cell_type": "markdown",
   "metadata": {},
   "source": [
    "The following code will set the mode to a Broadcom pin layout (which seems to be what we want).  We'll also go ahead and set up the LED output pin."
   ]
  },
  {
   "cell_type": "code",
   "execution_count": null,
   "metadata": {
    "collapsed": true
   },
   "outputs": [],
   "source": [
    "GPIO.setmode(GPIO.BCM)\n",
    "outpin = 25\n",
    "GPIO.setup(outpin, GPIO.OUT)"
   ]
  },
  {
   "cell_type": "markdown",
   "metadata": {},
   "source": [
    "## Buttons"
   ]
  },
  {
   "cell_type": "markdown",
   "metadata": {},
   "source": [
    "Buttons require us to 'listen' indefinitely for input to our GPIO pin.  We use an infinite loop to do this.  **To stop the loop, you simply click Kernel/Interrupt in the menu above.**"
   ]
  },
  {
   "cell_type": "markdown",
   "metadata": {},
   "source": [
    "Once the button is wired to the pin designated below (inpin #) with the appropriate resistors, set up the port as an input port:"
   ]
  },
  {
   "cell_type": "code",
   "execution_count": null,
   "metadata": {
    "collapsed": true
   },
   "outputs": [],
   "source": [
    "inpin = 18\n",
    "GPIO.setup(inpin, GPIO.IN, pull_up_down=GPIO.PUD_UP) # the pull_up_down keeps us from worrying about pull-up resistors"
   ]
  },
  {
   "cell_type": "code",
   "execution_count": null,
   "metadata": {},
   "outputs": [],
   "source": [
    "prev_input = 1 # looking for a 'False' as the button press signal, so we start with a \"True\"\n",
    "while True:\n",
    "    #take a reading\n",
    "    input = GPIO.input(inpin)\n",
    "    #if the last reading was low and this one high, print\n",
    "    if ((not prev_input) and input):\n",
    "        print(\"Button pressed\")\n",
    "    #update previous input\n",
    "    prev_input = input\n",
    "    #slight pause to debounce\n",
    "    time.sleep(0.05)"
   ]
  },
  {
   "cell_type": "markdown",
   "metadata": {},
   "source": [
    "So, now let's do something with that button press -- how about flashing our light, then taking a photo."
   ]
  },
  {
   "cell_type": "markdown",
   "metadata": {},
   "source": [
    "We'll first import the camera class..."
   ]
  },
  {
   "cell_type": "code",
   "execution_count": null,
   "metadata": {
    "collapsed": true
   },
   "outputs": [],
   "source": [
    "from picamera import PiCamera, Color\n",
    "from time import sleep"
   ]
  },
  {
   "cell_type": "markdown",
   "metadata": {},
   "source": [
    "We'll wait to instantiate our camera object, just so we don't crash anything with a bunch of button presses."
   ]
  },
  {
   "cell_type": "code",
   "execution_count": null,
   "metadata": {
    "collapsed": true
   },
   "outputs": [],
   "source": [
    "def blink_and_shoot(idx):\n",
    "    \"\"\" idx: an index number for photos to be stored at /img/snapshot-[idx] \"\"\"\n",
    "    \n",
    "    # set up camera\n",
    "    with PiCamera() as camera:\n",
    "        #camera.resolution = (480, 320)  # uncomment this line if you want smaller photos\n",
    "        camera.vflip = True\n",
    "        camera.hflip = True\n",
    "        camera.start_preview()\n",
    "\n",
    "        for i in range(3):\n",
    "            GPIO.output(outpin, True)\n",
    "            time.sleep(0.2)\n",
    "            GPIO.output(outpin, False)\n",
    "\n",
    "        camera.image_effect = 'oilpaint' # just to make things interesting\n",
    "        sleep(0.5)\n",
    "        camera.capture('img/snapshot-%s.jpg' % idx)\n",
    "        camera.stop_preview()\n"
   ]
  },
  {
   "cell_type": "markdown",
   "metadata": {},
   "source": [
    "Now for the infinite button loop to listen for a press:"
   ]
  },
  {
   "cell_type": "code",
   "execution_count": null,
   "metadata": {},
   "outputs": [],
   "source": [
    "prev_input = 1 # looking for a 'False' as the button press signal, so we start with a \"True\"\n",
    "counter = 1\n",
    "while True:\n",
    "    #take a reading\n",
    "    input = GPIO.input(inpin)\n",
    "    #if the last reading was low and this one high, print\n",
    "    if ((not prev_input) and input):\n",
    "        print(\"Taking photo%s\" % counter)\n",
    "        blink_and_shoot(counter)\n",
    "        counter += 1\n",
    "    #update previous input\n",
    "    prev_input = input\n",
    "    #slight pause to debounce\n",
    "    time.sleep(0.05)"
   ]
  },
  {
   "cell_type": "code",
   "execution_count": null,
   "metadata": {
    "collapsed": true
   },
   "outputs": [],
   "source": [
    "GPIO.cleanup()"
   ]
  },
  {
   "cell_type": "code",
   "execution_count": null,
   "metadata": {
    "collapsed": true
   },
   "outputs": [],
   "source": []
  }
 ],
 "metadata": {
  "kernelspec": {
   "display_name": "Python 2",
   "language": "python",
   "name": "python2"
  },
  "language_info": {
   "codemirror_mode": {
    "name": "ipython",
    "version": 2
   },
   "file_extension": ".py",
   "mimetype": "text/x-python",
   "name": "python",
   "nbconvert_exporter": "python",
   "pygments_lexer": "ipython2",
   "version": "2.7.9"
  }
 },
 "nbformat": 4,
 "nbformat_minor": 1
}
