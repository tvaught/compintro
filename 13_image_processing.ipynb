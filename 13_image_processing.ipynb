{
 "cells": [
  {
   "cell_type": "markdown",
   "metadata": {},
   "source": [
    "# Image Processing"
   ]
  },
  {
   "cell_type": "markdown",
   "metadata": {},
   "source": [
    "## Math with Pictures"
   ]
  },
  {
   "cell_type": "code",
   "execution_count": null,
   "metadata": {},
   "outputs": [],
   "source": [
    "# import a bunch of stuff that we'll use to manipulate our images...\n",
    "from skimage.io import imread\n",
    "from skimage import filters\n",
    "import numpy as np\n",
    "\n",
    "from bokeh.plotting import figure, show\n",
    "from bokeh.io import output_notebook\n",
    "\n",
    "output_notebook()"
   ]
  },
  {
   "cell_type": "markdown",
   "metadata": {},
   "source": [
    "Load in an image that we've already captured with our camera:"
   ]
  },
  {
   "cell_type": "code",
   "execution_count": null,
   "metadata": {},
   "outputs": [],
   "source": [
    "test_image = imread(\"img/frame-0.jpg\", as_grey=True)"
   ]
  },
  {
   "cell_type": "code",
   "execution_count": null,
   "metadata": {},
   "outputs": [],
   "source": [
    "test_image.shape # how big is the image?"
   ]
  },
  {
   "cell_type": "code",
   "execution_count": null,
   "metadata": {},
   "outputs": [],
   "source": [
    "p = figure(plot_width=480, plot_height=320, x_range=(0, 10), y_range=(0, 10))\n",
    "p.image(image=[test_image[::-1]], x=[0], y=[0], dw=[10], dh=[10])"
   ]
  },
  {
   "cell_type": "code",
   "execution_count": null,
   "metadata": {},
   "outputs": [],
   "source": [
    "show(p)"
   ]
  },
  {
   "cell_type": "markdown",
   "metadata": {},
   "source": [
    "So, let's compare this to another image:"
   ]
  },
  {
   "cell_type": "code",
   "execution_count": null,
   "metadata": {
    "collapsed": true
   },
   "outputs": [],
   "source": [
    "test_image2 = imread(\"img/frame-1.jpg\", as_grey=True)"
   ]
  },
  {
   "cell_type": "code",
   "execution_count": null,
   "metadata": {},
   "outputs": [],
   "source": [
    "p2 = figure(plot_width=480, plot_height=320, x_range=(0, 10), y_range=(0, 10))\n",
    "p2.image(image=[test_image2[::-1]], x=[0], y=[0], dw=[10], dh=[10])"
   ]
  },
  {
   "cell_type": "code",
   "execution_count": null,
   "metadata": {},
   "outputs": [],
   "source": [
    "show(p2)"
   ]
  },
  {
   "cell_type": "code",
   "execution_count": null,
   "metadata": {
    "collapsed": true
   },
   "outputs": [],
   "source": [
    "test_difference = test_image - test_image2"
   ]
  },
  {
   "cell_type": "code",
   "execution_count": null,
   "metadata": {},
   "outputs": [],
   "source": [
    "p3 = figure(plot_width=480, plot_height=320, x_range=(0, 10), y_range=(0, 10))\n",
    "p3.image(image=[test_difference[::-1]], x=[0], y=[0], dw=[10], dh=[10])"
   ]
  },
  {
   "cell_type": "code",
   "execution_count": null,
   "metadata": {},
   "outputs": [],
   "source": [
    "show(p3)"
   ]
  },
  {
   "cell_type": "markdown",
   "metadata": {},
   "source": [
    "### How about some more complicated math?"
   ]
  },
  {
   "cell_type": "markdown",
   "metadata": {},
   "source": [
    "Start with edge detection:"
   ]
  },
  {
   "cell_type": "code",
   "execution_count": null,
   "metadata": {
    "collapsed": true
   },
   "outputs": [],
   "source": [
    "image_roberts = filters.edges.roberts(test_image)"
   ]
  },
  {
   "cell_type": "code",
   "execution_count": null,
   "metadata": {},
   "outputs": [],
   "source": [
    "p_roberts = figure(plot_width=480, plot_height=320, x_range=(0, 10), y_range=(0, 10))\n",
    "p_roberts.image(image=[image_roberts[::-1]], x=[0], y=[0], dw=[10], dh=[10])"
   ]
  },
  {
   "cell_type": "code",
   "execution_count": null,
   "metadata": {},
   "outputs": [],
   "source": [
    "show(p_roberts)"
   ]
  },
  {
   "cell_type": "code",
   "execution_count": null,
   "metadata": {},
   "outputs": [],
   "source": [
    "image_wiener = filters.frangi(test_image)"
   ]
  },
  {
   "cell_type": "code",
   "execution_count": null,
   "metadata": {},
   "outputs": [],
   "source": [
    "p_wiener = figure(plot_width=480, plot_height=320, x_range=(0, 10), y_range=(0, 10))\n",
    "p_wiener.image(image=[image_wiener[::-1]], x=[0], y=[0], dw=[10], dh=[10])"
   ]
  },
  {
   "cell_type": "code",
   "execution_count": null,
   "metadata": {},
   "outputs": [],
   "source": [
    "show(p_wiener)"
   ]
  },
  {
   "cell_type": "markdown",
   "metadata": {},
   "source": [
    "## Watershed algorithm"
   ]
  },
  {
   "cell_type": "markdown",
   "metadata": {},
   "source": [
    "The **watershed** is a classical algorithm used for segmentation, that is, for separating different objects in an image.\n",
    "\n",
    "Here a marker image is built from the region of low gradient inside the image. In a gradient image, the areas of high values provide barriers that help to segment the image. Using markers on the lower values will ensure that the segmented objects are found.  It's like flooding the image with water according to the gradient of the color changes."
   ]
  },
  {
   "cell_type": "code",
   "execution_count": null,
   "metadata": {},
   "outputs": [],
   "source": [
    "from scipy import ndimage as ndi\n",
    "from skimage.morphology import watershed, disk\n",
    "from bokeh.palettes import Spectral6\n",
    "\n",
    "# denoise image\n",
    "denoised = filters.rank.median(test_image, disk(2))\n",
    "\n",
    "# find continuous region (low gradient -\n",
    "# where less than 10 for this image) --> markers\n",
    "# disk(5) is used here to get a more smooth image\n",
    "markers = filters.rank.gradient(denoised, disk(5)) < 10\n",
    "markers = ndi.label(markers)[0]\n",
    "\n",
    "# local gradient (disk(2) is used to keep edges thin)\n",
    "gradient = filters.rank.gradient(denoised, disk(2))\n",
    "\n",
    "# process the watershed\n",
    "labels = watershed(gradient, markers)\n"
   ]
  },
  {
   "cell_type": "code",
   "execution_count": null,
   "metadata": {},
   "outputs": [],
   "source": [
    "p_gradient = figure(plot_width=480, plot_height=320, x_range=(0, 10), y_range=(0, 10))\n",
    "p_gradient.image(image=[gradient[::-1]], x=[0], y=[0], dw=[10], dh=[10], palette=Spectral6, alpha=.7)"
   ]
  },
  {
   "cell_type": "code",
   "execution_count": null,
   "metadata": {},
   "outputs": [],
   "source": [
    "show(p_gradient)"
   ]
  },
  {
   "cell_type": "code",
   "execution_count": null,
   "metadata": {},
   "outputs": [],
   "source": [
    "p_labels = figure(plot_width=480, plot_height=320, x_range=(0, 10), y_range=(0, 10))\n",
    "p_labels.image(image=[labels[::-1]], x=[0], y=[0], dw=[10], dh=[10], palette=Spectral6, alpha=.7)"
   ]
  },
  {
   "cell_type": "code",
   "execution_count": null,
   "metadata": {},
   "outputs": [],
   "source": [
    "show(p_labels)"
   ]
  },
  {
   "cell_type": "code",
   "execution_count": null,
   "metadata": {
    "collapsed": true
   },
   "outputs": [],
   "source": []
  }
 ],
 "metadata": {
  "kernelspec": {
   "display_name": "Python 2",
   "language": "python",
   "name": "python2"
  },
  "language_info": {
   "codemirror_mode": {
    "name": "ipython",
    "version": 2
   },
   "file_extension": ".py",
   "mimetype": "text/x-python",
   "name": "python",
   "nbconvert_exporter": "python",
   "pygments_lexer": "ipython2",
   "version": "2.7.9"
  }
 },
 "nbformat": 4,
 "nbformat_minor": 1
}
